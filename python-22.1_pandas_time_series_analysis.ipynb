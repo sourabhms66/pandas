{
 "cells": [
  {
   "cell_type": "code",
   "execution_count": 1,
   "metadata": {},
   "outputs": [],
   "source": [
    "import pandas as pd\n",
    "import numpy as np"
   ]
  },
  {
   "cell_type": "code",
   "execution_count": 3,
   "metadata": {},
   "outputs": [
    {
     "data": {
      "text/plain": [
       "Timestamp('2023-01-06 08:10:00')"
      ]
     },
     "execution_count": 3,
     "metadata": {},
     "output_type": "execute_result"
    }
   ],
   "source": [
    "# Timestamp\n",
    "pd.Timestamp('6th jan 2023 8:10')"
   ]
  },
  {
   "cell_type": "code",
   "execution_count": 4,
   "metadata": {},
   "outputs": [
    {
     "data": {
      "text/plain": [
       "Timestamp('2023-01-06 08:10:00')"
      ]
     },
     "execution_count": 4,
     "metadata": {},
     "output_type": "execute_result"
    }
   ],
   "source": [
    "# DatetimeIndex -> df and series index\n",
    "pd.DatetimeIndex([pd.Timestamp('6th jan 2023 8:10'),pd.Timestamp('7th jan 2023 8:10'),pd.Timestamp('8th jan 2023 8:10')])[0]"
   ]
  },
  {
   "cell_type": "code",
   "execution_count": 5,
   "metadata": {},
   "outputs": [
    {
     "data": {
      "text/plain": [
       "DatetimeIndex(['2023-01-06', '2023-01-07', '2023-01-08', '2023-01-09',\n",
       "               '2023-01-10', '2023-01-11', '2023-01-12', '2023-01-13',\n",
       "               '2023-01-14', '2023-01-15', '2023-01-16', '2023-01-17',\n",
       "               '2023-01-18', '2023-01-19', '2023-01-20', '2023-01-21',\n",
       "               '2023-01-22', '2023-01-23', '2023-01-24', '2023-01-25',\n",
       "               '2023-01-26', '2023-01-27', '2023-01-28', '2023-01-29',\n",
       "               '2023-01-30', '2023-01-31'],\n",
       "              dtype='datetime64[ns]', freq='D')"
      ]
     },
     "execution_count": 5,
     "metadata": {},
     "output_type": "execute_result"
    }
   ],
   "source": [
    "# date_range()\n",
    "pd.date_range(start='2023-1-6',end='2023-1-31',freq='D')"
   ]
  },
  {
   "cell_type": "code",
   "execution_count": 6,
   "metadata": {},
   "outputs": [
    {
     "data": {
      "text/plain": [
       "0      Friday\n",
       "1    Saturday\n",
       "2    Saturday\n",
       "dtype: object"
      ]
     },
     "execution_count": 6,
     "metadata": {},
     "output_type": "execute_result"
    }
   ],
   "source": [
    "# to_datetime()\n",
    "s = pd.Series(['2023/1/6','2023/1/7','2023/1/7'])\n",
    "pd.to_datetime(s).dt.day_name()"
   ]
  },
  {
   "cell_type": "markdown",
   "metadata": {},
   "source": [
    "## Timedelta Object\n",
    "\n",
    "Represents a duration, the difference between two dates or times."
   ]
  },
  {
   "cell_type": "code",
   "execution_count": 8,
   "metadata": {},
   "outputs": [
    {
     "data": {
      "text/plain": [
       "Timedelta('167 days 00:00:00')"
      ]
     },
     "execution_count": 8,
     "metadata": {},
     "output_type": "execute_result"
    }
   ],
   "source": [
    "t1 = pd.Timestamp('5th jan 2024 8:20:25')\n",
    "t2 = pd.Timestamp('20th june 2024 8:20:25')\n",
    "t2 - t1"
   ]
  },
  {
   "cell_type": "markdown",
   "metadata": {},
   "source": [
    "### Creating a timedelta object"
   ]
  },
  {
   "cell_type": "code",
   "execution_count": 9,
   "metadata": {},
   "outputs": [
    {
     "data": {
      "text/plain": [
       "Timedelta('2 days 10:15:00')"
      ]
     },
     "execution_count": 9,
     "metadata": {},
     "output_type": "execute_result"
    }
   ],
   "source": [
    "pd.Timedelta(days=2,hours=10,minutes=15)"
   ]
  },
  {
   "cell_type": "markdown",
   "metadata": {},
   "source": [
    "### Arithmetic operation on timedelta objects"
   ]
  },
  {
   "cell_type": "code",
   "execution_count": 10,
   "metadata": {},
   "outputs": [
    {
     "data": {
      "text/plain": [
       "Timestamp('2023-01-08 10:35:00')"
      ]
     },
     "execution_count": 10,
     "metadata": {},
     "output_type": "execute_result"
    }
   ],
   "source": [
    "pd.Timestamp('6th jan 2023') + pd.Timedelta(days=2,hours=10,minutes=35)"
   ]
  },
  {
   "cell_type": "code",
   "execution_count": 11,
   "metadata": {},
   "outputs": [
    {
     "data": {
      "text/plain": [
       "DatetimeIndex(['2023-01-06', '2023-01-07', '2023-01-08', '2023-01-09',\n",
       "               '2023-01-10', '2023-01-11', '2023-01-12', '2023-01-13',\n",
       "               '2023-01-14', '2023-01-15', '2023-01-16', '2023-01-17',\n",
       "               '2023-01-18', '2023-01-19', '2023-01-20', '2023-01-21',\n",
       "               '2023-01-22', '2023-01-23', '2023-01-24', '2023-01-25',\n",
       "               '2023-01-26', '2023-01-27', '2023-01-28', '2023-01-29',\n",
       "               '2023-01-30', '2023-01-31'],\n",
       "              dtype='datetime64[ns]', freq='D')"
      ]
     },
     "execution_count": 11,
     "metadata": {},
     "output_type": "execute_result"
    }
   ],
   "source": [
    "pd.date_range(start='2023-1-6',end='2023-1-31',freq='D')"
   ]
  },
  {
   "cell_type": "markdown",
   "metadata": {},
   "source": [
    "### We can add/remove a timedelta object to all the date range"
   ]
  },
  {
   "cell_type": "code",
   "execution_count": 12,
   "metadata": {},
   "outputs": [
    {
     "data": {
      "text/plain": [
       "DatetimeIndex(['2023-01-08 10:35:00', '2023-01-09 10:35:00',\n",
       "               '2023-01-10 10:35:00', '2023-01-11 10:35:00',\n",
       "               '2023-01-12 10:35:00', '2023-01-13 10:35:00',\n",
       "               '2023-01-14 10:35:00', '2023-01-15 10:35:00',\n",
       "               '2023-01-16 10:35:00', '2023-01-17 10:35:00',\n",
       "               '2023-01-18 10:35:00', '2023-01-19 10:35:00',\n",
       "               '2023-01-20 10:35:00', '2023-01-21 10:35:00',\n",
       "               '2023-01-22 10:35:00', '2023-01-23 10:35:00',\n",
       "               '2023-01-24 10:35:00', '2023-01-25 10:35:00',\n",
       "               '2023-01-26 10:35:00', '2023-01-27 10:35:00',\n",
       "               '2023-01-28 10:35:00', '2023-01-29 10:35:00',\n",
       "               '2023-01-30 10:35:00', '2023-01-31 10:35:00',\n",
       "               '2023-02-01 10:35:00', '2023-02-02 10:35:00'],\n",
       "              dtype='datetime64[ns]', freq='D')"
      ]
     },
     "execution_count": 12,
     "metadata": {},
     "output_type": "execute_result"
    }
   ],
   "source": [
    "pd.date_range(start='2023-1-6',end='2023-1-31',freq='D') + pd.Timedelta(days=2,hours=10,minutes=35)"
   ]
  },
  {
   "cell_type": "markdown",
   "metadata": {},
   "source": [
    "### Let's see with a practical example"
   ]
  },
  {
   "cell_type": "code",
   "execution_count": 13,
   "metadata": {},
   "outputs": [],
   "source": [
    "df = pd.read_csv('deliveries_product.csv')"
   ]
  },
  {
   "cell_type": "code",
   "execution_count": 14,
   "metadata": {},
   "outputs": [
    {
     "data": {
      "text/html": [
       "<div>\n",
       "<style scoped>\n",
       "    .dataframe tbody tr th:only-of-type {\n",
       "        vertical-align: middle;\n",
       "    }\n",
       "\n",
       "    .dataframe tbody tr th {\n",
       "        vertical-align: top;\n",
       "    }\n",
       "\n",
       "    .dataframe thead th {\n",
       "        text-align: right;\n",
       "    }\n",
       "</style>\n",
       "<table border=\"1\" class=\"dataframe\">\n",
       "  <thead>\n",
       "    <tr style=\"text-align: right;\">\n",
       "      <th></th>\n",
       "      <th>order_date</th>\n",
       "      <th>delivery_date</th>\n",
       "    </tr>\n",
       "  </thead>\n",
       "  <tbody>\n",
       "    <tr>\n",
       "      <th>0</th>\n",
       "      <td>5/24/98</td>\n",
       "      <td>2/5/99</td>\n",
       "    </tr>\n",
       "    <tr>\n",
       "      <th>1</th>\n",
       "      <td>4/22/92</td>\n",
       "      <td>3/6/98</td>\n",
       "    </tr>\n",
       "    <tr>\n",
       "      <th>2</th>\n",
       "      <td>2/10/91</td>\n",
       "      <td>8/26/92</td>\n",
       "    </tr>\n",
       "    <tr>\n",
       "      <th>3</th>\n",
       "      <td>7/21/92</td>\n",
       "      <td>11/20/97</td>\n",
       "    </tr>\n",
       "    <tr>\n",
       "      <th>4</th>\n",
       "      <td>9/2/93</td>\n",
       "      <td>6/10/98</td>\n",
       "    </tr>\n",
       "    <tr>\n",
       "      <th>...</th>\n",
       "      <td>...</td>\n",
       "      <td>...</td>\n",
       "    </tr>\n",
       "    <tr>\n",
       "      <th>496</th>\n",
       "      <td>6/24/91</td>\n",
       "      <td>2/2/96</td>\n",
       "    </tr>\n",
       "    <tr>\n",
       "      <th>497</th>\n",
       "      <td>9/9/91</td>\n",
       "      <td>3/30/98</td>\n",
       "    </tr>\n",
       "    <tr>\n",
       "      <th>498</th>\n",
       "      <td>11/16/90</td>\n",
       "      <td>4/27/98</td>\n",
       "    </tr>\n",
       "    <tr>\n",
       "      <th>499</th>\n",
       "      <td>6/3/93</td>\n",
       "      <td>6/13/93</td>\n",
       "    </tr>\n",
       "    <tr>\n",
       "      <th>500</th>\n",
       "      <td>1/4/90</td>\n",
       "      <td>10/3/91</td>\n",
       "    </tr>\n",
       "  </tbody>\n",
       "</table>\n",
       "<p>501 rows × 2 columns</p>\n",
       "</div>"
      ],
      "text/plain": [
       "    order_date delivery_date\n",
       "0      5/24/98        2/5/99\n",
       "1      4/22/92        3/6/98\n",
       "2      2/10/91       8/26/92\n",
       "3      7/21/92      11/20/97\n",
       "4       9/2/93       6/10/98\n",
       "..         ...           ...\n",
       "496    6/24/91        2/2/96\n",
       "497     9/9/91       3/30/98\n",
       "498   11/16/90       4/27/98\n",
       "499     6/3/93       6/13/93\n",
       "500     1/4/90       10/3/91\n",
       "\n",
       "[501 rows x 2 columns]"
      ]
     },
     "execution_count": 14,
     "metadata": {},
     "output_type": "execute_result"
    }
   ],
   "source": [
    "df"
   ]
  },
  {
   "cell_type": "code",
   "execution_count": 15,
   "metadata": {},
   "outputs": [
    {
     "name": "stdout",
     "output_type": "stream",
     "text": [
      "<class 'pandas.core.frame.DataFrame'>\n",
      "RangeIndex: 501 entries, 0 to 500\n",
      "Data columns (total 2 columns):\n",
      " #   Column         Non-Null Count  Dtype \n",
      "---  ------         --------------  ----- \n",
      " 0   order_date     501 non-null    object\n",
      " 1   delivery_date  501 non-null    object\n",
      "dtypes: object(2)\n",
      "memory usage: 8.0+ KB\n"
     ]
    }
   ],
   "source": [
    "df.info()"
   ]
  },
  {
   "cell_type": "markdown",
   "metadata": {},
   "source": [
    "### Let's convert these columns to date-time object"
   ]
  },
  {
   "cell_type": "code",
   "execution_count": 19,
   "metadata": {},
   "outputs": [
    {
     "name": "stderr",
     "output_type": "stream",
     "text": [
      "/var/folders/h1/njy9595n2lj4xjmnz1st5v4h0000gn/T/ipykernel_1354/1465191423.py:1: UserWarning: Could not infer format, so each element will be parsed individually, falling back to `dateutil`. To ensure parsing is consistent and as-expected, please specify a format.\n",
      "  pd.to_datetime(df['order_date'])\n"
     ]
    },
    {
     "data": {
      "text/plain": [
       "0     1998-05-24\n",
       "1     1992-04-22\n",
       "2     1991-02-10\n",
       "3     1992-07-21\n",
       "4     1993-09-02\n",
       "         ...    \n",
       "496   1991-06-24\n",
       "497   1991-09-09\n",
       "498   1990-11-16\n",
       "499   1993-06-03\n",
       "500   1990-01-04\n",
       "Name: order_date, Length: 501, dtype: datetime64[ns]"
      ]
     },
     "execution_count": 19,
     "metadata": {},
     "output_type": "execute_result"
    }
   ],
   "source": [
    "pd.to_datetime(df['order_date'])"
   ]
  },
  {
   "cell_type": "code",
   "execution_count": 20,
   "metadata": {},
   "outputs": [
    {
     "name": "stderr",
     "output_type": "stream",
     "text": [
      "/var/folders/h1/njy9595n2lj4xjmnz1st5v4h0000gn/T/ipykernel_1354/2765250300.py:1: UserWarning: Could not infer format, so each element will be parsed individually, falling back to `dateutil`. To ensure parsing is consistent and as-expected, please specify a format.\n",
      "  df['order_date'] = pd.to_datetime(df['order_date'])\n"
     ]
    }
   ],
   "source": [
    "df['order_date'] = pd.to_datetime(df['order_date'])"
   ]
  },
  {
   "cell_type": "code",
   "execution_count": 21,
   "metadata": {},
   "outputs": [
    {
     "name": "stderr",
     "output_type": "stream",
     "text": [
      "/var/folders/h1/njy9595n2lj4xjmnz1st5v4h0000gn/T/ipykernel_1354/800468559.py:1: UserWarning: Could not infer format, so each element will be parsed individually, falling back to `dateutil`. To ensure parsing is consistent and as-expected, please specify a format.\n",
      "  df['delivery_date'] = pd.to_datetime(df['delivery_date'])\n"
     ]
    }
   ],
   "source": [
    "df['delivery_date'] = pd.to_datetime(df['delivery_date'])"
   ]
  },
  {
   "cell_type": "code",
   "execution_count": 23,
   "metadata": {},
   "outputs": [
    {
     "name": "stdout",
     "output_type": "stream",
     "text": [
      "<class 'pandas.core.frame.DataFrame'>\n",
      "RangeIndex: 501 entries, 0 to 500\n",
      "Data columns (total 2 columns):\n",
      " #   Column         Non-Null Count  Dtype         \n",
      "---  ------         --------------  -----         \n",
      " 0   order_date     501 non-null    datetime64[ns]\n",
      " 1   delivery_date  501 non-null    datetime64[ns]\n",
      "dtypes: datetime64[ns](2)\n",
      "memory usage: 8.0 KB\n"
     ]
    }
   ],
   "source": [
    "df.info()"
   ]
  },
  {
   "cell_type": "markdown",
   "metadata": {},
   "source": [
    "### let's find out time taken to deliver a prodect"
   ]
  },
  {
   "cell_type": "code",
   "execution_count": 24,
   "metadata": {},
   "outputs": [
    {
     "data": {
      "text/plain": [
       "0      257 days\n",
       "1     2144 days\n",
       "2      563 days\n",
       "3     1948 days\n",
       "4     1742 days\n",
       "         ...   \n",
       "496   1684 days\n",
       "497   2394 days\n",
       "498   2719 days\n",
       "499     10 days\n",
       "500    637 days\n",
       "Length: 501, dtype: timedelta64[ns]"
      ]
     },
     "execution_count": 24,
     "metadata": {},
     "output_type": "execute_result"
    }
   ],
   "source": [
    "df['delivery_date'] - df['order_date']"
   ]
  },
  {
   "cell_type": "markdown",
   "metadata": {},
   "source": [
    "### Add this to the dataframe"
   ]
  },
  {
   "cell_type": "code",
   "execution_count": 25,
   "metadata": {},
   "outputs": [],
   "source": [
    "df['time to deliver'] = df['delivery_date'] - df['order_date']"
   ]
  },
  {
   "cell_type": "code",
   "execution_count": 26,
   "metadata": {},
   "outputs": [
    {
     "data": {
      "text/html": [
       "<div>\n",
       "<style scoped>\n",
       "    .dataframe tbody tr th:only-of-type {\n",
       "        vertical-align: middle;\n",
       "    }\n",
       "\n",
       "    .dataframe tbody tr th {\n",
       "        vertical-align: top;\n",
       "    }\n",
       "\n",
       "    .dataframe thead th {\n",
       "        text-align: right;\n",
       "    }\n",
       "</style>\n",
       "<table border=\"1\" class=\"dataframe\">\n",
       "  <thead>\n",
       "    <tr style=\"text-align: right;\">\n",
       "      <th></th>\n",
       "      <th>order_date</th>\n",
       "      <th>delivery_date</th>\n",
       "      <th>time to deliver</th>\n",
       "    </tr>\n",
       "  </thead>\n",
       "  <tbody>\n",
       "    <tr>\n",
       "      <th>0</th>\n",
       "      <td>1998-05-24</td>\n",
       "      <td>1999-02-05</td>\n",
       "      <td>257 days</td>\n",
       "    </tr>\n",
       "    <tr>\n",
       "      <th>1</th>\n",
       "      <td>1992-04-22</td>\n",
       "      <td>1998-03-06</td>\n",
       "      <td>2144 days</td>\n",
       "    </tr>\n",
       "    <tr>\n",
       "      <th>2</th>\n",
       "      <td>1991-02-10</td>\n",
       "      <td>1992-08-26</td>\n",
       "      <td>563 days</td>\n",
       "    </tr>\n",
       "    <tr>\n",
       "      <th>3</th>\n",
       "      <td>1992-07-21</td>\n",
       "      <td>1997-11-20</td>\n",
       "      <td>1948 days</td>\n",
       "    </tr>\n",
       "    <tr>\n",
       "      <th>4</th>\n",
       "      <td>1993-09-02</td>\n",
       "      <td>1998-06-10</td>\n",
       "      <td>1742 days</td>\n",
       "    </tr>\n",
       "    <tr>\n",
       "      <th>...</th>\n",
       "      <td>...</td>\n",
       "      <td>...</td>\n",
       "      <td>...</td>\n",
       "    </tr>\n",
       "    <tr>\n",
       "      <th>496</th>\n",
       "      <td>1991-06-24</td>\n",
       "      <td>1996-02-02</td>\n",
       "      <td>1684 days</td>\n",
       "    </tr>\n",
       "    <tr>\n",
       "      <th>497</th>\n",
       "      <td>1991-09-09</td>\n",
       "      <td>1998-03-30</td>\n",
       "      <td>2394 days</td>\n",
       "    </tr>\n",
       "    <tr>\n",
       "      <th>498</th>\n",
       "      <td>1990-11-16</td>\n",
       "      <td>1998-04-27</td>\n",
       "      <td>2719 days</td>\n",
       "    </tr>\n",
       "    <tr>\n",
       "      <th>499</th>\n",
       "      <td>1993-06-03</td>\n",
       "      <td>1993-06-13</td>\n",
       "      <td>10 days</td>\n",
       "    </tr>\n",
       "    <tr>\n",
       "      <th>500</th>\n",
       "      <td>1990-01-04</td>\n",
       "      <td>1991-10-03</td>\n",
       "      <td>637 days</td>\n",
       "    </tr>\n",
       "  </tbody>\n",
       "</table>\n",
       "<p>501 rows × 3 columns</p>\n",
       "</div>"
      ],
      "text/plain": [
       "    order_date delivery_date time to deliver\n",
       "0   1998-05-24    1999-02-05        257 days\n",
       "1   1992-04-22    1998-03-06       2144 days\n",
       "2   1991-02-10    1992-08-26        563 days\n",
       "3   1992-07-21    1997-11-20       1948 days\n",
       "4   1993-09-02    1998-06-10       1742 days\n",
       "..         ...           ...             ...\n",
       "496 1991-06-24    1996-02-02       1684 days\n",
       "497 1991-09-09    1998-03-30       2394 days\n",
       "498 1990-11-16    1998-04-27       2719 days\n",
       "499 1993-06-03    1993-06-13         10 days\n",
       "500 1990-01-04    1991-10-03        637 days\n",
       "\n",
       "[501 rows x 3 columns]"
      ]
     },
     "execution_count": 26,
     "metadata": {},
     "output_type": "execute_result"
    }
   ],
   "source": [
    "df"
   ]
  },
  {
   "cell_type": "markdown",
   "metadata": {},
   "source": [
    "### average time taken for one delivery"
   ]
  },
  {
   "cell_type": "code",
   "execution_count": 27,
   "metadata": {},
   "outputs": [
    {
     "data": {
      "text/plain": [
       "Timedelta('1217 days 22:53:53.532934128')"
      ]
     },
     "execution_count": 27,
     "metadata": {},
     "output_type": "execute_result"
    }
   ],
   "source": [
    "df['time to deliver'].mean()"
   ]
  },
  {
   "cell_type": "code",
   "execution_count": 28,
   "metadata": {},
   "outputs": [],
   "source": [
    "google = pd.read_csv('GOOGL.csv')"
   ]
  },
  {
   "cell_type": "code",
   "execution_count": 29,
   "metadata": {},
   "outputs": [
    {
     "data": {
      "text/html": [
       "<div>\n",
       "<style scoped>\n",
       "    .dataframe tbody tr th:only-of-type {\n",
       "        vertical-align: middle;\n",
       "    }\n",
       "\n",
       "    .dataframe tbody tr th {\n",
       "        vertical-align: top;\n",
       "    }\n",
       "\n",
       "    .dataframe thead th {\n",
       "        text-align: right;\n",
       "    }\n",
       "</style>\n",
       "<table border=\"1\" class=\"dataframe\">\n",
       "  <thead>\n",
       "    <tr style=\"text-align: right;\">\n",
       "      <th></th>\n",
       "      <th>Date</th>\n",
       "      <th>Open</th>\n",
       "      <th>High</th>\n",
       "      <th>Low</th>\n",
       "      <th>Close</th>\n",
       "      <th>Adj Close</th>\n",
       "      <th>Volume</th>\n",
       "    </tr>\n",
       "  </thead>\n",
       "  <tbody>\n",
       "    <tr>\n",
       "      <th>0</th>\n",
       "      <td>2004-08-19</td>\n",
       "      <td>50.050049</td>\n",
       "      <td>52.082081</td>\n",
       "      <td>48.028027</td>\n",
       "      <td>50.220219</td>\n",
       "      <td>50.220219</td>\n",
       "      <td>44659096</td>\n",
       "    </tr>\n",
       "    <tr>\n",
       "      <th>1</th>\n",
       "      <td>2004-08-20</td>\n",
       "      <td>50.555557</td>\n",
       "      <td>54.594597</td>\n",
       "      <td>50.300301</td>\n",
       "      <td>54.209209</td>\n",
       "      <td>54.209209</td>\n",
       "      <td>22834343</td>\n",
       "    </tr>\n",
       "    <tr>\n",
       "      <th>2</th>\n",
       "      <td>2004-08-23</td>\n",
       "      <td>55.430431</td>\n",
       "      <td>56.796799</td>\n",
       "      <td>54.579578</td>\n",
       "      <td>54.754753</td>\n",
       "      <td>54.754753</td>\n",
       "      <td>18256126</td>\n",
       "    </tr>\n",
       "    <tr>\n",
       "      <th>3</th>\n",
       "      <td>2004-08-24</td>\n",
       "      <td>55.675674</td>\n",
       "      <td>55.855858</td>\n",
       "      <td>51.836838</td>\n",
       "      <td>52.487488</td>\n",
       "      <td>52.487488</td>\n",
       "      <td>15247337</td>\n",
       "    </tr>\n",
       "    <tr>\n",
       "      <th>4</th>\n",
       "      <td>2004-08-25</td>\n",
       "      <td>52.532532</td>\n",
       "      <td>54.054054</td>\n",
       "      <td>51.991993</td>\n",
       "      <td>53.053055</td>\n",
       "      <td>53.053055</td>\n",
       "      <td>9188602</td>\n",
       "    </tr>\n",
       "    <tr>\n",
       "      <th>...</th>\n",
       "      <td>...</td>\n",
       "      <td>...</td>\n",
       "      <td>...</td>\n",
       "      <td>...</td>\n",
       "      <td>...</td>\n",
       "      <td>...</td>\n",
       "      <td>...</td>\n",
       "    </tr>\n",
       "    <tr>\n",
       "      <th>4426</th>\n",
       "      <td>2022-03-18</td>\n",
       "      <td>2668.489990</td>\n",
       "      <td>2724.879883</td>\n",
       "      <td>2645.169922</td>\n",
       "      <td>2722.510010</td>\n",
       "      <td>2722.510010</td>\n",
       "      <td>2223100</td>\n",
       "    </tr>\n",
       "    <tr>\n",
       "      <th>4427</th>\n",
       "      <td>2022-03-21</td>\n",
       "      <td>2723.270020</td>\n",
       "      <td>2741.000000</td>\n",
       "      <td>2681.850098</td>\n",
       "      <td>2722.030029</td>\n",
       "      <td>2722.030029</td>\n",
       "      <td>1341600</td>\n",
       "    </tr>\n",
       "    <tr>\n",
       "      <th>4428</th>\n",
       "      <td>2022-03-22</td>\n",
       "      <td>2722.030029</td>\n",
       "      <td>2821.000000</td>\n",
       "      <td>2722.030029</td>\n",
       "      <td>2797.360107</td>\n",
       "      <td>2797.360107</td>\n",
       "      <td>1774800</td>\n",
       "    </tr>\n",
       "    <tr>\n",
       "      <th>4429</th>\n",
       "      <td>2022-03-23</td>\n",
       "      <td>2774.050049</td>\n",
       "      <td>2791.770020</td>\n",
       "      <td>2756.699951</td>\n",
       "      <td>2765.510010</td>\n",
       "      <td>2765.510010</td>\n",
       "      <td>1257700</td>\n",
       "    </tr>\n",
       "    <tr>\n",
       "      <th>4430</th>\n",
       "      <td>2022-03-24</td>\n",
       "      <td>2784.000000</td>\n",
       "      <td>2832.379883</td>\n",
       "      <td>2755.010010</td>\n",
       "      <td>2831.439941</td>\n",
       "      <td>2831.439941</td>\n",
       "      <td>1317900</td>\n",
       "    </tr>\n",
       "  </tbody>\n",
       "</table>\n",
       "<p>4431 rows × 7 columns</p>\n",
       "</div>"
      ],
      "text/plain": [
       "            Date         Open         High          Low        Close  \\\n",
       "0     2004-08-19    50.050049    52.082081    48.028027    50.220219   \n",
       "1     2004-08-20    50.555557    54.594597    50.300301    54.209209   \n",
       "2     2004-08-23    55.430431    56.796799    54.579578    54.754753   \n",
       "3     2004-08-24    55.675674    55.855858    51.836838    52.487488   \n",
       "4     2004-08-25    52.532532    54.054054    51.991993    53.053055   \n",
       "...          ...          ...          ...          ...          ...   \n",
       "4426  2022-03-18  2668.489990  2724.879883  2645.169922  2722.510010   \n",
       "4427  2022-03-21  2723.270020  2741.000000  2681.850098  2722.030029   \n",
       "4428  2022-03-22  2722.030029  2821.000000  2722.030029  2797.360107   \n",
       "4429  2022-03-23  2774.050049  2791.770020  2756.699951  2765.510010   \n",
       "4430  2022-03-24  2784.000000  2832.379883  2755.010010  2831.439941   \n",
       "\n",
       "        Adj Close    Volume  \n",
       "0       50.220219  44659096  \n",
       "1       54.209209  22834343  \n",
       "2       54.754753  18256126  \n",
       "3       52.487488  15247337  \n",
       "4       53.053055   9188602  \n",
       "...           ...       ...  \n",
       "4426  2722.510010   2223100  \n",
       "4427  2722.030029   1341600  \n",
       "4428  2797.360107   1774800  \n",
       "4429  2765.510010   1257700  \n",
       "4430  2831.439941   1317900  \n",
       "\n",
       "[4431 rows x 7 columns]"
      ]
     },
     "execution_count": 29,
     "metadata": {},
     "output_type": "execute_result"
    }
   ],
   "source": [
    "google"
   ]
  },
  {
   "cell_type": "code",
   "execution_count": 30,
   "metadata": {},
   "outputs": [],
   "source": [
    "login = pd.read_csv('login.csv')"
   ]
  },
  {
   "cell_type": "code",
   "execution_count": 31,
   "metadata": {},
   "outputs": [
    {
     "data": {
      "text/html": [
       "<div>\n",
       "<style scoped>\n",
       "    .dataframe tbody tr th:only-of-type {\n",
       "        vertical-align: middle;\n",
       "    }\n",
       "\n",
       "    .dataframe tbody tr th {\n",
       "        vertical-align: top;\n",
       "    }\n",
       "\n",
       "    .dataframe thead th {\n",
       "        text-align: right;\n",
       "    }\n",
       "</style>\n",
       "<table border=\"1\" class=\"dataframe\">\n",
       "  <thead>\n",
       "    <tr style=\"text-align: right;\">\n",
       "      <th></th>\n",
       "      <th>1</th>\n",
       "      <th>466</th>\n",
       "      <th>2017-01-07 18:24:07</th>\n",
       "      <th>Unnamed: 3</th>\n",
       "    </tr>\n",
       "  </thead>\n",
       "  <tbody>\n",
       "    <tr>\n",
       "      <th>0</th>\n",
       "      <td>2</td>\n",
       "      <td>466</td>\n",
       "      <td>2017-01-07 18:24:55</td>\n",
       "      <td>NaN</td>\n",
       "    </tr>\n",
       "    <tr>\n",
       "      <th>1</th>\n",
       "      <td>3</td>\n",
       "      <td>458</td>\n",
       "      <td>2017-01-07 18:25:18</td>\n",
       "      <td>NaN</td>\n",
       "    </tr>\n",
       "    <tr>\n",
       "      <th>2</th>\n",
       "      <td>4</td>\n",
       "      <td>458</td>\n",
       "      <td>2017-01-07 18:26:21</td>\n",
       "      <td>NaN</td>\n",
       "    </tr>\n",
       "    <tr>\n",
       "      <th>3</th>\n",
       "      <td>5</td>\n",
       "      <td>592</td>\n",
       "      <td>2017-01-07 19:09:59</td>\n",
       "      <td>NaN</td>\n",
       "    </tr>\n",
       "    <tr>\n",
       "      <th>4</th>\n",
       "      <td>6</td>\n",
       "      <td>393</td>\n",
       "      <td>2017-01-08 00:41:19</td>\n",
       "      <td>NaN</td>\n",
       "    </tr>\n",
       "    <tr>\n",
       "      <th>...</th>\n",
       "      <td>...</td>\n",
       "      <td>...</td>\n",
       "      <td>...</td>\n",
       "      <td>...</td>\n",
       "    </tr>\n",
       "    <tr>\n",
       "      <th>2997</th>\n",
       "      <td>2999</td>\n",
       "      <td>1307</td>\n",
       "      <td>2018-01-04 10:48:28</td>\n",
       "      <td>183.82.121.201</td>\n",
       "    </tr>\n",
       "    <tr>\n",
       "      <th>2998</th>\n",
       "      <td>3000</td>\n",
       "      <td>1230</td>\n",
       "      <td>2018-01-04 11:22:00</td>\n",
       "      <td>47.247.147.114</td>\n",
       "    </tr>\n",
       "    <tr>\n",
       "      <th>2999</th>\n",
       "      <td>3001</td>\n",
       "      <td>1307</td>\n",
       "      <td>2018-01-04 13:13:44</td>\n",
       "      <td>183.82.121.201</td>\n",
       "    </tr>\n",
       "    <tr>\n",
       "      <th>3000</th>\n",
       "      <td>3002</td>\n",
       "      <td>1307</td>\n",
       "      <td>2018-01-04 13:13:45</td>\n",
       "      <td>183.82.121.201</td>\n",
       "    </tr>\n",
       "    <tr>\n",
       "      <th>3001</th>\n",
       "      <td>3003</td>\n",
       "      <td>1224</td>\n",
       "      <td>2018-01-04 14:10:04</td>\n",
       "      <td>182.75.77.58</td>\n",
       "    </tr>\n",
       "  </tbody>\n",
       "</table>\n",
       "<p>3002 rows × 4 columns</p>\n",
       "</div>"
      ],
      "text/plain": [
       "         1   466  2017-01-07 18:24:07      Unnamed: 3\n",
       "0        2   466  2017-01-07 18:24:55             NaN\n",
       "1        3   458  2017-01-07 18:25:18             NaN\n",
       "2        4   458  2017-01-07 18:26:21             NaN\n",
       "3        5   592  2017-01-07 19:09:59             NaN\n",
       "4        6   393  2017-01-08 00:41:19             NaN\n",
       "...    ...   ...                  ...             ...\n",
       "2997  2999  1307  2018-01-04 10:48:28  183.82.121.201\n",
       "2998  3000  1230  2018-01-04 11:22:00  47.247.147.114\n",
       "2999  3001  1307  2018-01-04 13:13:44  183.82.121.201\n",
       "3000  3002  1307  2018-01-04 13:13:45  183.82.121.201\n",
       "3001  3003  1224  2018-01-04 14:10:04    182.75.77.58\n",
       "\n",
       "[3002 rows x 4 columns]"
      ]
     },
     "execution_count": 31,
     "metadata": {},
     "output_type": "execute_result"
    }
   ],
   "source": [
    "login"
   ]
  },
  {
   "cell_type": "code",
   "execution_count": 32,
   "metadata": {},
   "outputs": [
    {
     "name": "stdout",
     "output_type": "stream",
     "text": [
      "<class 'pandas.core.frame.DataFrame'>\n",
      "RangeIndex: 4431 entries, 0 to 4430\n",
      "Data columns (total 7 columns):\n",
      " #   Column     Non-Null Count  Dtype  \n",
      "---  ------     --------------  -----  \n",
      " 0   Date       4431 non-null   object \n",
      " 1   Open       4431 non-null   float64\n",
      " 2   High       4431 non-null   float64\n",
      " 3   Low        4431 non-null   float64\n",
      " 4   Close      4431 non-null   float64\n",
      " 5   Adj Close  4431 non-null   float64\n",
      " 6   Volume     4431 non-null   int64  \n",
      "dtypes: float64(5), int64(1), object(1)\n",
      "memory usage: 242.4+ KB\n"
     ]
    }
   ],
   "source": [
    "google.info()"
   ]
  },
  {
   "cell_type": "code",
   "execution_count": 34,
   "metadata": {},
   "outputs": [],
   "source": [
    "google['Date'] = pd.to_datetime(google['Date'])"
   ]
  },
  {
   "cell_type": "code",
   "execution_count": 35,
   "metadata": {},
   "outputs": [
    {
     "name": "stdout",
     "output_type": "stream",
     "text": [
      "<class 'pandas.core.frame.DataFrame'>\n",
      "RangeIndex: 4431 entries, 0 to 4430\n",
      "Data columns (total 7 columns):\n",
      " #   Column     Non-Null Count  Dtype         \n",
      "---  ------     --------------  -----         \n",
      " 0   Date       4431 non-null   datetime64[ns]\n",
      " 1   Open       4431 non-null   float64       \n",
      " 2   High       4431 non-null   float64       \n",
      " 3   Low        4431 non-null   float64       \n",
      " 4   Close      4431 non-null   float64       \n",
      " 5   Adj Close  4431 non-null   float64       \n",
      " 6   Volume     4431 non-null   int64         \n",
      "dtypes: datetime64[ns](1), float64(5), int64(1)\n",
      "memory usage: 242.4 KB\n"
     ]
    }
   ],
   "source": [
    "google.info()"
   ]
  },
  {
   "cell_type": "markdown",
   "metadata": {},
   "source": [
    "### It is suggested that make your date column as index"
   ]
  },
  {
   "cell_type": "code",
   "execution_count": 36,
   "metadata": {},
   "outputs": [
    {
     "data": {
      "text/html": [
       "<div>\n",
       "<style scoped>\n",
       "    .dataframe tbody tr th:only-of-type {\n",
       "        vertical-align: middle;\n",
       "    }\n",
       "\n",
       "    .dataframe tbody tr th {\n",
       "        vertical-align: top;\n",
       "    }\n",
       "\n",
       "    .dataframe thead th {\n",
       "        text-align: right;\n",
       "    }\n",
       "</style>\n",
       "<table border=\"1\" class=\"dataframe\">\n",
       "  <thead>\n",
       "    <tr style=\"text-align: right;\">\n",
       "      <th></th>\n",
       "      <th>Open</th>\n",
       "      <th>High</th>\n",
       "      <th>Low</th>\n",
       "      <th>Close</th>\n",
       "      <th>Adj Close</th>\n",
       "      <th>Volume</th>\n",
       "    </tr>\n",
       "    <tr>\n",
       "      <th>Date</th>\n",
       "      <th></th>\n",
       "      <th></th>\n",
       "      <th></th>\n",
       "      <th></th>\n",
       "      <th></th>\n",
       "      <th></th>\n",
       "    </tr>\n",
       "  </thead>\n",
       "  <tbody>\n",
       "    <tr>\n",
       "      <th>2004-08-19</th>\n",
       "      <td>50.050049</td>\n",
       "      <td>52.082081</td>\n",
       "      <td>48.028027</td>\n",
       "      <td>50.220219</td>\n",
       "      <td>50.220219</td>\n",
       "      <td>44659096</td>\n",
       "    </tr>\n",
       "    <tr>\n",
       "      <th>2004-08-20</th>\n",
       "      <td>50.555557</td>\n",
       "      <td>54.594597</td>\n",
       "      <td>50.300301</td>\n",
       "      <td>54.209209</td>\n",
       "      <td>54.209209</td>\n",
       "      <td>22834343</td>\n",
       "    </tr>\n",
       "    <tr>\n",
       "      <th>2004-08-23</th>\n",
       "      <td>55.430431</td>\n",
       "      <td>56.796799</td>\n",
       "      <td>54.579578</td>\n",
       "      <td>54.754753</td>\n",
       "      <td>54.754753</td>\n",
       "      <td>18256126</td>\n",
       "    </tr>\n",
       "    <tr>\n",
       "      <th>2004-08-24</th>\n",
       "      <td>55.675674</td>\n",
       "      <td>55.855858</td>\n",
       "      <td>51.836838</td>\n",
       "      <td>52.487488</td>\n",
       "      <td>52.487488</td>\n",
       "      <td>15247337</td>\n",
       "    </tr>\n",
       "    <tr>\n",
       "      <th>2004-08-25</th>\n",
       "      <td>52.532532</td>\n",
       "      <td>54.054054</td>\n",
       "      <td>51.991993</td>\n",
       "      <td>53.053055</td>\n",
       "      <td>53.053055</td>\n",
       "      <td>9188602</td>\n",
       "    </tr>\n",
       "    <tr>\n",
       "      <th>...</th>\n",
       "      <td>...</td>\n",
       "      <td>...</td>\n",
       "      <td>...</td>\n",
       "      <td>...</td>\n",
       "      <td>...</td>\n",
       "      <td>...</td>\n",
       "    </tr>\n",
       "    <tr>\n",
       "      <th>2022-03-18</th>\n",
       "      <td>2668.489990</td>\n",
       "      <td>2724.879883</td>\n",
       "      <td>2645.169922</td>\n",
       "      <td>2722.510010</td>\n",
       "      <td>2722.510010</td>\n",
       "      <td>2223100</td>\n",
       "    </tr>\n",
       "    <tr>\n",
       "      <th>2022-03-21</th>\n",
       "      <td>2723.270020</td>\n",
       "      <td>2741.000000</td>\n",
       "      <td>2681.850098</td>\n",
       "      <td>2722.030029</td>\n",
       "      <td>2722.030029</td>\n",
       "      <td>1341600</td>\n",
       "    </tr>\n",
       "    <tr>\n",
       "      <th>2022-03-22</th>\n",
       "      <td>2722.030029</td>\n",
       "      <td>2821.000000</td>\n",
       "      <td>2722.030029</td>\n",
       "      <td>2797.360107</td>\n",
       "      <td>2797.360107</td>\n",
       "      <td>1774800</td>\n",
       "    </tr>\n",
       "    <tr>\n",
       "      <th>2022-03-23</th>\n",
       "      <td>2774.050049</td>\n",
       "      <td>2791.770020</td>\n",
       "      <td>2756.699951</td>\n",
       "      <td>2765.510010</td>\n",
       "      <td>2765.510010</td>\n",
       "      <td>1257700</td>\n",
       "    </tr>\n",
       "    <tr>\n",
       "      <th>2022-03-24</th>\n",
       "      <td>2784.000000</td>\n",
       "      <td>2832.379883</td>\n",
       "      <td>2755.010010</td>\n",
       "      <td>2831.439941</td>\n",
       "      <td>2831.439941</td>\n",
       "      <td>1317900</td>\n",
       "    </tr>\n",
       "  </tbody>\n",
       "</table>\n",
       "<p>4431 rows × 6 columns</p>\n",
       "</div>"
      ],
      "text/plain": [
       "                   Open         High          Low        Close    Adj Close  \\\n",
       "Date                                                                          \n",
       "2004-08-19    50.050049    52.082081    48.028027    50.220219    50.220219   \n",
       "2004-08-20    50.555557    54.594597    50.300301    54.209209    54.209209   \n",
       "2004-08-23    55.430431    56.796799    54.579578    54.754753    54.754753   \n",
       "2004-08-24    55.675674    55.855858    51.836838    52.487488    52.487488   \n",
       "2004-08-25    52.532532    54.054054    51.991993    53.053055    53.053055   \n",
       "...                 ...          ...          ...          ...          ...   \n",
       "2022-03-18  2668.489990  2724.879883  2645.169922  2722.510010  2722.510010   \n",
       "2022-03-21  2723.270020  2741.000000  2681.850098  2722.030029  2722.030029   \n",
       "2022-03-22  2722.030029  2821.000000  2722.030029  2797.360107  2797.360107   \n",
       "2022-03-23  2774.050049  2791.770020  2756.699951  2765.510010  2765.510010   \n",
       "2022-03-24  2784.000000  2832.379883  2755.010010  2831.439941  2831.439941   \n",
       "\n",
       "              Volume  \n",
       "Date                  \n",
       "2004-08-19  44659096  \n",
       "2004-08-20  22834343  \n",
       "2004-08-23  18256126  \n",
       "2004-08-24  15247337  \n",
       "2004-08-25   9188602  \n",
       "...              ...  \n",
       "2022-03-18   2223100  \n",
       "2022-03-21   1341600  \n",
       "2022-03-22   1774800  \n",
       "2022-03-23   1257700  \n",
       "2022-03-24   1317900  \n",
       "\n",
       "[4431 rows x 6 columns]"
      ]
     },
     "execution_count": 36,
     "metadata": {},
     "output_type": "execute_result"
    }
   ],
   "source": [
    "google.set_index('Date')"
   ]
  },
  {
   "cell_type": "code",
   "execution_count": 37,
   "metadata": {},
   "outputs": [],
   "source": [
    "google.set_index('Date',inplace=True)"
   ]
  },
  {
   "cell_type": "code",
   "execution_count": 38,
   "metadata": {},
   "outputs": [
    {
     "data": {
      "text/html": [
       "<div>\n",
       "<style scoped>\n",
       "    .dataframe tbody tr th:only-of-type {\n",
       "        vertical-align: middle;\n",
       "    }\n",
       "\n",
       "    .dataframe tbody tr th {\n",
       "        vertical-align: top;\n",
       "    }\n",
       "\n",
       "    .dataframe thead th {\n",
       "        text-align: right;\n",
       "    }\n",
       "</style>\n",
       "<table border=\"1\" class=\"dataframe\">\n",
       "  <thead>\n",
       "    <tr style=\"text-align: right;\">\n",
       "      <th></th>\n",
       "      <th>Open</th>\n",
       "      <th>High</th>\n",
       "      <th>Low</th>\n",
       "      <th>Close</th>\n",
       "      <th>Adj Close</th>\n",
       "      <th>Volume</th>\n",
       "    </tr>\n",
       "    <tr>\n",
       "      <th>Date</th>\n",
       "      <th></th>\n",
       "      <th></th>\n",
       "      <th></th>\n",
       "      <th></th>\n",
       "      <th></th>\n",
       "      <th></th>\n",
       "    </tr>\n",
       "  </thead>\n",
       "  <tbody>\n",
       "    <tr>\n",
       "      <th>2004-08-19</th>\n",
       "      <td>50.050049</td>\n",
       "      <td>52.082081</td>\n",
       "      <td>48.028027</td>\n",
       "      <td>50.220219</td>\n",
       "      <td>50.220219</td>\n",
       "      <td>44659096</td>\n",
       "    </tr>\n",
       "    <tr>\n",
       "      <th>2004-08-20</th>\n",
       "      <td>50.555557</td>\n",
       "      <td>54.594597</td>\n",
       "      <td>50.300301</td>\n",
       "      <td>54.209209</td>\n",
       "      <td>54.209209</td>\n",
       "      <td>22834343</td>\n",
       "    </tr>\n",
       "    <tr>\n",
       "      <th>2004-08-23</th>\n",
       "      <td>55.430431</td>\n",
       "      <td>56.796799</td>\n",
       "      <td>54.579578</td>\n",
       "      <td>54.754753</td>\n",
       "      <td>54.754753</td>\n",
       "      <td>18256126</td>\n",
       "    </tr>\n",
       "    <tr>\n",
       "      <th>2004-08-24</th>\n",
       "      <td>55.675674</td>\n",
       "      <td>55.855858</td>\n",
       "      <td>51.836838</td>\n",
       "      <td>52.487488</td>\n",
       "      <td>52.487488</td>\n",
       "      <td>15247337</td>\n",
       "    </tr>\n",
       "    <tr>\n",
       "      <th>2004-08-25</th>\n",
       "      <td>52.532532</td>\n",
       "      <td>54.054054</td>\n",
       "      <td>51.991993</td>\n",
       "      <td>53.053055</td>\n",
       "      <td>53.053055</td>\n",
       "      <td>9188602</td>\n",
       "    </tr>\n",
       "    <tr>\n",
       "      <th>...</th>\n",
       "      <td>...</td>\n",
       "      <td>...</td>\n",
       "      <td>...</td>\n",
       "      <td>...</td>\n",
       "      <td>...</td>\n",
       "      <td>...</td>\n",
       "    </tr>\n",
       "    <tr>\n",
       "      <th>2022-03-18</th>\n",
       "      <td>2668.489990</td>\n",
       "      <td>2724.879883</td>\n",
       "      <td>2645.169922</td>\n",
       "      <td>2722.510010</td>\n",
       "      <td>2722.510010</td>\n",
       "      <td>2223100</td>\n",
       "    </tr>\n",
       "    <tr>\n",
       "      <th>2022-03-21</th>\n",
       "      <td>2723.270020</td>\n",
       "      <td>2741.000000</td>\n",
       "      <td>2681.850098</td>\n",
       "      <td>2722.030029</td>\n",
       "      <td>2722.030029</td>\n",
       "      <td>1341600</td>\n",
       "    </tr>\n",
       "    <tr>\n",
       "      <th>2022-03-22</th>\n",
       "      <td>2722.030029</td>\n",
       "      <td>2821.000000</td>\n",
       "      <td>2722.030029</td>\n",
       "      <td>2797.360107</td>\n",
       "      <td>2797.360107</td>\n",
       "      <td>1774800</td>\n",
       "    </tr>\n",
       "    <tr>\n",
       "      <th>2022-03-23</th>\n",
       "      <td>2774.050049</td>\n",
       "      <td>2791.770020</td>\n",
       "      <td>2756.699951</td>\n",
       "      <td>2765.510010</td>\n",
       "      <td>2765.510010</td>\n",
       "      <td>1257700</td>\n",
       "    </tr>\n",
       "    <tr>\n",
       "      <th>2022-03-24</th>\n",
       "      <td>2784.000000</td>\n",
       "      <td>2832.379883</td>\n",
       "      <td>2755.010010</td>\n",
       "      <td>2831.439941</td>\n",
       "      <td>2831.439941</td>\n",
       "      <td>1317900</td>\n",
       "    </tr>\n",
       "  </tbody>\n",
       "</table>\n",
       "<p>4431 rows × 6 columns</p>\n",
       "</div>"
      ],
      "text/plain": [
       "                   Open         High          Low        Close    Adj Close  \\\n",
       "Date                                                                          \n",
       "2004-08-19    50.050049    52.082081    48.028027    50.220219    50.220219   \n",
       "2004-08-20    50.555557    54.594597    50.300301    54.209209    54.209209   \n",
       "2004-08-23    55.430431    56.796799    54.579578    54.754753    54.754753   \n",
       "2004-08-24    55.675674    55.855858    51.836838    52.487488    52.487488   \n",
       "2004-08-25    52.532532    54.054054    51.991993    53.053055    53.053055   \n",
       "...                 ...          ...          ...          ...          ...   \n",
       "2022-03-18  2668.489990  2724.879883  2645.169922  2722.510010  2722.510010   \n",
       "2022-03-21  2723.270020  2741.000000  2681.850098  2722.030029  2722.030029   \n",
       "2022-03-22  2722.030029  2821.000000  2722.030029  2797.360107  2797.360107   \n",
       "2022-03-23  2774.050049  2791.770020  2756.699951  2765.510010  2765.510010   \n",
       "2022-03-24  2784.000000  2832.379883  2755.010010  2831.439941  2831.439941   \n",
       "\n",
       "              Volume  \n",
       "Date                  \n",
       "2004-08-19  44659096  \n",
       "2004-08-20  22834343  \n",
       "2004-08-23  18256126  \n",
       "2004-08-24  15247337  \n",
       "2004-08-25   9188602  \n",
       "...              ...  \n",
       "2022-03-18   2223100  \n",
       "2022-03-21   1341600  \n",
       "2022-03-22   1774800  \n",
       "2022-03-23   1257700  \n",
       "2022-03-24   1317900  \n",
       "\n",
       "[4431 rows x 6 columns]"
      ]
     },
     "execution_count": 38,
     "metadata": {},
     "output_type": "execute_result"
    }
   ],
   "source": [
    "google"
   ]
  },
  {
   "cell_type": "markdown",
   "metadata": {},
   "source": [
    "### to see a perticulare date the values"
   ]
  },
  {
   "cell_type": "code",
   "execution_count": 40,
   "metadata": {},
   "outputs": [
    {
     "data": {
      "text/plain": [
       "Open         1.641642e+02\n",
       "High         1.648849e+02\n",
       "Low          1.548899e+02\n",
       "Close        1.595495e+02\n",
       "Adj Close    1.595495e+02\n",
       "Volume       1.614404e+07\n",
       "Name: 2008-11-10 00:00:00, dtype: float64"
      ]
     },
     "execution_count": 40,
     "metadata": {},
     "output_type": "execute_result"
    }
   ],
   "source": [
    "google.loc['2008-11-10']"
   ]
  },
  {
   "cell_type": "markdown",
   "metadata": {},
   "source": [
    "### to see the google performance for perticuler month"
   ]
  },
  {
   "cell_type": "code",
   "execution_count": 41,
   "metadata": {},
   "outputs": [
    {
     "data": {
      "text/html": [
       "<div>\n",
       "<style scoped>\n",
       "    .dataframe tbody tr th:only-of-type {\n",
       "        vertical-align: middle;\n",
       "    }\n",
       "\n",
       "    .dataframe tbody tr th {\n",
       "        vertical-align: top;\n",
       "    }\n",
       "\n",
       "    .dataframe thead th {\n",
       "        text-align: right;\n",
       "    }\n",
       "</style>\n",
       "<table border=\"1\" class=\"dataframe\">\n",
       "  <thead>\n",
       "    <tr style=\"text-align: right;\">\n",
       "      <th></th>\n",
       "      <th>Open</th>\n",
       "      <th>High</th>\n",
       "      <th>Low</th>\n",
       "      <th>Close</th>\n",
       "      <th>Adj Close</th>\n",
       "      <th>Volume</th>\n",
       "    </tr>\n",
       "    <tr>\n",
       "      <th>Date</th>\n",
       "      <th></th>\n",
       "      <th></th>\n",
       "      <th></th>\n",
       "      <th></th>\n",
       "      <th></th>\n",
       "      <th></th>\n",
       "    </tr>\n",
       "  </thead>\n",
       "  <tbody>\n",
       "    <tr>\n",
       "      <th>2012-08-01</th>\n",
       "      <td>318.968964</td>\n",
       "      <td>320.075073</td>\n",
       "      <td>316.006012</td>\n",
       "      <td>316.656647</td>\n",
       "      <td>316.656647</td>\n",
       "      <td>3685511</td>\n",
       "    </tr>\n",
       "    <tr>\n",
       "      <th>2012-08-02</th>\n",
       "      <td>313.068054</td>\n",
       "      <td>319.334320</td>\n",
       "      <td>312.017029</td>\n",
       "      <td>314.689697</td>\n",
       "      <td>314.689697</td>\n",
       "      <td>3951445</td>\n",
       "    </tr>\n",
       "    <tr>\n",
       "      <th>2012-08-03</th>\n",
       "      <td>320.320313</td>\n",
       "      <td>322.182190</td>\n",
       "      <td>318.388397</td>\n",
       "      <td>320.985992</td>\n",
       "      <td>320.985992</td>\n",
       "      <td>3790406</td>\n",
       "    </tr>\n",
       "    <tr>\n",
       "      <th>2012-08-06</th>\n",
       "      <td>320.125122</td>\n",
       "      <td>325.015015</td>\n",
       "      <td>319.929932</td>\n",
       "      <td>321.731720</td>\n",
       "      <td>321.731720</td>\n",
       "      <td>3561235</td>\n",
       "    </tr>\n",
       "    <tr>\n",
       "      <th>2012-08-07</th>\n",
       "      <td>321.216217</td>\n",
       "      <td>322.452454</td>\n",
       "      <td>318.553558</td>\n",
       "      <td>320.590576</td>\n",
       "      <td>320.590576</td>\n",
       "      <td>3959636</td>\n",
       "    </tr>\n",
       "    <tr>\n",
       "      <th>2012-08-08</th>\n",
       "      <td>319.844849</td>\n",
       "      <td>323.258270</td>\n",
       "      <td>319.569580</td>\n",
       "      <td>321.436432</td>\n",
       "      <td>321.436432</td>\n",
       "      <td>2641756</td>\n",
       "    </tr>\n",
       "    <tr>\n",
       "      <th>2012-08-09</th>\n",
       "      <td>322.577576</td>\n",
       "      <td>323.508514</td>\n",
       "      <td>321.081085</td>\n",
       "      <td>321.496490</td>\n",
       "      <td>321.496490</td>\n",
       "      <td>2138459</td>\n",
       "    </tr>\n",
       "    <tr>\n",
       "      <th>2012-08-10</th>\n",
       "      <td>319.614624</td>\n",
       "      <td>321.441437</td>\n",
       "      <td>318.383392</td>\n",
       "      <td>321.321320</td>\n",
       "      <td>321.321320</td>\n",
       "      <td>2866331</td>\n",
       "    </tr>\n",
       "    <tr>\n",
       "      <th>2012-08-13</th>\n",
       "      <td>324.034027</td>\n",
       "      <td>330.405396</td>\n",
       "      <td>323.663666</td>\n",
       "      <td>330.335327</td>\n",
       "      <td>330.335327</td>\n",
       "      <td>6529264</td>\n",
       "    </tr>\n",
       "    <tr>\n",
       "      <th>2012-08-14</th>\n",
       "      <td>329.954956</td>\n",
       "      <td>336.761749</td>\n",
       "      <td>329.829834</td>\n",
       "      <td>334.664673</td>\n",
       "      <td>334.664673</td>\n",
       "      <td>7316077</td>\n",
       "    </tr>\n",
       "    <tr>\n",
       "      <th>2012-08-15</th>\n",
       "      <td>335.475464</td>\n",
       "      <td>337.462463</td>\n",
       "      <td>332.382385</td>\n",
       "      <td>334.104095</td>\n",
       "      <td>334.104095</td>\n",
       "      <td>4816579</td>\n",
       "    </tr>\n",
       "    <tr>\n",
       "      <th>2012-08-16</th>\n",
       "      <td>334.089081</td>\n",
       "      <td>337.657654</td>\n",
       "      <td>333.873871</td>\n",
       "      <td>336.771759</td>\n",
       "      <td>336.771759</td>\n",
       "      <td>3431965</td>\n",
       "    </tr>\n",
       "    <tr>\n",
       "      <th>2012-08-17</th>\n",
       "      <td>337.397400</td>\n",
       "      <td>338.963959</td>\n",
       "      <td>336.186188</td>\n",
       "      <td>338.908905</td>\n",
       "      <td>338.908905</td>\n",
       "      <td>4351045</td>\n",
       "    </tr>\n",
       "    <tr>\n",
       "      <th>2012-08-20</th>\n",
       "      <td>338.088074</td>\n",
       "      <td>339.774780</td>\n",
       "      <td>336.666656</td>\n",
       "      <td>338.108093</td>\n",
       "      <td>338.108093</td>\n",
       "      <td>3512684</td>\n",
       "    </tr>\n",
       "    <tr>\n",
       "      <th>2012-08-21</th>\n",
       "      <td>336.891907</td>\n",
       "      <td>339.339325</td>\n",
       "      <td>331.416412</td>\n",
       "      <td>335.090088</td>\n",
       "      <td>335.090088</td>\n",
       "      <td>4439956</td>\n",
       "    </tr>\n",
       "    <tr>\n",
       "      <th>2012-08-22</th>\n",
       "      <td>334.024017</td>\n",
       "      <td>340.640656</td>\n",
       "      <td>333.683685</td>\n",
       "      <td>338.928925</td>\n",
       "      <td>338.928925</td>\n",
       "      <td>3814582</td>\n",
       "    </tr>\n",
       "    <tr>\n",
       "      <th>2012-08-23</th>\n",
       "      <td>337.472473</td>\n",
       "      <td>340.580566</td>\n",
       "      <td>335.835846</td>\n",
       "      <td>338.738739</td>\n",
       "      <td>338.738739</td>\n",
       "      <td>3564832</td>\n",
       "    </tr>\n",
       "    <tr>\n",
       "      <th>2012-08-24</th>\n",
       "      <td>338.138153</td>\n",
       "      <td>340.565552</td>\n",
       "      <td>337.377380</td>\n",
       "      <td>339.654663</td>\n",
       "      <td>339.654663</td>\n",
       "      <td>2850347</td>\n",
       "    </tr>\n",
       "    <tr>\n",
       "      <th>2012-08-27</th>\n",
       "      <td>331.826813</td>\n",
       "      <td>336.336334</td>\n",
       "      <td>329.949951</td>\n",
       "      <td>334.944946</td>\n",
       "      <td>334.944946</td>\n",
       "      <td>5222173</td>\n",
       "    </tr>\n",
       "    <tr>\n",
       "      <th>2012-08-28</th>\n",
       "      <td>332.832825</td>\n",
       "      <td>339.149139</td>\n",
       "      <td>332.702698</td>\n",
       "      <td>338.963959</td>\n",
       "      <td>338.963959</td>\n",
       "      <td>4113083</td>\n",
       "    </tr>\n",
       "    <tr>\n",
       "      <th>2012-08-29</th>\n",
       "      <td>339.024017</td>\n",
       "      <td>344.839844</td>\n",
       "      <td>338.413422</td>\n",
       "      <td>344.349335</td>\n",
       "      <td>344.349335</td>\n",
       "      <td>5974619</td>\n",
       "    </tr>\n",
       "    <tr>\n",
       "      <th>2012-08-30</th>\n",
       "      <td>342.462463</td>\n",
       "      <td>344.039032</td>\n",
       "      <td>340.430420</td>\n",
       "      <td>341.181183</td>\n",
       "      <td>341.181183</td>\n",
       "      <td>3250546</td>\n",
       "    </tr>\n",
       "    <tr>\n",
       "      <th>2012-08-31</th>\n",
       "      <td>342.342346</td>\n",
       "      <td>344.634644</td>\n",
       "      <td>340.360352</td>\n",
       "      <td>342.887878</td>\n",
       "      <td>342.887878</td>\n",
       "      <td>4249946</td>\n",
       "    </tr>\n",
       "  </tbody>\n",
       "</table>\n",
       "</div>"
      ],
      "text/plain": [
       "                  Open        High         Low       Close   Adj Close  \\\n",
       "Date                                                                     \n",
       "2012-08-01  318.968964  320.075073  316.006012  316.656647  316.656647   \n",
       "2012-08-02  313.068054  319.334320  312.017029  314.689697  314.689697   \n",
       "2012-08-03  320.320313  322.182190  318.388397  320.985992  320.985992   \n",
       "2012-08-06  320.125122  325.015015  319.929932  321.731720  321.731720   \n",
       "2012-08-07  321.216217  322.452454  318.553558  320.590576  320.590576   \n",
       "2012-08-08  319.844849  323.258270  319.569580  321.436432  321.436432   \n",
       "2012-08-09  322.577576  323.508514  321.081085  321.496490  321.496490   \n",
       "2012-08-10  319.614624  321.441437  318.383392  321.321320  321.321320   \n",
       "2012-08-13  324.034027  330.405396  323.663666  330.335327  330.335327   \n",
       "2012-08-14  329.954956  336.761749  329.829834  334.664673  334.664673   \n",
       "2012-08-15  335.475464  337.462463  332.382385  334.104095  334.104095   \n",
       "2012-08-16  334.089081  337.657654  333.873871  336.771759  336.771759   \n",
       "2012-08-17  337.397400  338.963959  336.186188  338.908905  338.908905   \n",
       "2012-08-20  338.088074  339.774780  336.666656  338.108093  338.108093   \n",
       "2012-08-21  336.891907  339.339325  331.416412  335.090088  335.090088   \n",
       "2012-08-22  334.024017  340.640656  333.683685  338.928925  338.928925   \n",
       "2012-08-23  337.472473  340.580566  335.835846  338.738739  338.738739   \n",
       "2012-08-24  338.138153  340.565552  337.377380  339.654663  339.654663   \n",
       "2012-08-27  331.826813  336.336334  329.949951  334.944946  334.944946   \n",
       "2012-08-28  332.832825  339.149139  332.702698  338.963959  338.963959   \n",
       "2012-08-29  339.024017  344.839844  338.413422  344.349335  344.349335   \n",
       "2012-08-30  342.462463  344.039032  340.430420  341.181183  341.181183   \n",
       "2012-08-31  342.342346  344.634644  340.360352  342.887878  342.887878   \n",
       "\n",
       "             Volume  \n",
       "Date                 \n",
       "2012-08-01  3685511  \n",
       "2012-08-02  3951445  \n",
       "2012-08-03  3790406  \n",
       "2012-08-06  3561235  \n",
       "2012-08-07  3959636  \n",
       "2012-08-08  2641756  \n",
       "2012-08-09  2138459  \n",
       "2012-08-10  2866331  \n",
       "2012-08-13  6529264  \n",
       "2012-08-14  7316077  \n",
       "2012-08-15  4816579  \n",
       "2012-08-16  3431965  \n",
       "2012-08-17  4351045  \n",
       "2012-08-20  3512684  \n",
       "2012-08-21  4439956  \n",
       "2012-08-22  3814582  \n",
       "2012-08-23  3564832  \n",
       "2012-08-24  2850347  \n",
       "2012-08-27  5222173  \n",
       "2012-08-28  4113083  \n",
       "2012-08-29  5974619  \n",
       "2012-08-30  3250546  \n",
       "2012-08-31  4249946  "
      ]
     },
     "execution_count": 41,
     "metadata": {},
     "output_type": "execute_result"
    }
   ],
   "source": [
    "google.loc['2012-08']"
   ]
  },
  {
   "cell_type": "markdown",
   "metadata": {},
   "source": [
    "### to see the google performance for perticuler year"
   ]
  },
  {
   "cell_type": "code",
   "execution_count": 42,
   "metadata": {},
   "outputs": [
    {
     "data": {
      "text/html": [
       "<div>\n",
       "<style scoped>\n",
       "    .dataframe tbody tr th:only-of-type {\n",
       "        vertical-align: middle;\n",
       "    }\n",
       "\n",
       "    .dataframe tbody tr th {\n",
       "        vertical-align: top;\n",
       "    }\n",
       "\n",
       "    .dataframe thead th {\n",
       "        text-align: right;\n",
       "    }\n",
       "</style>\n",
       "<table border=\"1\" class=\"dataframe\">\n",
       "  <thead>\n",
       "    <tr style=\"text-align: right;\">\n",
       "      <th></th>\n",
       "      <th>Open</th>\n",
       "      <th>High</th>\n",
       "      <th>Low</th>\n",
       "      <th>Close</th>\n",
       "      <th>Adj Close</th>\n",
       "      <th>Volume</th>\n",
       "    </tr>\n",
       "    <tr>\n",
       "      <th>Date</th>\n",
       "      <th></th>\n",
       "      <th></th>\n",
       "      <th></th>\n",
       "      <th></th>\n",
       "      <th></th>\n",
       "      <th></th>\n",
       "    </tr>\n",
       "  </thead>\n",
       "  <tbody>\n",
       "    <tr>\n",
       "      <th>2019-01-02</th>\n",
       "      <td>1027.199951</td>\n",
       "      <td>1060.790039</td>\n",
       "      <td>1025.280029</td>\n",
       "      <td>1054.680054</td>\n",
       "      <td>1054.680054</td>\n",
       "      <td>1593400</td>\n",
       "    </tr>\n",
       "    <tr>\n",
       "      <th>2019-01-03</th>\n",
       "      <td>1050.670044</td>\n",
       "      <td>1066.260010</td>\n",
       "      <td>1022.369995</td>\n",
       "      <td>1025.469971</td>\n",
       "      <td>1025.469971</td>\n",
       "      <td>2098000</td>\n",
       "    </tr>\n",
       "    <tr>\n",
       "      <th>2019-01-04</th>\n",
       "      <td>1042.560059</td>\n",
       "      <td>1080.000000</td>\n",
       "      <td>1036.859985</td>\n",
       "      <td>1078.069946</td>\n",
       "      <td>1078.069946</td>\n",
       "      <td>2301100</td>\n",
       "    </tr>\n",
       "    <tr>\n",
       "      <th>2019-01-07</th>\n",
       "      <td>1080.969971</td>\n",
       "      <td>1082.699951</td>\n",
       "      <td>1062.640015</td>\n",
       "      <td>1075.920044</td>\n",
       "      <td>1075.920044</td>\n",
       "      <td>2372300</td>\n",
       "    </tr>\n",
       "    <tr>\n",
       "      <th>2019-01-08</th>\n",
       "      <td>1086.000000</td>\n",
       "      <td>1093.349976</td>\n",
       "      <td>1068.349976</td>\n",
       "      <td>1085.369995</td>\n",
       "      <td>1085.369995</td>\n",
       "      <td>1770700</td>\n",
       "    </tr>\n",
       "    <tr>\n",
       "      <th>...</th>\n",
       "      <td>...</td>\n",
       "      <td>...</td>\n",
       "      <td>...</td>\n",
       "      <td>...</td>\n",
       "      <td>...</td>\n",
       "      <td>...</td>\n",
       "    </tr>\n",
       "    <tr>\n",
       "      <th>2019-12-24</th>\n",
       "      <td>1350.209961</td>\n",
       "      <td>1352.010010</td>\n",
       "      <td>1344.170044</td>\n",
       "      <td>1344.430054</td>\n",
       "      <td>1344.430054</td>\n",
       "      <td>673400</td>\n",
       "    </tr>\n",
       "    <tr>\n",
       "      <th>2019-12-26</th>\n",
       "      <td>1346.550049</td>\n",
       "      <td>1363.199951</td>\n",
       "      <td>1345.510010</td>\n",
       "      <td>1362.469971</td>\n",
       "      <td>1362.469971</td>\n",
       "      <td>1183100</td>\n",
       "    </tr>\n",
       "    <tr>\n",
       "      <th>2019-12-27</th>\n",
       "      <td>1364.000000</td>\n",
       "      <td>1367.050049</td>\n",
       "      <td>1353.000000</td>\n",
       "      <td>1354.640015</td>\n",
       "      <td>1354.640015</td>\n",
       "      <td>1160600</td>\n",
       "    </tr>\n",
       "    <tr>\n",
       "      <th>2019-12-30</th>\n",
       "      <td>1356.810059</td>\n",
       "      <td>1357.000000</td>\n",
       "      <td>1337.839966</td>\n",
       "      <td>1339.709961</td>\n",
       "      <td>1339.709961</td>\n",
       "      <td>999700</td>\n",
       "    </tr>\n",
       "    <tr>\n",
       "      <th>2019-12-31</th>\n",
       "      <td>1335.790039</td>\n",
       "      <td>1340.660034</td>\n",
       "      <td>1332.130005</td>\n",
       "      <td>1339.390015</td>\n",
       "      <td>1339.390015</td>\n",
       "      <td>975700</td>\n",
       "    </tr>\n",
       "  </tbody>\n",
       "</table>\n",
       "<p>252 rows × 6 columns</p>\n",
       "</div>"
      ],
      "text/plain": [
       "                   Open         High          Low        Close    Adj Close  \\\n",
       "Date                                                                          \n",
       "2019-01-02  1027.199951  1060.790039  1025.280029  1054.680054  1054.680054   \n",
       "2019-01-03  1050.670044  1066.260010  1022.369995  1025.469971  1025.469971   \n",
       "2019-01-04  1042.560059  1080.000000  1036.859985  1078.069946  1078.069946   \n",
       "2019-01-07  1080.969971  1082.699951  1062.640015  1075.920044  1075.920044   \n",
       "2019-01-08  1086.000000  1093.349976  1068.349976  1085.369995  1085.369995   \n",
       "...                 ...          ...          ...          ...          ...   \n",
       "2019-12-24  1350.209961  1352.010010  1344.170044  1344.430054  1344.430054   \n",
       "2019-12-26  1346.550049  1363.199951  1345.510010  1362.469971  1362.469971   \n",
       "2019-12-27  1364.000000  1367.050049  1353.000000  1354.640015  1354.640015   \n",
       "2019-12-30  1356.810059  1357.000000  1337.839966  1339.709961  1339.709961   \n",
       "2019-12-31  1335.790039  1340.660034  1332.130005  1339.390015  1339.390015   \n",
       "\n",
       "             Volume  \n",
       "Date                 \n",
       "2019-01-02  1593400  \n",
       "2019-01-03  2098000  \n",
       "2019-01-04  2301100  \n",
       "2019-01-07  2372300  \n",
       "2019-01-08  1770700  \n",
       "...             ...  \n",
       "2019-12-24   673400  \n",
       "2019-12-26  1183100  \n",
       "2019-12-27  1160600  \n",
       "2019-12-30   999700  \n",
       "2019-12-31   975700  \n",
       "\n",
       "[252 rows x 6 columns]"
      ]
     },
     "execution_count": 42,
     "metadata": {},
     "output_type": "execute_result"
    }
   ],
   "source": [
    "google.loc['2019']"
   ]
  },
  {
   "cell_type": "markdown",
   "metadata": {},
   "source": [
    "### Let's extract the month name from the index(date column)"
   ]
  },
  {
   "cell_type": "code",
   "execution_count": 44,
   "metadata": {},
   "outputs": [
    {
     "data": {
      "text/plain": [
       "Index(['August', 'August', 'August', 'August', 'August', 'August', 'August',\n",
       "       'August', 'August', 'September',\n",
       "       ...\n",
       "       'March', 'March', 'March', 'March', 'March', 'March', 'March', 'March',\n",
       "       'March', 'March'],\n",
       "      dtype='object', name='Date', length=4431)"
      ]
     },
     "execution_count": 44,
     "metadata": {},
     "output_type": "execute_result"
    }
   ],
   "source": [
    "google.index.month_name()"
   ]
  },
  {
   "cell_type": "markdown",
   "metadata": {},
   "source": [
    "### add it to the main dataframe"
   ]
  },
  {
   "cell_type": "code",
   "execution_count": 45,
   "metadata": {},
   "outputs": [],
   "source": [
    "google['Month_name'] = google.index.month_name()"
   ]
  },
  {
   "cell_type": "markdown",
   "metadata": {},
   "source": [
    "### Do the same thing for the days as well"
   ]
  },
  {
   "cell_type": "code",
   "execution_count": 46,
   "metadata": {},
   "outputs": [],
   "source": [
    "google['Day_name'] = google.index.day_name()"
   ]
  },
  {
   "cell_type": "code",
   "execution_count": 49,
   "metadata": {},
   "outputs": [],
   "source": [
    "google['Quater'] = google.index.quarter"
   ]
  },
  {
   "cell_type": "code",
   "execution_count": 50,
   "metadata": {},
   "outputs": [
    {
     "data": {
      "text/html": [
       "<div>\n",
       "<style scoped>\n",
       "    .dataframe tbody tr th:only-of-type {\n",
       "        vertical-align: middle;\n",
       "    }\n",
       "\n",
       "    .dataframe tbody tr th {\n",
       "        vertical-align: top;\n",
       "    }\n",
       "\n",
       "    .dataframe thead th {\n",
       "        text-align: right;\n",
       "    }\n",
       "</style>\n",
       "<table border=\"1\" class=\"dataframe\">\n",
       "  <thead>\n",
       "    <tr style=\"text-align: right;\">\n",
       "      <th></th>\n",
       "      <th>Open</th>\n",
       "      <th>High</th>\n",
       "      <th>Low</th>\n",
       "      <th>Close</th>\n",
       "      <th>Adj Close</th>\n",
       "      <th>Volume</th>\n",
       "      <th>Month_name</th>\n",
       "      <th>Day_name</th>\n",
       "      <th>Quater</th>\n",
       "    </tr>\n",
       "    <tr>\n",
       "      <th>Date</th>\n",
       "      <th></th>\n",
       "      <th></th>\n",
       "      <th></th>\n",
       "      <th></th>\n",
       "      <th></th>\n",
       "      <th></th>\n",
       "      <th></th>\n",
       "      <th></th>\n",
       "      <th></th>\n",
       "    </tr>\n",
       "  </thead>\n",
       "  <tbody>\n",
       "    <tr>\n",
       "      <th>2004-08-19</th>\n",
       "      <td>50.050049</td>\n",
       "      <td>52.082081</td>\n",
       "      <td>48.028027</td>\n",
       "      <td>50.220219</td>\n",
       "      <td>50.220219</td>\n",
       "      <td>44659096</td>\n",
       "      <td>August</td>\n",
       "      <td>Thursday</td>\n",
       "      <td>3</td>\n",
       "    </tr>\n",
       "    <tr>\n",
       "      <th>2004-08-20</th>\n",
       "      <td>50.555557</td>\n",
       "      <td>54.594597</td>\n",
       "      <td>50.300301</td>\n",
       "      <td>54.209209</td>\n",
       "      <td>54.209209</td>\n",
       "      <td>22834343</td>\n",
       "      <td>August</td>\n",
       "      <td>Friday</td>\n",
       "      <td>3</td>\n",
       "    </tr>\n",
       "    <tr>\n",
       "      <th>2004-08-23</th>\n",
       "      <td>55.430431</td>\n",
       "      <td>56.796799</td>\n",
       "      <td>54.579578</td>\n",
       "      <td>54.754753</td>\n",
       "      <td>54.754753</td>\n",
       "      <td>18256126</td>\n",
       "      <td>August</td>\n",
       "      <td>Monday</td>\n",
       "      <td>3</td>\n",
       "    </tr>\n",
       "    <tr>\n",
       "      <th>2004-08-24</th>\n",
       "      <td>55.675674</td>\n",
       "      <td>55.855858</td>\n",
       "      <td>51.836838</td>\n",
       "      <td>52.487488</td>\n",
       "      <td>52.487488</td>\n",
       "      <td>15247337</td>\n",
       "      <td>August</td>\n",
       "      <td>Tuesday</td>\n",
       "      <td>3</td>\n",
       "    </tr>\n",
       "    <tr>\n",
       "      <th>2004-08-25</th>\n",
       "      <td>52.532532</td>\n",
       "      <td>54.054054</td>\n",
       "      <td>51.991993</td>\n",
       "      <td>53.053055</td>\n",
       "      <td>53.053055</td>\n",
       "      <td>9188602</td>\n",
       "      <td>August</td>\n",
       "      <td>Wednesday</td>\n",
       "      <td>3</td>\n",
       "    </tr>\n",
       "    <tr>\n",
       "      <th>...</th>\n",
       "      <td>...</td>\n",
       "      <td>...</td>\n",
       "      <td>...</td>\n",
       "      <td>...</td>\n",
       "      <td>...</td>\n",
       "      <td>...</td>\n",
       "      <td>...</td>\n",
       "      <td>...</td>\n",
       "      <td>...</td>\n",
       "    </tr>\n",
       "    <tr>\n",
       "      <th>2022-03-18</th>\n",
       "      <td>2668.489990</td>\n",
       "      <td>2724.879883</td>\n",
       "      <td>2645.169922</td>\n",
       "      <td>2722.510010</td>\n",
       "      <td>2722.510010</td>\n",
       "      <td>2223100</td>\n",
       "      <td>March</td>\n",
       "      <td>Friday</td>\n",
       "      <td>1</td>\n",
       "    </tr>\n",
       "    <tr>\n",
       "      <th>2022-03-21</th>\n",
       "      <td>2723.270020</td>\n",
       "      <td>2741.000000</td>\n",
       "      <td>2681.850098</td>\n",
       "      <td>2722.030029</td>\n",
       "      <td>2722.030029</td>\n",
       "      <td>1341600</td>\n",
       "      <td>March</td>\n",
       "      <td>Monday</td>\n",
       "      <td>1</td>\n",
       "    </tr>\n",
       "    <tr>\n",
       "      <th>2022-03-22</th>\n",
       "      <td>2722.030029</td>\n",
       "      <td>2821.000000</td>\n",
       "      <td>2722.030029</td>\n",
       "      <td>2797.360107</td>\n",
       "      <td>2797.360107</td>\n",
       "      <td>1774800</td>\n",
       "      <td>March</td>\n",
       "      <td>Tuesday</td>\n",
       "      <td>1</td>\n",
       "    </tr>\n",
       "    <tr>\n",
       "      <th>2022-03-23</th>\n",
       "      <td>2774.050049</td>\n",
       "      <td>2791.770020</td>\n",
       "      <td>2756.699951</td>\n",
       "      <td>2765.510010</td>\n",
       "      <td>2765.510010</td>\n",
       "      <td>1257700</td>\n",
       "      <td>March</td>\n",
       "      <td>Wednesday</td>\n",
       "      <td>1</td>\n",
       "    </tr>\n",
       "    <tr>\n",
       "      <th>2022-03-24</th>\n",
       "      <td>2784.000000</td>\n",
       "      <td>2832.379883</td>\n",
       "      <td>2755.010010</td>\n",
       "      <td>2831.439941</td>\n",
       "      <td>2831.439941</td>\n",
       "      <td>1317900</td>\n",
       "      <td>March</td>\n",
       "      <td>Thursday</td>\n",
       "      <td>1</td>\n",
       "    </tr>\n",
       "  </tbody>\n",
       "</table>\n",
       "<p>4431 rows × 9 columns</p>\n",
       "</div>"
      ],
      "text/plain": [
       "                   Open         High          Low        Close    Adj Close  \\\n",
       "Date                                                                          \n",
       "2004-08-19    50.050049    52.082081    48.028027    50.220219    50.220219   \n",
       "2004-08-20    50.555557    54.594597    50.300301    54.209209    54.209209   \n",
       "2004-08-23    55.430431    56.796799    54.579578    54.754753    54.754753   \n",
       "2004-08-24    55.675674    55.855858    51.836838    52.487488    52.487488   \n",
       "2004-08-25    52.532532    54.054054    51.991993    53.053055    53.053055   \n",
       "...                 ...          ...          ...          ...          ...   \n",
       "2022-03-18  2668.489990  2724.879883  2645.169922  2722.510010  2722.510010   \n",
       "2022-03-21  2723.270020  2741.000000  2681.850098  2722.030029  2722.030029   \n",
       "2022-03-22  2722.030029  2821.000000  2722.030029  2797.360107  2797.360107   \n",
       "2022-03-23  2774.050049  2791.770020  2756.699951  2765.510010  2765.510010   \n",
       "2022-03-24  2784.000000  2832.379883  2755.010010  2831.439941  2831.439941   \n",
       "\n",
       "              Volume Month_name   Day_name  Quater  \n",
       "Date                                                \n",
       "2004-08-19  44659096     August   Thursday       3  \n",
       "2004-08-20  22834343     August     Friday       3  \n",
       "2004-08-23  18256126     August     Monday       3  \n",
       "2004-08-24  15247337     August    Tuesday       3  \n",
       "2004-08-25   9188602     August  Wednesday       3  \n",
       "...              ...        ...        ...     ...  \n",
       "2022-03-18   2223100      March     Friday       1  \n",
       "2022-03-21   1341600      March     Monday       1  \n",
       "2022-03-22   1774800      March    Tuesday       1  \n",
       "2022-03-23   1257700      March  Wednesday       1  \n",
       "2022-03-24   1317900      March   Thursday       1  \n",
       "\n",
       "[4431 rows x 9 columns]"
      ]
     },
     "execution_count": 50,
     "metadata": {},
     "output_type": "execute_result"
    }
   ],
   "source": [
    "google"
   ]
  },
  {
   "cell_type": "markdown",
   "metadata": {},
   "source": [
    "## Slicing: if we wanna see google's performance in a range of dates"
   ]
  },
  {
   "cell_type": "code",
   "execution_count": 51,
   "metadata": {},
   "outputs": [
    {
     "data": {
      "text/html": [
       "<div>\n",
       "<style scoped>\n",
       "    .dataframe tbody tr th:only-of-type {\n",
       "        vertical-align: middle;\n",
       "    }\n",
       "\n",
       "    .dataframe tbody tr th {\n",
       "        vertical-align: top;\n",
       "    }\n",
       "\n",
       "    .dataframe thead th {\n",
       "        text-align: right;\n",
       "    }\n",
       "</style>\n",
       "<table border=\"1\" class=\"dataframe\">\n",
       "  <thead>\n",
       "    <tr style=\"text-align: right;\">\n",
       "      <th></th>\n",
       "      <th>Open</th>\n",
       "      <th>High</th>\n",
       "      <th>Low</th>\n",
       "      <th>Close</th>\n",
       "      <th>Adj Close</th>\n",
       "      <th>Volume</th>\n",
       "      <th>Month_name</th>\n",
       "      <th>Day_name</th>\n",
       "      <th>Quater</th>\n",
       "    </tr>\n",
       "    <tr>\n",
       "      <th>Date</th>\n",
       "      <th></th>\n",
       "      <th></th>\n",
       "      <th></th>\n",
       "      <th></th>\n",
       "      <th></th>\n",
       "      <th></th>\n",
       "      <th></th>\n",
       "      <th></th>\n",
       "      <th></th>\n",
       "    </tr>\n",
       "  </thead>\n",
       "  <tbody>\n",
       "    <tr>\n",
       "      <th>2011-12-15</th>\n",
       "      <td>311.571564</td>\n",
       "      <td>312.312317</td>\n",
       "      <td>309.654663</td>\n",
       "      <td>310.080078</td>\n",
       "      <td>310.080078</td>\n",
       "      <td>4812383</td>\n",
       "      <td>December</td>\n",
       "      <td>Thursday</td>\n",
       "      <td>4</td>\n",
       "    </tr>\n",
       "    <tr>\n",
       "      <th>2011-12-16</th>\n",
       "      <td>312.472473</td>\n",
       "      <td>314.974976</td>\n",
       "      <td>311.046051</td>\n",
       "      <td>313.293304</td>\n",
       "      <td>313.293304</td>\n",
       "      <td>8909681</td>\n",
       "      <td>December</td>\n",
       "      <td>Friday</td>\n",
       "      <td>4</td>\n",
       "    </tr>\n",
       "    <tr>\n",
       "      <th>2011-12-19</th>\n",
       "      <td>314.319305</td>\n",
       "      <td>314.564575</td>\n",
       "      <td>310.310303</td>\n",
       "      <td>311.226227</td>\n",
       "      <td>311.226227</td>\n",
       "      <td>4282713</td>\n",
       "      <td>December</td>\n",
       "      <td>Monday</td>\n",
       "      <td>4</td>\n",
       "    </tr>\n",
       "    <tr>\n",
       "      <th>2011-12-20</th>\n",
       "      <td>314.314301</td>\n",
       "      <td>316.236237</td>\n",
       "      <td>314.309296</td>\n",
       "      <td>315.500488</td>\n",
       "      <td>315.500488</td>\n",
       "      <td>4771624</td>\n",
       "      <td>December</td>\n",
       "      <td>Tuesday</td>\n",
       "      <td>4</td>\n",
       "    </tr>\n",
       "    <tr>\n",
       "      <th>2011-12-21</th>\n",
       "      <td>315.320313</td>\n",
       "      <td>316.226227</td>\n",
       "      <td>309.789795</td>\n",
       "      <td>313.223236</td>\n",
       "      <td>313.223236</td>\n",
       "      <td>4990804</td>\n",
       "      <td>December</td>\n",
       "      <td>Wednesday</td>\n",
       "      <td>4</td>\n",
       "    </tr>\n",
       "    <tr>\n",
       "      <th>2011-12-22</th>\n",
       "      <td>314.289276</td>\n",
       "      <td>316.181183</td>\n",
       "      <td>313.818817</td>\n",
       "      <td>315.165161</td>\n",
       "      <td>315.165161</td>\n",
       "      <td>3640955</td>\n",
       "      <td>December</td>\n",
       "      <td>Thursday</td>\n",
       "      <td>4</td>\n",
       "    </tr>\n",
       "    <tr>\n",
       "      <th>2011-12-23</th>\n",
       "      <td>316.316315</td>\n",
       "      <td>317.657654</td>\n",
       "      <td>315.595581</td>\n",
       "      <td>316.886902</td>\n",
       "      <td>316.886902</td>\n",
       "      <td>2904493</td>\n",
       "      <td>December</td>\n",
       "      <td>Friday</td>\n",
       "      <td>4</td>\n",
       "    </tr>\n",
       "    <tr>\n",
       "      <th>2011-12-27</th>\n",
       "      <td>316.341339</td>\n",
       "      <td>322.567566</td>\n",
       "      <td>316.316315</td>\n",
       "      <td>320.445435</td>\n",
       "      <td>320.445435</td>\n",
       "      <td>3209587</td>\n",
       "      <td>December</td>\n",
       "      <td>Tuesday</td>\n",
       "      <td>4</td>\n",
       "    </tr>\n",
       "    <tr>\n",
       "      <th>2011-12-28</th>\n",
       "      <td>321.696686</td>\n",
       "      <td>322.822815</td>\n",
       "      <td>319.369354</td>\n",
       "      <td>320.170166</td>\n",
       "      <td>320.170166</td>\n",
       "      <td>4250146</td>\n",
       "      <td>December</td>\n",
       "      <td>Wednesday</td>\n",
       "      <td>4</td>\n",
       "    </tr>\n",
       "    <tr>\n",
       "      <th>2011-12-29</th>\n",
       "      <td>321.066071</td>\n",
       "      <td>321.821808</td>\n",
       "      <td>317.917908</td>\n",
       "      <td>321.521515</td>\n",
       "      <td>321.521515</td>\n",
       "      <td>3147649</td>\n",
       "      <td>December</td>\n",
       "      <td>Thursday</td>\n",
       "      <td>4</td>\n",
       "    </tr>\n",
       "    <tr>\n",
       "      <th>2011-12-30</th>\n",
       "      <td>321.331329</td>\n",
       "      <td>323.703705</td>\n",
       "      <td>321.331329</td>\n",
       "      <td>323.273285</td>\n",
       "      <td>323.273285</td>\n",
       "      <td>3561035</td>\n",
       "      <td>December</td>\n",
       "      <td>Friday</td>\n",
       "      <td>4</td>\n",
       "    </tr>\n",
       "  </tbody>\n",
       "</table>\n",
       "</div>"
      ],
      "text/plain": [
       "                  Open        High         Low       Close   Adj Close  \\\n",
       "Date                                                                     \n",
       "2011-12-15  311.571564  312.312317  309.654663  310.080078  310.080078   \n",
       "2011-12-16  312.472473  314.974976  311.046051  313.293304  313.293304   \n",
       "2011-12-19  314.319305  314.564575  310.310303  311.226227  311.226227   \n",
       "2011-12-20  314.314301  316.236237  314.309296  315.500488  315.500488   \n",
       "2011-12-21  315.320313  316.226227  309.789795  313.223236  313.223236   \n",
       "2011-12-22  314.289276  316.181183  313.818817  315.165161  315.165161   \n",
       "2011-12-23  316.316315  317.657654  315.595581  316.886902  316.886902   \n",
       "2011-12-27  316.341339  322.567566  316.316315  320.445435  320.445435   \n",
       "2011-12-28  321.696686  322.822815  319.369354  320.170166  320.170166   \n",
       "2011-12-29  321.066071  321.821808  317.917908  321.521515  321.521515   \n",
       "2011-12-30  321.331329  323.703705  321.331329  323.273285  323.273285   \n",
       "\n",
       "             Volume Month_name   Day_name  Quater  \n",
       "Date                                               \n",
       "2011-12-15  4812383   December   Thursday       4  \n",
       "2011-12-16  8909681   December     Friday       4  \n",
       "2011-12-19  4282713   December     Monday       4  \n",
       "2011-12-20  4771624   December    Tuesday       4  \n",
       "2011-12-21  4990804   December  Wednesday       4  \n",
       "2011-12-22  3640955   December   Thursday       4  \n",
       "2011-12-23  2904493   December     Friday       4  \n",
       "2011-12-27  3209587   December    Tuesday       4  \n",
       "2011-12-28  4250146   December  Wednesday       4  \n",
       "2011-12-29  3147649   December   Thursday       4  \n",
       "2011-12-30  3561035   December     Friday       4  "
      ]
     },
     "execution_count": 51,
     "metadata": {},
     "output_type": "execute_result"
    }
   ],
   "source": [
    "google.loc['2011-12-15':'2011-12-31']"
   ]
  },
  {
   "cell_type": "markdown",
   "metadata": {},
   "source": [
    "### Case1: let's find out google's performance on a perticular date in each year\n",
    "\n",
    "Let's first generates the dates\n",
    "\n",
    "One was to solve this use date_range function and pass a timedelta object for frequency for 365 days but problem with this approach is because of leap year it changes the expected date by skipping the leap year while adding 365"
   ]
  },
  {
   "cell_type": "code",
   "execution_count": 52,
   "metadata": {},
   "outputs": [
    {
     "data": {
      "text/plain": [
       "DatetimeIndex(['2005-01-05', '2006-01-05', '2007-01-05', '2008-01-05',\n",
       "               '2009-01-04', '2010-01-04', '2011-01-04', '2012-01-04',\n",
       "               '2013-01-03', '2014-01-03', '2015-01-03', '2016-01-03',\n",
       "               '2017-01-02', '2018-01-02', '2019-01-02', '2020-01-02',\n",
       "               '2021-01-01', '2022-01-01'],\n",
       "              dtype='datetime64[ns]', freq='365D')"
      ]
     },
     "execution_count": 52,
     "metadata": {},
     "output_type": "execute_result"
    }
   ],
   "source": [
    "pd.date_range(start='2005-01-05',end='2022-01-05',freq=pd.Timedelta(days=365))"
   ]
  },
  {
   "cell_type": "markdown",
   "metadata": {},
   "source": [
    "### To solve the problem we can use dateoffset"
   ]
  },
  {
   "cell_type": "code",
   "execution_count": 54,
   "metadata": {},
   "outputs": [
    {
     "data": {
      "text/plain": [
       "DatetimeIndex(['2005-01-05', '2006-01-05', '2007-01-05', '2008-01-05',\n",
       "               '2009-01-05', '2010-01-05', '2011-01-05', '2012-01-05',\n",
       "               '2013-01-05', '2014-01-05', '2015-01-05', '2016-01-05',\n",
       "               '2017-01-05', '2018-01-05', '2019-01-05', '2020-01-05',\n",
       "               '2021-01-05', '2022-01-05'],\n",
       "              dtype='datetime64[ns]', freq='<DateOffset: years=1>')"
      ]
     },
     "execution_count": 54,
     "metadata": {},
     "output_type": "execute_result"
    }
   ],
   "source": [
    "pd.date_range(start='2005-01-05',end='2022-01-05',freq=pd.DateOffset(years=1))"
   ]
  },
  {
   "cell_type": "markdown",
   "metadata": {},
   "source": [
    "### Now pass this datetime object into google index by using the syntax below to get a boolean series"
   ]
  },
  {
   "cell_type": "code",
   "execution_count": 55,
   "metadata": {},
   "outputs": [
    {
     "data": {
      "text/plain": [
       "array([False, False, False, ..., False, False, False])"
      ]
     },
     "execution_count": 55,
     "metadata": {},
     "output_type": "execute_result"
    }
   ],
   "source": [
    "google.index.isin(pd.date_range(start='2005-01-05',end='2022-01-05',freq=pd.DateOffset(years=1)))"
   ]
  },
  {
   "cell_type": "markdown",
   "metadata": {},
   "source": [
    "### finally to get the values on those perticular dates; if any dates are missing that's because of any such dates were saturdays or sundays"
   ]
  },
  {
   "cell_type": "code",
   "execution_count": 56,
   "metadata": {},
   "outputs": [
    {
     "data": {
      "text/html": [
       "<div>\n",
       "<style scoped>\n",
       "    .dataframe tbody tr th:only-of-type {\n",
       "        vertical-align: middle;\n",
       "    }\n",
       "\n",
       "    .dataframe tbody tr th {\n",
       "        vertical-align: top;\n",
       "    }\n",
       "\n",
       "    .dataframe thead th {\n",
       "        text-align: right;\n",
       "    }\n",
       "</style>\n",
       "<table border=\"1\" class=\"dataframe\">\n",
       "  <thead>\n",
       "    <tr style=\"text-align: right;\">\n",
       "      <th></th>\n",
       "      <th>Open</th>\n",
       "      <th>High</th>\n",
       "      <th>Low</th>\n",
       "      <th>Close</th>\n",
       "      <th>Adj Close</th>\n",
       "      <th>Volume</th>\n",
       "      <th>Month_name</th>\n",
       "      <th>Day_name</th>\n",
       "      <th>Quater</th>\n",
       "    </tr>\n",
       "    <tr>\n",
       "      <th>Date</th>\n",
       "      <th></th>\n",
       "      <th></th>\n",
       "      <th></th>\n",
       "      <th></th>\n",
       "      <th></th>\n",
       "      <th></th>\n",
       "      <th></th>\n",
       "      <th></th>\n",
       "      <th></th>\n",
       "    </tr>\n",
       "  </thead>\n",
       "  <tbody>\n",
       "    <tr>\n",
       "      <th>2005-01-05</th>\n",
       "      <td>96.821823</td>\n",
       "      <td>98.548546</td>\n",
       "      <td>96.211212</td>\n",
       "      <td>96.851852</td>\n",
       "      <td>96.851852</td>\n",
       "      <td>16456727</td>\n",
       "      <td>January</td>\n",
       "      <td>Wednesday</td>\n",
       "      <td>1</td>\n",
       "    </tr>\n",
       "    <tr>\n",
       "      <th>2006-01-05</th>\n",
       "      <td>223.223221</td>\n",
       "      <td>226.001007</td>\n",
       "      <td>220.970978</td>\n",
       "      <td>225.845840</td>\n",
       "      <td>225.845840</td>\n",
       "      <td>21594983</td>\n",
       "      <td>January</td>\n",
       "      <td>Thursday</td>\n",
       "      <td>1</td>\n",
       "    </tr>\n",
       "    <tr>\n",
       "      <th>2007-01-05</th>\n",
       "      <td>241.491486</td>\n",
       "      <td>243.993988</td>\n",
       "      <td>239.294296</td>\n",
       "      <td>243.838837</td>\n",
       "      <td>243.838837</td>\n",
       "      <td>13730456</td>\n",
       "      <td>January</td>\n",
       "      <td>Friday</td>\n",
       "      <td>1</td>\n",
       "    </tr>\n",
       "    <tr>\n",
       "      <th>2009-01-05</th>\n",
       "      <td>160.660660</td>\n",
       "      <td>165.785782</td>\n",
       "      <td>157.657654</td>\n",
       "      <td>164.189194</td>\n",
       "      <td>164.189194</td>\n",
       "      <td>9768222</td>\n",
       "      <td>January</td>\n",
       "      <td>Monday</td>\n",
       "      <td>1</td>\n",
       "    </tr>\n",
       "    <tr>\n",
       "      <th>2010-01-05</th>\n",
       "      <td>313.903900</td>\n",
       "      <td>314.234222</td>\n",
       "      <td>311.081085</td>\n",
       "      <td>312.307312</td>\n",
       "      <td>312.307312</td>\n",
       "      <td>6003391</td>\n",
       "      <td>January</td>\n",
       "      <td>Tuesday</td>\n",
       "      <td>1</td>\n",
       "    </tr>\n",
       "    <tr>\n",
       "      <th>2011-01-05</th>\n",
       "      <td>300.335327</td>\n",
       "      <td>305.470459</td>\n",
       "      <td>300.325317</td>\n",
       "      <td>304.839844</td>\n",
       "      <td>304.839844</td>\n",
       "      <td>5059535</td>\n",
       "      <td>January</td>\n",
       "      <td>Wednesday</td>\n",
       "      <td>1</td>\n",
       "    </tr>\n",
       "    <tr>\n",
       "      <th>2012-01-05</th>\n",
       "      <td>331.396393</td>\n",
       "      <td>332.317322</td>\n",
       "      <td>328.443451</td>\n",
       "      <td>329.834839</td>\n",
       "      <td>329.834839</td>\n",
       "      <td>6559234</td>\n",
       "      <td>January</td>\n",
       "      <td>Thursday</td>\n",
       "      <td>1</td>\n",
       "    </tr>\n",
       "    <tr>\n",
       "      <th>2015-01-05</th>\n",
       "      <td>527.150024</td>\n",
       "      <td>527.989990</td>\n",
       "      <td>517.750000</td>\n",
       "      <td>519.460022</td>\n",
       "      <td>519.460022</td>\n",
       "      <td>2059100</td>\n",
       "      <td>January</td>\n",
       "      <td>Monday</td>\n",
       "      <td>1</td>\n",
       "    </tr>\n",
       "    <tr>\n",
       "      <th>2016-01-05</th>\n",
       "      <td>764.099976</td>\n",
       "      <td>769.200012</td>\n",
       "      <td>755.650024</td>\n",
       "      <td>761.530029</td>\n",
       "      <td>761.530029</td>\n",
       "      <td>2260800</td>\n",
       "      <td>January</td>\n",
       "      <td>Tuesday</td>\n",
       "      <td>1</td>\n",
       "    </tr>\n",
       "    <tr>\n",
       "      <th>2017-01-05</th>\n",
       "      <td>807.500000</td>\n",
       "      <td>813.739990</td>\n",
       "      <td>805.919983</td>\n",
       "      <td>813.020020</td>\n",
       "      <td>813.020020</td>\n",
       "      <td>1340500</td>\n",
       "      <td>January</td>\n",
       "      <td>Thursday</td>\n",
       "      <td>1</td>\n",
       "    </tr>\n",
       "    <tr>\n",
       "      <th>2018-01-05</th>\n",
       "      <td>1103.449951</td>\n",
       "      <td>1113.579956</td>\n",
       "      <td>1101.800049</td>\n",
       "      <td>1110.290039</td>\n",
       "      <td>1110.290039</td>\n",
       "      <td>1512500</td>\n",
       "      <td>January</td>\n",
       "      <td>Friday</td>\n",
       "      <td>1</td>\n",
       "    </tr>\n",
       "    <tr>\n",
       "      <th>2021-01-05</th>\n",
       "      <td>1725.089966</td>\n",
       "      <td>1746.829956</td>\n",
       "      <td>1716.900024</td>\n",
       "      <td>1740.050049</td>\n",
       "      <td>1740.050049</td>\n",
       "      <td>1018000</td>\n",
       "      <td>January</td>\n",
       "      <td>Tuesday</td>\n",
       "      <td>1</td>\n",
       "    </tr>\n",
       "    <tr>\n",
       "      <th>2022-01-05</th>\n",
       "      <td>2888.399902</td>\n",
       "      <td>2889.989990</td>\n",
       "      <td>2753.760010</td>\n",
       "      <td>2755.500000</td>\n",
       "      <td>2755.500000</td>\n",
       "      <td>2730900</td>\n",
       "      <td>January</td>\n",
       "      <td>Wednesday</td>\n",
       "      <td>1</td>\n",
       "    </tr>\n",
       "  </tbody>\n",
       "</table>\n",
       "</div>"
      ],
      "text/plain": [
       "                   Open         High          Low        Close    Adj Close  \\\n",
       "Date                                                                          \n",
       "2005-01-05    96.821823    98.548546    96.211212    96.851852    96.851852   \n",
       "2006-01-05   223.223221   226.001007   220.970978   225.845840   225.845840   \n",
       "2007-01-05   241.491486   243.993988   239.294296   243.838837   243.838837   \n",
       "2009-01-05   160.660660   165.785782   157.657654   164.189194   164.189194   \n",
       "2010-01-05   313.903900   314.234222   311.081085   312.307312   312.307312   \n",
       "2011-01-05   300.335327   305.470459   300.325317   304.839844   304.839844   \n",
       "2012-01-05   331.396393   332.317322   328.443451   329.834839   329.834839   \n",
       "2015-01-05   527.150024   527.989990   517.750000   519.460022   519.460022   \n",
       "2016-01-05   764.099976   769.200012   755.650024   761.530029   761.530029   \n",
       "2017-01-05   807.500000   813.739990   805.919983   813.020020   813.020020   \n",
       "2018-01-05  1103.449951  1113.579956  1101.800049  1110.290039  1110.290039   \n",
       "2021-01-05  1725.089966  1746.829956  1716.900024  1740.050049  1740.050049   \n",
       "2022-01-05  2888.399902  2889.989990  2753.760010  2755.500000  2755.500000   \n",
       "\n",
       "              Volume Month_name   Day_name  Quater  \n",
       "Date                                                \n",
       "2005-01-05  16456727    January  Wednesday       1  \n",
       "2006-01-05  21594983    January   Thursday       1  \n",
       "2007-01-05  13730456    January     Friday       1  \n",
       "2009-01-05   9768222    January     Monday       1  \n",
       "2010-01-05   6003391    January    Tuesday       1  \n",
       "2011-01-05   5059535    January  Wednesday       1  \n",
       "2012-01-05   6559234    January   Thursday       1  \n",
       "2015-01-05   2059100    January     Monday       1  \n",
       "2016-01-05   2260800    January    Tuesday       1  \n",
       "2017-01-05   1340500    January   Thursday       1  \n",
       "2018-01-05   1512500    January     Friday       1  \n",
       "2021-01-05   1018000    January    Tuesday       1  \n",
       "2022-01-05   2730900    January  Wednesday       1  "
      ]
     },
     "execution_count": 56,
     "metadata": {},
     "output_type": "execute_result"
    }
   ],
   "source": [
    "google[google.index.isin(pd.date_range(start='2005-01-05',end='2022-01-05',freq=pd.DateOffset(years=1)))]"
   ]
  },
  {
   "cell_type": "markdown",
   "metadata": {},
   "source": [
    "## Plotting: let's plot google's closing performance over the years"
   ]
  },
  {
   "cell_type": "code",
   "execution_count": 57,
   "metadata": {},
   "outputs": [
    {
     "data": {
      "text/plain": [
       "<Axes: xlabel='Date'>"
      ]
     },
     "execution_count": 57,
     "metadata": {},
     "output_type": "execute_result"
    },
    {
     "data": {
      "image/png": "[encoded data removed]",
      "text/plain": [
       "<Figure size 640x480 with 1 Axes>"
      ]
     },
     "metadata": {},
     "output_type": "display_data"
    }
   ],
   "source": [
    "google['Close'].plot()"
   ]
  },
  {
   "cell_type": "code",
   "execution_count": 60,
   "metadata": {},
   "outputs": [
    {
     "data": {
      "image/png": "[encoded data removed]",
      "text/plain": [
       "<Figure size 2000x1500 with 6 Axes>"
      ]
     },
     "metadata": {},
     "output_type": "display_data"
    }
   ],
   "source": [
    "# viz all cols together\n",
    "subset_google = google[['Open', 'High', 'Low', 'Close','Adj Close','Volume']]\n",
    "ax = subset_google.plot(subplots=True,\n",
    "                    layout=(3, 2),\n",
    "                     sharex=False,\n",
    "                     sharey=False,\n",
    "                     linewidth=0.7,\n",
    "                     fontsize=10,\n",
    "                     legend=False,\n",
    "                      figsize=(20,15),\n",
    "                      title=['Open', 'High', 'Low', 'Close','Adjusted close','Volume'])"
   ]
  },
  {
   "cell_type": "markdown",
   "metadata": {},
   "source": [
    "## Plot it for a perticular month or year"
   ]
  },
  {
   "cell_type": "code",
   "execution_count": 63,
   "metadata": {},
   "outputs": [
    {
     "data": {
      "text/plain": [
       "<Axes: xlabel='Date'>"
      ]
     },
     "execution_count": 63,
     "metadata": {},
     "output_type": "execute_result"
    },
    {
     "data": {
      "image/png": "[encoded data removed]",
      "text/plain": [
       "<Figure size 640x480 with 1 Axes>"
      ]
     },
     "metadata": {},
     "output_type": "display_data"
    }
   ],
   "source": [
    "google.loc['2020']['Close'].plot()"
   ]
  },
  {
   "cell_type": "code",
   "execution_count": 65,
   "metadata": {},
   "outputs": [
    {
     "data": {
      "text/plain": [
       "<Axes: xlabel='Date'>"
      ]
     },
     "execution_count": 65,
     "metadata": {},
     "output_type": "execute_result"
    },
    {
     "data": {
      "image/png": "[encoded data removed]",
      "text/plain": [
       "<Figure size 640x480 with 1 Axes>"
      ]
     },
     "metadata": {},
     "output_type": "display_data"
    }
   ],
   "source": [
    "google.loc['2012-12']['Open'].plot()"
   ]
  },
  {
   "cell_type": "markdown",
   "metadata": {},
   "source": [
    "## asfreq() to add a frquency"
   ]
  },
  {
   "cell_type": "code",
   "execution_count": 67,
   "metadata": {},
   "outputs": [
    {
     "data": {
      "text/plain": [
       "DatetimeIndex(['2004-08-19', '2004-08-20', '2004-08-23', '2004-08-24',\n",
       "               '2004-08-25', '2004-08-26', '2004-08-27', '2004-08-30',\n",
       "               '2004-08-31', '2004-09-01',\n",
       "               ...\n",
       "               '2022-03-11', '2022-03-14', '2022-03-15', '2022-03-16',\n",
       "               '2022-03-17', '2022-03-18', '2022-03-21', '2022-03-22',\n",
       "               '2022-03-23', '2022-03-24'],\n",
       "              dtype='datetime64[ns]', name='Date', length=4431, freq=None)"
      ]
     },
     "execution_count": 67,
     "metadata": {},
     "output_type": "execute_result"
    }
   ],
   "source": [
    "google.index"
   ]
  },
  {
   "cell_type": "code",
   "execution_count": 70,
   "metadata": {},
   "outputs": [
    {
     "data": {
      "text/html": [
       "<div>\n",
       "<style scoped>\n",
       "    .dataframe tbody tr th:only-of-type {\n",
       "        vertical-align: middle;\n",
       "    }\n",
       "\n",
       "    .dataframe tbody tr th {\n",
       "        vertical-align: top;\n",
       "    }\n",
       "\n",
       "    .dataframe thead th {\n",
       "        text-align: right;\n",
       "    }\n",
       "</style>\n",
       "<table border=\"1\" class=\"dataframe\">\n",
       "  <thead>\n",
       "    <tr style=\"text-align: right;\">\n",
       "      <th></th>\n",
       "      <th>Open</th>\n",
       "      <th>High</th>\n",
       "      <th>Low</th>\n",
       "      <th>Close</th>\n",
       "      <th>Adj Close</th>\n",
       "      <th>Volume</th>\n",
       "      <th>Month_name</th>\n",
       "      <th>Day_name</th>\n",
       "      <th>Quater</th>\n",
       "    </tr>\n",
       "    <tr>\n",
       "      <th>Date</th>\n",
       "      <th></th>\n",
       "      <th></th>\n",
       "      <th></th>\n",
       "      <th></th>\n",
       "      <th></th>\n",
       "      <th></th>\n",
       "      <th></th>\n",
       "      <th></th>\n",
       "      <th></th>\n",
       "    </tr>\n",
       "  </thead>\n",
       "  <tbody>\n",
       "    <tr>\n",
       "      <th>2004-08-19</th>\n",
       "      <td>50.050049</td>\n",
       "      <td>52.082081</td>\n",
       "      <td>48.028027</td>\n",
       "      <td>50.220219</td>\n",
       "      <td>50.220219</td>\n",
       "      <td>44659096.0</td>\n",
       "      <td>August</td>\n",
       "      <td>Thursday</td>\n",
       "      <td>3.0</td>\n",
       "    </tr>\n",
       "    <tr>\n",
       "      <th>2004-08-20</th>\n",
       "      <td>50.555557</td>\n",
       "      <td>54.594597</td>\n",
       "      <td>50.300301</td>\n",
       "      <td>54.209209</td>\n",
       "      <td>54.209209</td>\n",
       "      <td>22834343.0</td>\n",
       "      <td>August</td>\n",
       "      <td>Friday</td>\n",
       "      <td>3.0</td>\n",
       "    </tr>\n",
       "    <tr>\n",
       "      <th>2004-08-21</th>\n",
       "      <td>NaN</td>\n",
       "      <td>NaN</td>\n",
       "      <td>NaN</td>\n",
       "      <td>NaN</td>\n",
       "      <td>NaN</td>\n",
       "      <td>NaN</td>\n",
       "      <td>NaN</td>\n",
       "      <td>NaN</td>\n",
       "      <td>NaN</td>\n",
       "    </tr>\n",
       "    <tr>\n",
       "      <th>2004-08-22</th>\n",
       "      <td>NaN</td>\n",
       "      <td>NaN</td>\n",
       "      <td>NaN</td>\n",
       "      <td>NaN</td>\n",
       "      <td>NaN</td>\n",
       "      <td>NaN</td>\n",
       "      <td>NaN</td>\n",
       "      <td>NaN</td>\n",
       "      <td>NaN</td>\n",
       "    </tr>\n",
       "    <tr>\n",
       "      <th>2004-08-23</th>\n",
       "      <td>55.430431</td>\n",
       "      <td>56.796799</td>\n",
       "      <td>54.579578</td>\n",
       "      <td>54.754753</td>\n",
       "      <td>54.754753</td>\n",
       "      <td>18256126.0</td>\n",
       "      <td>August</td>\n",
       "      <td>Monday</td>\n",
       "      <td>3.0</td>\n",
       "    </tr>\n",
       "    <tr>\n",
       "      <th>...</th>\n",
       "      <td>...</td>\n",
       "      <td>...</td>\n",
       "      <td>...</td>\n",
       "      <td>...</td>\n",
       "      <td>...</td>\n",
       "      <td>...</td>\n",
       "      <td>...</td>\n",
       "      <td>...</td>\n",
       "      <td>...</td>\n",
       "    </tr>\n",
       "    <tr>\n",
       "      <th>2022-03-20</th>\n",
       "      <td>NaN</td>\n",
       "      <td>NaN</td>\n",
       "      <td>NaN</td>\n",
       "      <td>NaN</td>\n",
       "      <td>NaN</td>\n",
       "      <td>NaN</td>\n",
       "      <td>NaN</td>\n",
       "      <td>NaN</td>\n",
       "      <td>NaN</td>\n",
       "    </tr>\n",
       "    <tr>\n",
       "      <th>2022-03-21</th>\n",
       "      <td>2723.270020</td>\n",
       "      <td>2741.000000</td>\n",
       "      <td>2681.850098</td>\n",
       "      <td>2722.030029</td>\n",
       "      <td>2722.030029</td>\n",
       "      <td>1341600.0</td>\n",
       "      <td>March</td>\n",
       "      <td>Monday</td>\n",
       "      <td>1.0</td>\n",
       "    </tr>\n",
       "    <tr>\n",
       "      <th>2022-03-22</th>\n",
       "      <td>2722.030029</td>\n",
       "      <td>2821.000000</td>\n",
       "      <td>2722.030029</td>\n",
       "      <td>2797.360107</td>\n",
       "      <td>2797.360107</td>\n",
       "      <td>1774800.0</td>\n",
       "      <td>March</td>\n",
       "      <td>Tuesday</td>\n",
       "      <td>1.0</td>\n",
       "    </tr>\n",
       "    <tr>\n",
       "      <th>2022-03-23</th>\n",
       "      <td>2774.050049</td>\n",
       "      <td>2791.770020</td>\n",
       "      <td>2756.699951</td>\n",
       "      <td>2765.510010</td>\n",
       "      <td>2765.510010</td>\n",
       "      <td>1257700.0</td>\n",
       "      <td>March</td>\n",
       "      <td>Wednesday</td>\n",
       "      <td>1.0</td>\n",
       "    </tr>\n",
       "    <tr>\n",
       "      <th>2022-03-24</th>\n",
       "      <td>2784.000000</td>\n",
       "      <td>2832.379883</td>\n",
       "      <td>2755.010010</td>\n",
       "      <td>2831.439941</td>\n",
       "      <td>2831.439941</td>\n",
       "      <td>1317900.0</td>\n",
       "      <td>March</td>\n",
       "      <td>Thursday</td>\n",
       "      <td>1.0</td>\n",
       "    </tr>\n",
       "  </tbody>\n",
       "</table>\n",
       "<p>6427 rows × 9 columns</p>\n",
       "</div>"
      ],
      "text/plain": [
       "                   Open         High          Low        Close    Adj Close  \\\n",
       "Date                                                                          \n",
       "2004-08-19    50.050049    52.082081    48.028027    50.220219    50.220219   \n",
       "2004-08-20    50.555557    54.594597    50.300301    54.209209    54.209209   \n",
       "2004-08-21          NaN          NaN          NaN          NaN          NaN   \n",
       "2004-08-22          NaN          NaN          NaN          NaN          NaN   \n",
       "2004-08-23    55.430431    56.796799    54.579578    54.754753    54.754753   \n",
       "...                 ...          ...          ...          ...          ...   \n",
       "2022-03-20          NaN          NaN          NaN          NaN          NaN   \n",
       "2022-03-21  2723.270020  2741.000000  2681.850098  2722.030029  2722.030029   \n",
       "2022-03-22  2722.030029  2821.000000  2722.030029  2797.360107  2797.360107   \n",
       "2022-03-23  2774.050049  2791.770020  2756.699951  2765.510010  2765.510010   \n",
       "2022-03-24  2784.000000  2832.379883  2755.010010  2831.439941  2831.439941   \n",
       "\n",
       "                Volume Month_name   Day_name  Quater  \n",
       "Date                                                  \n",
       "2004-08-19  44659096.0     August   Thursday     3.0  \n",
       "2004-08-20  22834343.0     August     Friday     3.0  \n",
       "2004-08-21         NaN        NaN        NaN     NaN  \n",
       "2004-08-22         NaN        NaN        NaN     NaN  \n",
       "2004-08-23  18256126.0     August     Monday     3.0  \n",
       "...                ...        ...        ...     ...  \n",
       "2022-03-20         NaN        NaN        NaN     NaN  \n",
       "2022-03-21   1341600.0      March     Monday     1.0  \n",
       "2022-03-22   1774800.0      March    Tuesday     1.0  \n",
       "2022-03-23   1257700.0      March  Wednesday     1.0  \n",
       "2022-03-24   1317900.0      March   Thursday     1.0  \n",
       "\n",
       "[6427 rows x 9 columns]"
      ]
     },
     "execution_count": 70,
     "metadata": {},
     "output_type": "execute_result"
    }
   ],
   "source": [
    "google.asfreq('D') # for daily basis nan values represent no values as those are weenends"
   ]
  },
  {
   "cell_type": "code",
   "execution_count": 71,
   "metadata": {},
   "outputs": [
    {
     "data": {
      "text/html": [
       "<div>\n",
       "<style scoped>\n",
       "    .dataframe tbody tr th:only-of-type {\n",
       "        vertical-align: middle;\n",
       "    }\n",
       "\n",
       "    .dataframe tbody tr th {\n",
       "        vertical-align: top;\n",
       "    }\n",
       "\n",
       "    .dataframe thead th {\n",
       "        text-align: right;\n",
       "    }\n",
       "</style>\n",
       "<table border=\"1\" class=\"dataframe\">\n",
       "  <thead>\n",
       "    <tr style=\"text-align: right;\">\n",
       "      <th></th>\n",
       "      <th>Open</th>\n",
       "      <th>High</th>\n",
       "      <th>Low</th>\n",
       "      <th>Close</th>\n",
       "      <th>Adj Close</th>\n",
       "      <th>Volume</th>\n",
       "      <th>Month_name</th>\n",
       "      <th>Day_name</th>\n",
       "      <th>Quater</th>\n",
       "    </tr>\n",
       "    <tr>\n",
       "      <th>Date</th>\n",
       "      <th></th>\n",
       "      <th></th>\n",
       "      <th></th>\n",
       "      <th></th>\n",
       "      <th></th>\n",
       "      <th></th>\n",
       "      <th></th>\n",
       "      <th></th>\n",
       "      <th></th>\n",
       "    </tr>\n",
       "  </thead>\n",
       "  <tbody>\n",
       "    <tr>\n",
       "      <th>2004-08-19</th>\n",
       "      <td>50.050049</td>\n",
       "      <td>52.082081</td>\n",
       "      <td>48.028027</td>\n",
       "      <td>50.220219</td>\n",
       "      <td>50.220219</td>\n",
       "      <td>44659096.0</td>\n",
       "      <td>August</td>\n",
       "      <td>Thursday</td>\n",
       "      <td>3.0</td>\n",
       "    </tr>\n",
       "    <tr>\n",
       "      <th>2004-08-20</th>\n",
       "      <td>50.555557</td>\n",
       "      <td>54.594597</td>\n",
       "      <td>50.300301</td>\n",
       "      <td>54.209209</td>\n",
       "      <td>54.209209</td>\n",
       "      <td>22834343.0</td>\n",
       "      <td>August</td>\n",
       "      <td>Friday</td>\n",
       "      <td>3.0</td>\n",
       "    </tr>\n",
       "    <tr>\n",
       "      <th>2004-08-23</th>\n",
       "      <td>55.430431</td>\n",
       "      <td>56.796799</td>\n",
       "      <td>54.579578</td>\n",
       "      <td>54.754753</td>\n",
       "      <td>54.754753</td>\n",
       "      <td>18256126.0</td>\n",
       "      <td>August</td>\n",
       "      <td>Monday</td>\n",
       "      <td>3.0</td>\n",
       "    </tr>\n",
       "    <tr>\n",
       "      <th>2004-08-24</th>\n",
       "      <td>55.675674</td>\n",
       "      <td>55.855858</td>\n",
       "      <td>51.836838</td>\n",
       "      <td>52.487488</td>\n",
       "      <td>52.487488</td>\n",
       "      <td>15247337.0</td>\n",
       "      <td>August</td>\n",
       "      <td>Tuesday</td>\n",
       "      <td>3.0</td>\n",
       "    </tr>\n",
       "    <tr>\n",
       "      <th>2004-08-25</th>\n",
       "      <td>52.532532</td>\n",
       "      <td>54.054054</td>\n",
       "      <td>51.991993</td>\n",
       "      <td>53.053055</td>\n",
       "      <td>53.053055</td>\n",
       "      <td>9188602.0</td>\n",
       "      <td>August</td>\n",
       "      <td>Wednesday</td>\n",
       "      <td>3.0</td>\n",
       "    </tr>\n",
       "    <tr>\n",
       "      <th>...</th>\n",
       "      <td>...</td>\n",
       "      <td>...</td>\n",
       "      <td>...</td>\n",
       "      <td>...</td>\n",
       "      <td>...</td>\n",
       "      <td>...</td>\n",
       "      <td>...</td>\n",
       "      <td>...</td>\n",
       "      <td>...</td>\n",
       "    </tr>\n",
       "    <tr>\n",
       "      <th>2022-03-18</th>\n",
       "      <td>2668.489990</td>\n",
       "      <td>2724.879883</td>\n",
       "      <td>2645.169922</td>\n",
       "      <td>2722.510010</td>\n",
       "      <td>2722.510010</td>\n",
       "      <td>2223100.0</td>\n",
       "      <td>March</td>\n",
       "      <td>Friday</td>\n",
       "      <td>1.0</td>\n",
       "    </tr>\n",
       "    <tr>\n",
       "      <th>2022-03-21</th>\n",
       "      <td>2723.270020</td>\n",
       "      <td>2741.000000</td>\n",
       "      <td>2681.850098</td>\n",
       "      <td>2722.030029</td>\n",
       "      <td>2722.030029</td>\n",
       "      <td>1341600.0</td>\n",
       "      <td>March</td>\n",
       "      <td>Monday</td>\n",
       "      <td>1.0</td>\n",
       "    </tr>\n",
       "    <tr>\n",
       "      <th>2022-03-22</th>\n",
       "      <td>2722.030029</td>\n",
       "      <td>2821.000000</td>\n",
       "      <td>2722.030029</td>\n",
       "      <td>2797.360107</td>\n",
       "      <td>2797.360107</td>\n",
       "      <td>1774800.0</td>\n",
       "      <td>March</td>\n",
       "      <td>Tuesday</td>\n",
       "      <td>1.0</td>\n",
       "    </tr>\n",
       "    <tr>\n",
       "      <th>2022-03-23</th>\n",
       "      <td>2774.050049</td>\n",
       "      <td>2791.770020</td>\n",
       "      <td>2756.699951</td>\n",
       "      <td>2765.510010</td>\n",
       "      <td>2765.510010</td>\n",
       "      <td>1257700.0</td>\n",
       "      <td>March</td>\n",
       "      <td>Wednesday</td>\n",
       "      <td>1.0</td>\n",
       "    </tr>\n",
       "    <tr>\n",
       "      <th>2022-03-24</th>\n",
       "      <td>2784.000000</td>\n",
       "      <td>2832.379883</td>\n",
       "      <td>2755.010010</td>\n",
       "      <td>2831.439941</td>\n",
       "      <td>2831.439941</td>\n",
       "      <td>1317900.0</td>\n",
       "      <td>March</td>\n",
       "      <td>Thursday</td>\n",
       "      <td>1.0</td>\n",
       "    </tr>\n",
       "  </tbody>\n",
       "</table>\n",
       "<p>4591 rows × 9 columns</p>\n",
       "</div>"
      ],
      "text/plain": [
       "                   Open         High          Low        Close    Adj Close  \\\n",
       "Date                                                                          \n",
       "2004-08-19    50.050049    52.082081    48.028027    50.220219    50.220219   \n",
       "2004-08-20    50.555557    54.594597    50.300301    54.209209    54.209209   \n",
       "2004-08-23    55.430431    56.796799    54.579578    54.754753    54.754753   \n",
       "2004-08-24    55.675674    55.855858    51.836838    52.487488    52.487488   \n",
       "2004-08-25    52.532532    54.054054    51.991993    53.053055    53.053055   \n",
       "...                 ...          ...          ...          ...          ...   \n",
       "2022-03-18  2668.489990  2724.879883  2645.169922  2722.510010  2722.510010   \n",
       "2022-03-21  2723.270020  2741.000000  2681.850098  2722.030029  2722.030029   \n",
       "2022-03-22  2722.030029  2821.000000  2722.030029  2797.360107  2797.360107   \n",
       "2022-03-23  2774.050049  2791.770020  2756.699951  2765.510010  2765.510010   \n",
       "2022-03-24  2784.000000  2832.379883  2755.010010  2831.439941  2831.439941   \n",
       "\n",
       "                Volume Month_name   Day_name  Quater  \n",
       "Date                                                  \n",
       "2004-08-19  44659096.0     August   Thursday     3.0  \n",
       "2004-08-20  22834343.0     August     Friday     3.0  \n",
       "2004-08-23  18256126.0     August     Monday     3.0  \n",
       "2004-08-24  15247337.0     August    Tuesday     3.0  \n",
       "2004-08-25   9188602.0     August  Wednesday     3.0  \n",
       "...                ...        ...        ...     ...  \n",
       "2022-03-18   2223100.0      March     Friday     1.0  \n",
       "2022-03-21   1341600.0      March     Monday     1.0  \n",
       "2022-03-22   1774800.0      March    Tuesday     1.0  \n",
       "2022-03-23   1257700.0      March  Wednesday     1.0  \n",
       "2022-03-24   1317900.0      March   Thursday     1.0  \n",
       "\n",
       "[4591 rows x 9 columns]"
      ]
     },
     "execution_count": 71,
     "metadata": {},
     "output_type": "execute_result"
    }
   ],
   "source": [
    "google.asfreq('B') # only business days"
   ]
  },
  {
   "cell_type": "code",
   "execution_count": 72,
   "metadata": {},
   "outputs": [
    {
     "data": {
      "text/html": [
       "<div>\n",
       "<style scoped>\n",
       "    .dataframe tbody tr th:only-of-type {\n",
       "        vertical-align: middle;\n",
       "    }\n",
       "\n",
       "    .dataframe tbody tr th {\n",
       "        vertical-align: top;\n",
       "    }\n",
       "\n",
       "    .dataframe thead th {\n",
       "        text-align: right;\n",
       "    }\n",
       "</style>\n",
       "<table border=\"1\" class=\"dataframe\">\n",
       "  <thead>\n",
       "    <tr style=\"text-align: right;\">\n",
       "      <th></th>\n",
       "      <th>Open</th>\n",
       "      <th>High</th>\n",
       "      <th>Low</th>\n",
       "      <th>Close</th>\n",
       "      <th>Adj Close</th>\n",
       "      <th>Volume</th>\n",
       "      <th>Month_name</th>\n",
       "      <th>Day_name</th>\n",
       "      <th>Quater</th>\n",
       "    </tr>\n",
       "    <tr>\n",
       "      <th>Date</th>\n",
       "      <th></th>\n",
       "      <th></th>\n",
       "      <th></th>\n",
       "      <th></th>\n",
       "      <th></th>\n",
       "      <th></th>\n",
       "      <th></th>\n",
       "      <th></th>\n",
       "      <th></th>\n",
       "    </tr>\n",
       "  </thead>\n",
       "  <tbody>\n",
       "    <tr>\n",
       "      <th>2004-12-31</th>\n",
       "      <td>99.714714</td>\n",
       "      <td>100.040039</td>\n",
       "      <td>96.376373</td>\n",
       "      <td>96.491493</td>\n",
       "      <td>96.491493</td>\n",
       "      <td>15321663.0</td>\n",
       "      <td>December</td>\n",
       "      <td>Friday</td>\n",
       "      <td>4.0</td>\n",
       "    </tr>\n",
       "    <tr>\n",
       "      <th>2005-12-31</th>\n",
       "      <td>NaN</td>\n",
       "      <td>NaN</td>\n",
       "      <td>NaN</td>\n",
       "      <td>NaN</td>\n",
       "      <td>NaN</td>\n",
       "      <td>NaN</td>\n",
       "      <td>NaN</td>\n",
       "      <td>NaN</td>\n",
       "      <td>NaN</td>\n",
       "    </tr>\n",
       "    <tr>\n",
       "      <th>2006-12-31</th>\n",
       "      <td>NaN</td>\n",
       "      <td>NaN</td>\n",
       "      <td>NaN</td>\n",
       "      <td>NaN</td>\n",
       "      <td>NaN</td>\n",
       "      <td>NaN</td>\n",
       "      <td>NaN</td>\n",
       "      <td>NaN</td>\n",
       "      <td>NaN</td>\n",
       "    </tr>\n",
       "    <tr>\n",
       "      <th>2007-12-31</th>\n",
       "      <td>349.634644</td>\n",
       "      <td>351.596588</td>\n",
       "      <td>345.635651</td>\n",
       "      <td>346.086090</td>\n",
       "      <td>346.086090</td>\n",
       "      <td>4747648.0</td>\n",
       "      <td>December</td>\n",
       "      <td>Monday</td>\n",
       "      <td>4.0</td>\n",
       "    </tr>\n",
       "    <tr>\n",
       "      <th>2008-12-31</th>\n",
       "      <td>152.252258</td>\n",
       "      <td>155.655655</td>\n",
       "      <td>151.456451</td>\n",
       "      <td>153.978973</td>\n",
       "      <td>153.978973</td>\n",
       "      <td>5767826.0</td>\n",
       "      <td>December</td>\n",
       "      <td>Wednesday</td>\n",
       "      <td>4.0</td>\n",
       "    </tr>\n",
       "    <tr>\n",
       "      <th>2009-12-31</th>\n",
       "      <td>312.687683</td>\n",
       "      <td>313.013000</td>\n",
       "      <td>310.300293</td>\n",
       "      <td>310.300293</td>\n",
       "      <td>310.300293</td>\n",
       "      <td>2437160.0</td>\n",
       "      <td>December</td>\n",
       "      <td>Thursday</td>\n",
       "      <td>4.0</td>\n",
       "    </tr>\n",
       "    <tr>\n",
       "      <th>2010-12-31</th>\n",
       "      <td>298.668671</td>\n",
       "      <td>299.509521</td>\n",
       "      <td>296.311310</td>\n",
       "      <td>297.282288</td>\n",
       "      <td>297.282288</td>\n",
       "      <td>3075521.0</td>\n",
       "      <td>December</td>\n",
       "      <td>Friday</td>\n",
       "      <td>4.0</td>\n",
       "    </tr>\n",
       "    <tr>\n",
       "      <th>2011-12-31</th>\n",
       "      <td>NaN</td>\n",
       "      <td>NaN</td>\n",
       "      <td>NaN</td>\n",
       "      <td>NaN</td>\n",
       "      <td>NaN</td>\n",
       "      <td>NaN</td>\n",
       "      <td>NaN</td>\n",
       "      <td>NaN</td>\n",
       "      <td>NaN</td>\n",
       "    </tr>\n",
       "    <tr>\n",
       "      <th>2012-12-31</th>\n",
       "      <td>350.350342</td>\n",
       "      <td>355.640656</td>\n",
       "      <td>348.348358</td>\n",
       "      <td>354.044037</td>\n",
       "      <td>354.044037</td>\n",
       "      <td>3990805.0</td>\n",
       "      <td>December</td>\n",
       "      <td>Monday</td>\n",
       "      <td>4.0</td>\n",
       "    </tr>\n",
       "    <tr>\n",
       "      <th>2013-12-31</th>\n",
       "      <td>556.676697</td>\n",
       "      <td>561.061035</td>\n",
       "      <td>553.683655</td>\n",
       "      <td>560.915894</td>\n",
       "      <td>560.915894</td>\n",
       "      <td>2713084.0</td>\n",
       "      <td>December</td>\n",
       "      <td>Tuesday</td>\n",
       "      <td>4.0</td>\n",
       "    </tr>\n",
       "    <tr>\n",
       "      <th>2014-12-31</th>\n",
       "      <td>537.739990</td>\n",
       "      <td>538.400024</td>\n",
       "      <td>530.200012</td>\n",
       "      <td>530.659973</td>\n",
       "      <td>530.659973</td>\n",
       "      <td>1232400.0</td>\n",
       "      <td>December</td>\n",
       "      <td>Wednesday</td>\n",
       "      <td>4.0</td>\n",
       "    </tr>\n",
       "    <tr>\n",
       "      <th>2015-12-31</th>\n",
       "      <td>787.820007</td>\n",
       "      <td>788.330017</td>\n",
       "      <td>777.320007</td>\n",
       "      <td>778.010010</td>\n",
       "      <td>778.010010</td>\n",
       "      <td>1637600.0</td>\n",
       "      <td>December</td>\n",
       "      <td>Thursday</td>\n",
       "      <td>4.0</td>\n",
       "    </tr>\n",
       "    <tr>\n",
       "      <th>2016-12-31</th>\n",
       "      <td>NaN</td>\n",
       "      <td>NaN</td>\n",
       "      <td>NaN</td>\n",
       "      <td>NaN</td>\n",
       "      <td>NaN</td>\n",
       "      <td>NaN</td>\n",
       "      <td>NaN</td>\n",
       "      <td>NaN</td>\n",
       "      <td>NaN</td>\n",
       "    </tr>\n",
       "    <tr>\n",
       "      <th>2017-12-31</th>\n",
       "      <td>NaN</td>\n",
       "      <td>NaN</td>\n",
       "      <td>NaN</td>\n",
       "      <td>NaN</td>\n",
       "      <td>NaN</td>\n",
       "      <td>NaN</td>\n",
       "      <td>NaN</td>\n",
       "      <td>NaN</td>\n",
       "      <td>NaN</td>\n",
       "    </tr>\n",
       "    <tr>\n",
       "      <th>2018-12-31</th>\n",
       "      <td>1057.829956</td>\n",
       "      <td>1062.989990</td>\n",
       "      <td>1033.040039</td>\n",
       "      <td>1044.959961</td>\n",
       "      <td>1044.959961</td>\n",
       "      <td>1655500.0</td>\n",
       "      <td>December</td>\n",
       "      <td>Monday</td>\n",
       "      <td>4.0</td>\n",
       "    </tr>\n",
       "    <tr>\n",
       "      <th>2019-12-31</th>\n",
       "      <td>1335.790039</td>\n",
       "      <td>1340.660034</td>\n",
       "      <td>1332.130005</td>\n",
       "      <td>1339.390015</td>\n",
       "      <td>1339.390015</td>\n",
       "      <td>975700.0</td>\n",
       "      <td>December</td>\n",
       "      <td>Tuesday</td>\n",
       "      <td>4.0</td>\n",
       "    </tr>\n",
       "    <tr>\n",
       "      <th>2020-12-31</th>\n",
       "      <td>1737.270020</td>\n",
       "      <td>1757.500000</td>\n",
       "      <td>1736.089966</td>\n",
       "      <td>1752.640015</td>\n",
       "      <td>1752.640015</td>\n",
       "      <td>1053500.0</td>\n",
       "      <td>December</td>\n",
       "      <td>Thursday</td>\n",
       "      <td>4.0</td>\n",
       "    </tr>\n",
       "    <tr>\n",
       "      <th>2021-12-31</th>\n",
       "      <td>2921.000000</td>\n",
       "      <td>2933.969971</td>\n",
       "      <td>2897.040039</td>\n",
       "      <td>2897.040039</td>\n",
       "      <td>2897.040039</td>\n",
       "      <td>906800.0</td>\n",
       "      <td>December</td>\n",
       "      <td>Friday</td>\n",
       "      <td>4.0</td>\n",
       "    </tr>\n",
       "  </tbody>\n",
       "</table>\n",
       "</div>"
      ],
      "text/plain": [
       "                   Open         High          Low        Close    Adj Close  \\\n",
       "Date                                                                          \n",
       "2004-12-31    99.714714   100.040039    96.376373    96.491493    96.491493   \n",
       "2005-12-31          NaN          NaN          NaN          NaN          NaN   \n",
       "2006-12-31          NaN          NaN          NaN          NaN          NaN   \n",
       "2007-12-31   349.634644   351.596588   345.635651   346.086090   346.086090   \n",
       "2008-12-31   152.252258   155.655655   151.456451   153.978973   153.978973   \n",
       "2009-12-31   312.687683   313.013000   310.300293   310.300293   310.300293   \n",
       "2010-12-31   298.668671   299.509521   296.311310   297.282288   297.282288   \n",
       "2011-12-31          NaN          NaN          NaN          NaN          NaN   \n",
       "2012-12-31   350.350342   355.640656   348.348358   354.044037   354.044037   \n",
       "2013-12-31   556.676697   561.061035   553.683655   560.915894   560.915894   \n",
       "2014-12-31   537.739990   538.400024   530.200012   530.659973   530.659973   \n",
       "2015-12-31   787.820007   788.330017   777.320007   778.010010   778.010010   \n",
       "2016-12-31          NaN          NaN          NaN          NaN          NaN   \n",
       "2017-12-31          NaN          NaN          NaN          NaN          NaN   \n",
       "2018-12-31  1057.829956  1062.989990  1033.040039  1044.959961  1044.959961   \n",
       "2019-12-31  1335.790039  1340.660034  1332.130005  1339.390015  1339.390015   \n",
       "2020-12-31  1737.270020  1757.500000  1736.089966  1752.640015  1752.640015   \n",
       "2021-12-31  2921.000000  2933.969971  2897.040039  2897.040039  2897.040039   \n",
       "\n",
       "                Volume Month_name   Day_name  Quater  \n",
       "Date                                                  \n",
       "2004-12-31  15321663.0   December     Friday     4.0  \n",
       "2005-12-31         NaN        NaN        NaN     NaN  \n",
       "2006-12-31         NaN        NaN        NaN     NaN  \n",
       "2007-12-31   4747648.0   December     Monday     4.0  \n",
       "2008-12-31   5767826.0   December  Wednesday     4.0  \n",
       "2009-12-31   2437160.0   December   Thursday     4.0  \n",
       "2010-12-31   3075521.0   December     Friday     4.0  \n",
       "2011-12-31         NaN        NaN        NaN     NaN  \n",
       "2012-12-31   3990805.0   December     Monday     4.0  \n",
       "2013-12-31   2713084.0   December    Tuesday     4.0  \n",
       "2014-12-31   1232400.0   December  Wednesday     4.0  \n",
       "2015-12-31   1637600.0   December   Thursday     4.0  \n",
       "2016-12-31         NaN        NaN        NaN     NaN  \n",
       "2017-12-31         NaN        NaN        NaN     NaN  \n",
       "2018-12-31   1655500.0   December     Monday     4.0  \n",
       "2019-12-31    975700.0   December    Tuesday     4.0  \n",
       "2020-12-31   1053500.0   December   Thursday     4.0  \n",
       "2021-12-31    906800.0   December     Friday     4.0  "
      ]
     },
     "execution_count": 72,
     "metadata": {},
     "output_type": "execute_result"
    }
   ],
   "source": [
    "google.asfreq('Y')"
   ]
  },
  {
   "cell_type": "code",
   "execution_count": 73,
   "metadata": {},
   "outputs": [
    {
     "data": {
      "text/html": [
       "<div>\n",
       "<style scoped>\n",
       "    .dataframe tbody tr th:only-of-type {\n",
       "        vertical-align: middle;\n",
       "    }\n",
       "\n",
       "    .dataframe tbody tr th {\n",
       "        vertical-align: top;\n",
       "    }\n",
       "\n",
       "    .dataframe thead th {\n",
       "        text-align: right;\n",
       "    }\n",
       "</style>\n",
       "<table border=\"1\" class=\"dataframe\">\n",
       "  <thead>\n",
       "    <tr style=\"text-align: right;\">\n",
       "      <th></th>\n",
       "      <th>Open</th>\n",
       "      <th>High</th>\n",
       "      <th>Low</th>\n",
       "      <th>Close</th>\n",
       "      <th>Adj Close</th>\n",
       "      <th>Volume</th>\n",
       "      <th>Month_name</th>\n",
       "      <th>Day_name</th>\n",
       "      <th>Quater</th>\n",
       "    </tr>\n",
       "    <tr>\n",
       "      <th>Date</th>\n",
       "      <th></th>\n",
       "      <th></th>\n",
       "      <th></th>\n",
       "      <th></th>\n",
       "      <th></th>\n",
       "      <th></th>\n",
       "      <th></th>\n",
       "      <th></th>\n",
       "      <th></th>\n",
       "    </tr>\n",
       "  </thead>\n",
       "  <tbody>\n",
       "    <tr>\n",
       "      <th>2004-08-19 00:00:00</th>\n",
       "      <td>50.050049</td>\n",
       "      <td>52.082081</td>\n",
       "      <td>48.028027</td>\n",
       "      <td>50.220219</td>\n",
       "      <td>50.220219</td>\n",
       "      <td>44659096.0</td>\n",
       "      <td>August</td>\n",
       "      <td>Thursday</td>\n",
       "      <td>3.0</td>\n",
       "    </tr>\n",
       "    <tr>\n",
       "      <th>2004-08-19 01:00:00</th>\n",
       "      <td>NaN</td>\n",
       "      <td>NaN</td>\n",
       "      <td>NaN</td>\n",
       "      <td>NaN</td>\n",
       "      <td>NaN</td>\n",
       "      <td>NaN</td>\n",
       "      <td>NaN</td>\n",
       "      <td>NaN</td>\n",
       "      <td>NaN</td>\n",
       "    </tr>\n",
       "    <tr>\n",
       "      <th>2004-08-19 02:00:00</th>\n",
       "      <td>NaN</td>\n",
       "      <td>NaN</td>\n",
       "      <td>NaN</td>\n",
       "      <td>NaN</td>\n",
       "      <td>NaN</td>\n",
       "      <td>NaN</td>\n",
       "      <td>NaN</td>\n",
       "      <td>NaN</td>\n",
       "      <td>NaN</td>\n",
       "    </tr>\n",
       "    <tr>\n",
       "      <th>2004-08-19 03:00:00</th>\n",
       "      <td>NaN</td>\n",
       "      <td>NaN</td>\n",
       "      <td>NaN</td>\n",
       "      <td>NaN</td>\n",
       "      <td>NaN</td>\n",
       "      <td>NaN</td>\n",
       "      <td>NaN</td>\n",
       "      <td>NaN</td>\n",
       "      <td>NaN</td>\n",
       "    </tr>\n",
       "    <tr>\n",
       "      <th>2004-08-19 04:00:00</th>\n",
       "      <td>NaN</td>\n",
       "      <td>NaN</td>\n",
       "      <td>NaN</td>\n",
       "      <td>NaN</td>\n",
       "      <td>NaN</td>\n",
       "      <td>NaN</td>\n",
       "      <td>NaN</td>\n",
       "      <td>NaN</td>\n",
       "      <td>NaN</td>\n",
       "    </tr>\n",
       "    <tr>\n",
       "      <th>...</th>\n",
       "      <td>...</td>\n",
       "      <td>...</td>\n",
       "      <td>...</td>\n",
       "      <td>...</td>\n",
       "      <td>...</td>\n",
       "      <td>...</td>\n",
       "      <td>...</td>\n",
       "      <td>...</td>\n",
       "      <td>...</td>\n",
       "    </tr>\n",
       "    <tr>\n",
       "      <th>2022-03-23 20:00:00</th>\n",
       "      <td>NaN</td>\n",
       "      <td>NaN</td>\n",
       "      <td>NaN</td>\n",
       "      <td>NaN</td>\n",
       "      <td>NaN</td>\n",
       "      <td>NaN</td>\n",
       "      <td>NaN</td>\n",
       "      <td>NaN</td>\n",
       "      <td>NaN</td>\n",
       "    </tr>\n",
       "    <tr>\n",
       "      <th>2022-03-23 21:00:00</th>\n",
       "      <td>NaN</td>\n",
       "      <td>NaN</td>\n",
       "      <td>NaN</td>\n",
       "      <td>NaN</td>\n",
       "      <td>NaN</td>\n",
       "      <td>NaN</td>\n",
       "      <td>NaN</td>\n",
       "      <td>NaN</td>\n",
       "      <td>NaN</td>\n",
       "    </tr>\n",
       "    <tr>\n",
       "      <th>2022-03-23 22:00:00</th>\n",
       "      <td>NaN</td>\n",
       "      <td>NaN</td>\n",
       "      <td>NaN</td>\n",
       "      <td>NaN</td>\n",
       "      <td>NaN</td>\n",
       "      <td>NaN</td>\n",
       "      <td>NaN</td>\n",
       "      <td>NaN</td>\n",
       "      <td>NaN</td>\n",
       "    </tr>\n",
       "    <tr>\n",
       "      <th>2022-03-23 23:00:00</th>\n",
       "      <td>NaN</td>\n",
       "      <td>NaN</td>\n",
       "      <td>NaN</td>\n",
       "      <td>NaN</td>\n",
       "      <td>NaN</td>\n",
       "      <td>NaN</td>\n",
       "      <td>NaN</td>\n",
       "      <td>NaN</td>\n",
       "      <td>NaN</td>\n",
       "    </tr>\n",
       "    <tr>\n",
       "      <th>2022-03-24 00:00:00</th>\n",
       "      <td>2784.000000</td>\n",
       "      <td>2832.379883</td>\n",
       "      <td>2755.010010</td>\n",
       "      <td>2831.439941</td>\n",
       "      <td>2831.439941</td>\n",
       "      <td>1317900.0</td>\n",
       "      <td>March</td>\n",
       "      <td>Thursday</td>\n",
       "      <td>1.0</td>\n",
       "    </tr>\n",
       "  </tbody>\n",
       "</table>\n",
       "<p>154225 rows × 9 columns</p>\n",
       "</div>"
      ],
      "text/plain": [
       "                            Open         High          Low        Close  \\\n",
       "Date                                                                      \n",
       "2004-08-19 00:00:00    50.050049    52.082081    48.028027    50.220219   \n",
       "2004-08-19 01:00:00          NaN          NaN          NaN          NaN   \n",
       "2004-08-19 02:00:00          NaN          NaN          NaN          NaN   \n",
       "2004-08-19 03:00:00          NaN          NaN          NaN          NaN   \n",
       "2004-08-19 04:00:00          NaN          NaN          NaN          NaN   \n",
       "...                          ...          ...          ...          ...   \n",
       "2022-03-23 20:00:00          NaN          NaN          NaN          NaN   \n",
       "2022-03-23 21:00:00          NaN          NaN          NaN          NaN   \n",
       "2022-03-23 22:00:00          NaN          NaN          NaN          NaN   \n",
       "2022-03-23 23:00:00          NaN          NaN          NaN          NaN   \n",
       "2022-03-24 00:00:00  2784.000000  2832.379883  2755.010010  2831.439941   \n",
       "\n",
       "                       Adj Close      Volume Month_name  Day_name  Quater  \n",
       "Date                                                                       \n",
       "2004-08-19 00:00:00    50.220219  44659096.0     August  Thursday     3.0  \n",
       "2004-08-19 01:00:00          NaN         NaN        NaN       NaN     NaN  \n",
       "2004-08-19 02:00:00          NaN         NaN        NaN       NaN     NaN  \n",
       "2004-08-19 03:00:00          NaN         NaN        NaN       NaN     NaN  \n",
       "2004-08-19 04:00:00          NaN         NaN        NaN       NaN     NaN  \n",
       "...                          ...         ...        ...       ...     ...  \n",
       "2022-03-23 20:00:00          NaN         NaN        NaN       NaN     NaN  \n",
       "2022-03-23 21:00:00          NaN         NaN        NaN       NaN     NaN  \n",
       "2022-03-23 22:00:00          NaN         NaN        NaN       NaN     NaN  \n",
       "2022-03-23 23:00:00          NaN         NaN        NaN       NaN     NaN  \n",
       "2022-03-24 00:00:00  2831.439941   1317900.0      March  Thursday     1.0  \n",
       "\n",
       "[154225 rows x 9 columns]"
      ]
     },
     "execution_count": 73,
     "metadata": {},
     "output_type": "execute_result"
    }
   ],
   "source": [
    "google.asfreq('H')"
   ]
  },
  {
   "cell_type": "code",
   "execution_count": 78,
   "metadata": {},
   "outputs": [
    {
     "data": {
      "text/html": [
       "<div>\n",
       "<style scoped>\n",
       "    .dataframe tbody tr th:only-of-type {\n",
       "        vertical-align: middle;\n",
       "    }\n",
       "\n",
       "    .dataframe tbody tr th {\n",
       "        vertical-align: top;\n",
       "    }\n",
       "\n",
       "    .dataframe thead th {\n",
       "        text-align: right;\n",
       "    }\n",
       "</style>\n",
       "<table border=\"1\" class=\"dataframe\">\n",
       "  <thead>\n",
       "    <tr style=\"text-align: right;\">\n",
       "      <th></th>\n",
       "      <th>Open</th>\n",
       "      <th>High</th>\n",
       "      <th>Low</th>\n",
       "      <th>Close</th>\n",
       "      <th>Adj Close</th>\n",
       "      <th>Volume</th>\n",
       "      <th>Month_name</th>\n",
       "      <th>Day_name</th>\n",
       "      <th>Quater</th>\n",
       "    </tr>\n",
       "    <tr>\n",
       "      <th>Date</th>\n",
       "      <th></th>\n",
       "      <th></th>\n",
       "      <th></th>\n",
       "      <th></th>\n",
       "      <th></th>\n",
       "      <th></th>\n",
       "      <th></th>\n",
       "      <th></th>\n",
       "      <th></th>\n",
       "    </tr>\n",
       "  </thead>\n",
       "  <tbody>\n",
       "    <tr>\n",
       "      <th>2004-08-19 00:00:00</th>\n",
       "      <td>50.050049</td>\n",
       "      <td>52.082081</td>\n",
       "      <td>48.028027</td>\n",
       "      <td>50.220219</td>\n",
       "      <td>50.220219</td>\n",
       "      <td>44659096.0</td>\n",
       "      <td>August</td>\n",
       "      <td>Thursday</td>\n",
       "      <td>3.0</td>\n",
       "    </tr>\n",
       "    <tr>\n",
       "      <th>2004-08-19 06:00:00</th>\n",
       "      <td>NaN</td>\n",
       "      <td>NaN</td>\n",
       "      <td>NaN</td>\n",
       "      <td>NaN</td>\n",
       "      <td>NaN</td>\n",
       "      <td>NaN</td>\n",
       "      <td>NaN</td>\n",
       "      <td>NaN</td>\n",
       "      <td>NaN</td>\n",
       "    </tr>\n",
       "    <tr>\n",
       "      <th>2004-08-19 12:00:00</th>\n",
       "      <td>NaN</td>\n",
       "      <td>NaN</td>\n",
       "      <td>NaN</td>\n",
       "      <td>NaN</td>\n",
       "      <td>NaN</td>\n",
       "      <td>NaN</td>\n",
       "      <td>NaN</td>\n",
       "      <td>NaN</td>\n",
       "      <td>NaN</td>\n",
       "    </tr>\n",
       "    <tr>\n",
       "      <th>2004-08-19 18:00:00</th>\n",
       "      <td>NaN</td>\n",
       "      <td>NaN</td>\n",
       "      <td>NaN</td>\n",
       "      <td>NaN</td>\n",
       "      <td>NaN</td>\n",
       "      <td>NaN</td>\n",
       "      <td>NaN</td>\n",
       "      <td>NaN</td>\n",
       "      <td>NaN</td>\n",
       "    </tr>\n",
       "    <tr>\n",
       "      <th>2004-08-20 00:00:00</th>\n",
       "      <td>50.555557</td>\n",
       "      <td>54.594597</td>\n",
       "      <td>50.300301</td>\n",
       "      <td>54.209209</td>\n",
       "      <td>54.209209</td>\n",
       "      <td>22834343.0</td>\n",
       "      <td>August</td>\n",
       "      <td>Friday</td>\n",
       "      <td>3.0</td>\n",
       "    </tr>\n",
       "    <tr>\n",
       "      <th>...</th>\n",
       "      <td>...</td>\n",
       "      <td>...</td>\n",
       "      <td>...</td>\n",
       "      <td>...</td>\n",
       "      <td>...</td>\n",
       "      <td>...</td>\n",
       "      <td>...</td>\n",
       "      <td>...</td>\n",
       "      <td>...</td>\n",
       "    </tr>\n",
       "    <tr>\n",
       "      <th>2022-03-23 00:00:00</th>\n",
       "      <td>2774.050049</td>\n",
       "      <td>2791.770020</td>\n",
       "      <td>2756.699951</td>\n",
       "      <td>2765.510010</td>\n",
       "      <td>2765.510010</td>\n",
       "      <td>1257700.0</td>\n",
       "      <td>March</td>\n",
       "      <td>Wednesday</td>\n",
       "      <td>1.0</td>\n",
       "    </tr>\n",
       "    <tr>\n",
       "      <th>2022-03-23 06:00:00</th>\n",
       "      <td>NaN</td>\n",
       "      <td>NaN</td>\n",
       "      <td>NaN</td>\n",
       "      <td>NaN</td>\n",
       "      <td>NaN</td>\n",
       "      <td>NaN</td>\n",
       "      <td>NaN</td>\n",
       "      <td>NaN</td>\n",
       "      <td>NaN</td>\n",
       "    </tr>\n",
       "    <tr>\n",
       "      <th>2022-03-23 12:00:00</th>\n",
       "      <td>NaN</td>\n",
       "      <td>NaN</td>\n",
       "      <td>NaN</td>\n",
       "      <td>NaN</td>\n",
       "      <td>NaN</td>\n",
       "      <td>NaN</td>\n",
       "      <td>NaN</td>\n",
       "      <td>NaN</td>\n",
       "      <td>NaN</td>\n",
       "    </tr>\n",
       "    <tr>\n",
       "      <th>2022-03-23 18:00:00</th>\n",
       "      <td>NaN</td>\n",
       "      <td>NaN</td>\n",
       "      <td>NaN</td>\n",
       "      <td>NaN</td>\n",
       "      <td>NaN</td>\n",
       "      <td>NaN</td>\n",
       "      <td>NaN</td>\n",
       "      <td>NaN</td>\n",
       "      <td>NaN</td>\n",
       "    </tr>\n",
       "    <tr>\n",
       "      <th>2022-03-24 00:00:00</th>\n",
       "      <td>2784.000000</td>\n",
       "      <td>2832.379883</td>\n",
       "      <td>2755.010010</td>\n",
       "      <td>2831.439941</td>\n",
       "      <td>2831.439941</td>\n",
       "      <td>1317900.0</td>\n",
       "      <td>March</td>\n",
       "      <td>Thursday</td>\n",
       "      <td>1.0</td>\n",
       "    </tr>\n",
       "  </tbody>\n",
       "</table>\n",
       "<p>25705 rows × 9 columns</p>\n",
       "</div>"
      ],
      "text/plain": [
       "                            Open         High          Low        Close  \\\n",
       "Date                                                                      \n",
       "2004-08-19 00:00:00    50.050049    52.082081    48.028027    50.220219   \n",
       "2004-08-19 06:00:00          NaN          NaN          NaN          NaN   \n",
       "2004-08-19 12:00:00          NaN          NaN          NaN          NaN   \n",
       "2004-08-19 18:00:00          NaN          NaN          NaN          NaN   \n",
       "2004-08-20 00:00:00    50.555557    54.594597    50.300301    54.209209   \n",
       "...                          ...          ...          ...          ...   \n",
       "2022-03-23 00:00:00  2774.050049  2791.770020  2756.699951  2765.510010   \n",
       "2022-03-23 06:00:00          NaN          NaN          NaN          NaN   \n",
       "2022-03-23 12:00:00          NaN          NaN          NaN          NaN   \n",
       "2022-03-23 18:00:00          NaN          NaN          NaN          NaN   \n",
       "2022-03-24 00:00:00  2784.000000  2832.379883  2755.010010  2831.439941   \n",
       "\n",
       "                       Adj Close      Volume Month_name   Day_name  Quater  \n",
       "Date                                                                        \n",
       "2004-08-19 00:00:00    50.220219  44659096.0     August   Thursday     3.0  \n",
       "2004-08-19 06:00:00          NaN         NaN        NaN        NaN     NaN  \n",
       "2004-08-19 12:00:00          NaN         NaN        NaN        NaN     NaN  \n",
       "2004-08-19 18:00:00          NaN         NaN        NaN        NaN     NaN  \n",
       "2004-08-20 00:00:00    54.209209  22834343.0     August     Friday     3.0  \n",
       "...                          ...         ...        ...        ...     ...  \n",
       "2022-03-23 00:00:00  2765.510010   1257700.0      March  Wednesday     1.0  \n",
       "2022-03-23 06:00:00          NaN         NaN        NaN        NaN     NaN  \n",
       "2022-03-23 12:00:00          NaN         NaN        NaN        NaN     NaN  \n",
       "2022-03-23 18:00:00          NaN         NaN        NaN        NaN     NaN  \n",
       "2022-03-24 00:00:00  2831.439941   1317900.0      March   Thursday     1.0  \n",
       "\n",
       "[25705 rows x 9 columns]"
      ]
     },
     "execution_count": 78,
     "metadata": {},
     "output_type": "execute_result"
    }
   ],
   "source": [
    "google.asfreq('6H')"
   ]
  },
  {
   "cell_type": "markdown",
   "metadata": {},
   "source": [
    "## parameter 'method=' values 'ffill' and 'bfill'. we can use this parameter to fill the nan values with back fill and forward fill"
   ]
  },
  {
   "cell_type": "code",
   "execution_count": 77,
   "metadata": {},
   "outputs": [
    {
     "data": {
      "text/html": [
       "<div>\n",
       "<style scoped>\n",
       "    .dataframe tbody tr th:only-of-type {\n",
       "        vertical-align: middle;\n",
       "    }\n",
       "\n",
       "    .dataframe tbody tr th {\n",
       "        vertical-align: top;\n",
       "    }\n",
       "\n",
       "    .dataframe thead th {\n",
       "        text-align: right;\n",
       "    }\n",
       "</style>\n",
       "<table border=\"1\" class=\"dataframe\">\n",
       "  <thead>\n",
       "    <tr style=\"text-align: right;\">\n",
       "      <th></th>\n",
       "      <th>Open</th>\n",
       "      <th>High</th>\n",
       "      <th>Low</th>\n",
       "      <th>Close</th>\n",
       "      <th>Adj Close</th>\n",
       "      <th>Volume</th>\n",
       "      <th>Month_name</th>\n",
       "      <th>Day_name</th>\n",
       "      <th>Quater</th>\n",
       "    </tr>\n",
       "    <tr>\n",
       "      <th>Date</th>\n",
       "      <th></th>\n",
       "      <th></th>\n",
       "      <th></th>\n",
       "      <th></th>\n",
       "      <th></th>\n",
       "      <th></th>\n",
       "      <th></th>\n",
       "      <th></th>\n",
       "      <th></th>\n",
       "    </tr>\n",
       "  </thead>\n",
       "  <tbody>\n",
       "    <tr>\n",
       "      <th>2004-08-19 00:00:00</th>\n",
       "      <td>50.050049</td>\n",
       "      <td>52.082081</td>\n",
       "      <td>48.028027</td>\n",
       "      <td>50.220219</td>\n",
       "      <td>50.220219</td>\n",
       "      <td>44659096</td>\n",
       "      <td>August</td>\n",
       "      <td>Thursday</td>\n",
       "      <td>3</td>\n",
       "    </tr>\n",
       "    <tr>\n",
       "      <th>2004-08-19 06:00:00</th>\n",
       "      <td>50.555557</td>\n",
       "      <td>54.594597</td>\n",
       "      <td>50.300301</td>\n",
       "      <td>54.209209</td>\n",
       "      <td>54.209209</td>\n",
       "      <td>22834343</td>\n",
       "      <td>August</td>\n",
       "      <td>Friday</td>\n",
       "      <td>3</td>\n",
       "    </tr>\n",
       "    <tr>\n",
       "      <th>2004-08-19 12:00:00</th>\n",
       "      <td>50.555557</td>\n",
       "      <td>54.594597</td>\n",
       "      <td>50.300301</td>\n",
       "      <td>54.209209</td>\n",
       "      <td>54.209209</td>\n",
       "      <td>22834343</td>\n",
       "      <td>August</td>\n",
       "      <td>Friday</td>\n",
       "      <td>3</td>\n",
       "    </tr>\n",
       "    <tr>\n",
       "      <th>2004-08-19 18:00:00</th>\n",
       "      <td>50.555557</td>\n",
       "      <td>54.594597</td>\n",
       "      <td>50.300301</td>\n",
       "      <td>54.209209</td>\n",
       "      <td>54.209209</td>\n",
       "      <td>22834343</td>\n",
       "      <td>August</td>\n",
       "      <td>Friday</td>\n",
       "      <td>3</td>\n",
       "    </tr>\n",
       "    <tr>\n",
       "      <th>2004-08-20 00:00:00</th>\n",
       "      <td>50.555557</td>\n",
       "      <td>54.594597</td>\n",
       "      <td>50.300301</td>\n",
       "      <td>54.209209</td>\n",
       "      <td>54.209209</td>\n",
       "      <td>22834343</td>\n",
       "      <td>August</td>\n",
       "      <td>Friday</td>\n",
       "      <td>3</td>\n",
       "    </tr>\n",
       "    <tr>\n",
       "      <th>...</th>\n",
       "      <td>...</td>\n",
       "      <td>...</td>\n",
       "      <td>...</td>\n",
       "      <td>...</td>\n",
       "      <td>...</td>\n",
       "      <td>...</td>\n",
       "      <td>...</td>\n",
       "      <td>...</td>\n",
       "      <td>...</td>\n",
       "    </tr>\n",
       "    <tr>\n",
       "      <th>2022-03-23 00:00:00</th>\n",
       "      <td>2774.050049</td>\n",
       "      <td>2791.770020</td>\n",
       "      <td>2756.699951</td>\n",
       "      <td>2765.510010</td>\n",
       "      <td>2765.510010</td>\n",
       "      <td>1257700</td>\n",
       "      <td>March</td>\n",
       "      <td>Wednesday</td>\n",
       "      <td>1</td>\n",
       "    </tr>\n",
       "    <tr>\n",
       "      <th>2022-03-23 06:00:00</th>\n",
       "      <td>2784.000000</td>\n",
       "      <td>2832.379883</td>\n",
       "      <td>2755.010010</td>\n",
       "      <td>2831.439941</td>\n",
       "      <td>2831.439941</td>\n",
       "      <td>1317900</td>\n",
       "      <td>March</td>\n",
       "      <td>Thursday</td>\n",
       "      <td>1</td>\n",
       "    </tr>\n",
       "    <tr>\n",
       "      <th>2022-03-23 12:00:00</th>\n",
       "      <td>2784.000000</td>\n",
       "      <td>2832.379883</td>\n",
       "      <td>2755.010010</td>\n",
       "      <td>2831.439941</td>\n",
       "      <td>2831.439941</td>\n",
       "      <td>1317900</td>\n",
       "      <td>March</td>\n",
       "      <td>Thursday</td>\n",
       "      <td>1</td>\n",
       "    </tr>\n",
       "    <tr>\n",
       "      <th>2022-03-23 18:00:00</th>\n",
       "      <td>2784.000000</td>\n",
       "      <td>2832.379883</td>\n",
       "      <td>2755.010010</td>\n",
       "      <td>2831.439941</td>\n",
       "      <td>2831.439941</td>\n",
       "      <td>1317900</td>\n",
       "      <td>March</td>\n",
       "      <td>Thursday</td>\n",
       "      <td>1</td>\n",
       "    </tr>\n",
       "    <tr>\n",
       "      <th>2022-03-24 00:00:00</th>\n",
       "      <td>2784.000000</td>\n",
       "      <td>2832.379883</td>\n",
       "      <td>2755.010010</td>\n",
       "      <td>2831.439941</td>\n",
       "      <td>2831.439941</td>\n",
       "      <td>1317900</td>\n",
       "      <td>March</td>\n",
       "      <td>Thursday</td>\n",
       "      <td>1</td>\n",
       "    </tr>\n",
       "  </tbody>\n",
       "</table>\n",
       "<p>25705 rows × 9 columns</p>\n",
       "</div>"
      ],
      "text/plain": [
       "                            Open         High          Low        Close  \\\n",
       "Date                                                                      \n",
       "2004-08-19 00:00:00    50.050049    52.082081    48.028027    50.220219   \n",
       "2004-08-19 06:00:00    50.555557    54.594597    50.300301    54.209209   \n",
       "2004-08-19 12:00:00    50.555557    54.594597    50.300301    54.209209   \n",
       "2004-08-19 18:00:00    50.555557    54.594597    50.300301    54.209209   \n",
       "2004-08-20 00:00:00    50.555557    54.594597    50.300301    54.209209   \n",
       "...                          ...          ...          ...          ...   \n",
       "2022-03-23 00:00:00  2774.050049  2791.770020  2756.699951  2765.510010   \n",
       "2022-03-23 06:00:00  2784.000000  2832.379883  2755.010010  2831.439941   \n",
       "2022-03-23 12:00:00  2784.000000  2832.379883  2755.010010  2831.439941   \n",
       "2022-03-23 18:00:00  2784.000000  2832.379883  2755.010010  2831.439941   \n",
       "2022-03-24 00:00:00  2784.000000  2832.379883  2755.010010  2831.439941   \n",
       "\n",
       "                       Adj Close    Volume Month_name   Day_name  Quater  \n",
       "Date                                                                      \n",
       "2004-08-19 00:00:00    50.220219  44659096     August   Thursday       3  \n",
       "2004-08-19 06:00:00    54.209209  22834343     August     Friday       3  \n",
       "2004-08-19 12:00:00    54.209209  22834343     August     Friday       3  \n",
       "2004-08-19 18:00:00    54.209209  22834343     August     Friday       3  \n",
       "2004-08-20 00:00:00    54.209209  22834343     August     Friday       3  \n",
       "...                          ...       ...        ...        ...     ...  \n",
       "2022-03-23 00:00:00  2765.510010   1257700      March  Wednesday       1  \n",
       "2022-03-23 06:00:00  2831.439941   1317900      March   Thursday       1  \n",
       "2022-03-23 12:00:00  2831.439941   1317900      March   Thursday       1  \n",
       "2022-03-23 18:00:00  2831.439941   1317900      March   Thursday       1  \n",
       "2022-03-24 00:00:00  2831.439941   1317900      March   Thursday       1  \n",
       "\n",
       "[25705 rows x 9 columns]"
      ]
     },
     "execution_count": 77,
     "metadata": {},
     "output_type": "execute_result"
    }
   ],
   "source": [
    "google.asfreq('6H',method='bfill')"
   ]
  },
  {
   "cell_type": "code",
   "execution_count": 79,
   "metadata": {},
   "outputs": [
    {
     "data": {
      "text/html": [
       "<div>\n",
       "<style scoped>\n",
       "    .dataframe tbody tr th:only-of-type {\n",
       "        vertical-align: middle;\n",
       "    }\n",
       "\n",
       "    .dataframe tbody tr th {\n",
       "        vertical-align: top;\n",
       "    }\n",
       "\n",
       "    .dataframe thead th {\n",
       "        text-align: right;\n",
       "    }\n",
       "</style>\n",
       "<table border=\"1\" class=\"dataframe\">\n",
       "  <thead>\n",
       "    <tr style=\"text-align: right;\">\n",
       "      <th></th>\n",
       "      <th>Open</th>\n",
       "      <th>High</th>\n",
       "      <th>Low</th>\n",
       "      <th>Close</th>\n",
       "      <th>Adj Close</th>\n",
       "      <th>Volume</th>\n",
       "      <th>Month_name</th>\n",
       "      <th>Day_name</th>\n",
       "      <th>Quater</th>\n",
       "    </tr>\n",
       "    <tr>\n",
       "      <th>Date</th>\n",
       "      <th></th>\n",
       "      <th></th>\n",
       "      <th></th>\n",
       "      <th></th>\n",
       "      <th></th>\n",
       "      <th></th>\n",
       "      <th></th>\n",
       "      <th></th>\n",
       "      <th></th>\n",
       "    </tr>\n",
       "  </thead>\n",
       "  <tbody>\n",
       "    <tr>\n",
       "      <th>2004-08-19 00:00:00</th>\n",
       "      <td>50.050049</td>\n",
       "      <td>52.082081</td>\n",
       "      <td>48.028027</td>\n",
       "      <td>50.220219</td>\n",
       "      <td>50.220219</td>\n",
       "      <td>44659096</td>\n",
       "      <td>August</td>\n",
       "      <td>Thursday</td>\n",
       "      <td>3</td>\n",
       "    </tr>\n",
       "    <tr>\n",
       "      <th>2004-08-19 06:00:00</th>\n",
       "      <td>50.050049</td>\n",
       "      <td>52.082081</td>\n",
       "      <td>48.028027</td>\n",
       "      <td>50.220219</td>\n",
       "      <td>50.220219</td>\n",
       "      <td>44659096</td>\n",
       "      <td>August</td>\n",
       "      <td>Thursday</td>\n",
       "      <td>3</td>\n",
       "    </tr>\n",
       "    <tr>\n",
       "      <th>2004-08-19 12:00:00</th>\n",
       "      <td>50.050049</td>\n",
       "      <td>52.082081</td>\n",
       "      <td>48.028027</td>\n",
       "      <td>50.220219</td>\n",
       "      <td>50.220219</td>\n",
       "      <td>44659096</td>\n",
       "      <td>August</td>\n",
       "      <td>Thursday</td>\n",
       "      <td>3</td>\n",
       "    </tr>\n",
       "    <tr>\n",
       "      <th>2004-08-19 18:00:00</th>\n",
       "      <td>50.050049</td>\n",
       "      <td>52.082081</td>\n",
       "      <td>48.028027</td>\n",
       "      <td>50.220219</td>\n",
       "      <td>50.220219</td>\n",
       "      <td>44659096</td>\n",
       "      <td>August</td>\n",
       "      <td>Thursday</td>\n",
       "      <td>3</td>\n",
       "    </tr>\n",
       "    <tr>\n",
       "      <th>2004-08-20 00:00:00</th>\n",
       "      <td>50.555557</td>\n",
       "      <td>54.594597</td>\n",
       "      <td>50.300301</td>\n",
       "      <td>54.209209</td>\n",
       "      <td>54.209209</td>\n",
       "      <td>22834343</td>\n",
       "      <td>August</td>\n",
       "      <td>Friday</td>\n",
       "      <td>3</td>\n",
       "    </tr>\n",
       "    <tr>\n",
       "      <th>...</th>\n",
       "      <td>...</td>\n",
       "      <td>...</td>\n",
       "      <td>...</td>\n",
       "      <td>...</td>\n",
       "      <td>...</td>\n",
       "      <td>...</td>\n",
       "      <td>...</td>\n",
       "      <td>...</td>\n",
       "      <td>...</td>\n",
       "    </tr>\n",
       "    <tr>\n",
       "      <th>2022-03-23 00:00:00</th>\n",
       "      <td>2774.050049</td>\n",
       "      <td>2791.770020</td>\n",
       "      <td>2756.699951</td>\n",
       "      <td>2765.510010</td>\n",
       "      <td>2765.510010</td>\n",
       "      <td>1257700</td>\n",
       "      <td>March</td>\n",
       "      <td>Wednesday</td>\n",
       "      <td>1</td>\n",
       "    </tr>\n",
       "    <tr>\n",
       "      <th>2022-03-23 06:00:00</th>\n",
       "      <td>2774.050049</td>\n",
       "      <td>2791.770020</td>\n",
       "      <td>2756.699951</td>\n",
       "      <td>2765.510010</td>\n",
       "      <td>2765.510010</td>\n",
       "      <td>1257700</td>\n",
       "      <td>March</td>\n",
       "      <td>Wednesday</td>\n",
       "      <td>1</td>\n",
       "    </tr>\n",
       "    <tr>\n",
       "      <th>2022-03-23 12:00:00</th>\n",
       "      <td>2774.050049</td>\n",
       "      <td>2791.770020</td>\n",
       "      <td>2756.699951</td>\n",
       "      <td>2765.510010</td>\n",
       "      <td>2765.510010</td>\n",
       "      <td>1257700</td>\n",
       "      <td>March</td>\n",
       "      <td>Wednesday</td>\n",
       "      <td>1</td>\n",
       "    </tr>\n",
       "    <tr>\n",
       "      <th>2022-03-23 18:00:00</th>\n",
       "      <td>2774.050049</td>\n",
       "      <td>2791.770020</td>\n",
       "      <td>2756.699951</td>\n",
       "      <td>2765.510010</td>\n",
       "      <td>2765.510010</td>\n",
       "      <td>1257700</td>\n",
       "      <td>March</td>\n",
       "      <td>Wednesday</td>\n",
       "      <td>1</td>\n",
       "    </tr>\n",
       "    <tr>\n",
       "      <th>2022-03-24 00:00:00</th>\n",
       "      <td>2784.000000</td>\n",
       "      <td>2832.379883</td>\n",
       "      <td>2755.010010</td>\n",
       "      <td>2831.439941</td>\n",
       "      <td>2831.439941</td>\n",
       "      <td>1317900</td>\n",
       "      <td>March</td>\n",
       "      <td>Thursday</td>\n",
       "      <td>1</td>\n",
       "    </tr>\n",
       "  </tbody>\n",
       "</table>\n",
       "<p>25705 rows × 9 columns</p>\n",
       "</div>"
      ],
      "text/plain": [
       "                            Open         High          Low        Close  \\\n",
       "Date                                                                      \n",
       "2004-08-19 00:00:00    50.050049    52.082081    48.028027    50.220219   \n",
       "2004-08-19 06:00:00    50.050049    52.082081    48.028027    50.220219   \n",
       "2004-08-19 12:00:00    50.050049    52.082081    48.028027    50.220219   \n",
       "2004-08-19 18:00:00    50.050049    52.082081    48.028027    50.220219   \n",
       "2004-08-20 00:00:00    50.555557    54.594597    50.300301    54.209209   \n",
       "...                          ...          ...          ...          ...   \n",
       "2022-03-23 00:00:00  2774.050049  2791.770020  2756.699951  2765.510010   \n",
       "2022-03-23 06:00:00  2774.050049  2791.770020  2756.699951  2765.510010   \n",
       "2022-03-23 12:00:00  2774.050049  2791.770020  2756.699951  2765.510010   \n",
       "2022-03-23 18:00:00  2774.050049  2791.770020  2756.699951  2765.510010   \n",
       "2022-03-24 00:00:00  2784.000000  2832.379883  2755.010010  2831.439941   \n",
       "\n",
       "                       Adj Close    Volume Month_name   Day_name  Quater  \n",
       "Date                                                                      \n",
       "2004-08-19 00:00:00    50.220219  44659096     August   Thursday       3  \n",
       "2004-08-19 06:00:00    50.220219  44659096     August   Thursday       3  \n",
       "2004-08-19 12:00:00    50.220219  44659096     August   Thursday       3  \n",
       "2004-08-19 18:00:00    50.220219  44659096     August   Thursday       3  \n",
       "2004-08-20 00:00:00    54.209209  22834343     August     Friday       3  \n",
       "...                          ...       ...        ...        ...     ...  \n",
       "2022-03-23 00:00:00  2765.510010   1257700      March  Wednesday       1  \n",
       "2022-03-23 06:00:00  2765.510010   1257700      March  Wednesday       1  \n",
       "2022-03-23 12:00:00  2765.510010   1257700      March  Wednesday       1  \n",
       "2022-03-23 18:00:00  2765.510010   1257700      March  Wednesday       1  \n",
       "2022-03-24 00:00:00  2831.439941   1317900      March   Thursday       1  \n",
       "\n",
       "[25705 rows x 9 columns]"
      ]
     },
     "execution_count": 79,
     "metadata": {},
     "output_type": "execute_result"
    }
   ],
   "source": [
    "google.asfreq('6H',method='ffill')"
   ]
  },
  {
   "cell_type": "markdown",
   "metadata": {},
   "source": [
    "### quaterly data"
   ]
  },
  {
   "cell_type": "code",
   "execution_count": 83,
   "metadata": {},
   "outputs": [
    {
     "data": {
      "text/html": [
       "<div>\n",
       "<style scoped>\n",
       "    .dataframe tbody tr th:only-of-type {\n",
       "        vertical-align: middle;\n",
       "    }\n",
       "\n",
       "    .dataframe tbody tr th {\n",
       "        vertical-align: top;\n",
       "    }\n",
       "\n",
       "    .dataframe thead th {\n",
       "        text-align: right;\n",
       "    }\n",
       "</style>\n",
       "<table border=\"1\" class=\"dataframe\">\n",
       "  <thead>\n",
       "    <tr style=\"text-align: right;\">\n",
       "      <th></th>\n",
       "      <th>Open</th>\n",
       "      <th>High</th>\n",
       "      <th>Low</th>\n",
       "      <th>Close</th>\n",
       "      <th>Adj Close</th>\n",
       "      <th>Volume</th>\n",
       "      <th>Month_name</th>\n",
       "      <th>Day_name</th>\n",
       "      <th>Quater</th>\n",
       "    </tr>\n",
       "    <tr>\n",
       "      <th>Date</th>\n",
       "      <th></th>\n",
       "      <th></th>\n",
       "      <th></th>\n",
       "      <th></th>\n",
       "      <th></th>\n",
       "      <th></th>\n",
       "      <th></th>\n",
       "      <th></th>\n",
       "      <th></th>\n",
       "    </tr>\n",
       "  </thead>\n",
       "  <tbody>\n",
       "    <tr>\n",
       "      <th>2004-09-30</th>\n",
       "      <td>65.015015</td>\n",
       "      <td>66.216217</td>\n",
       "      <td>64.564568</td>\n",
       "      <td>64.864868</td>\n",
       "      <td>64.864868</td>\n",
       "      <td>13758028.0</td>\n",
       "      <td>September</td>\n",
       "      <td>Thursday</td>\n",
       "      <td>3.0</td>\n",
       "    </tr>\n",
       "    <tr>\n",
       "      <th>2004-12-31</th>\n",
       "      <td>99.714714</td>\n",
       "      <td>100.040039</td>\n",
       "      <td>96.376373</td>\n",
       "      <td>96.491493</td>\n",
       "      <td>96.491493</td>\n",
       "      <td>15321663.0</td>\n",
       "      <td>December</td>\n",
       "      <td>Friday</td>\n",
       "      <td>4.0</td>\n",
       "    </tr>\n",
       "    <tr>\n",
       "      <th>2005-03-31</th>\n",
       "      <td>89.064064</td>\n",
       "      <td>90.785789</td>\n",
       "      <td>88.908913</td>\n",
       "      <td>90.345345</td>\n",
       "      <td>90.345345</td>\n",
       "      <td>13523663.0</td>\n",
       "      <td>March</td>\n",
       "      <td>Thursday</td>\n",
       "      <td>1.0</td>\n",
       "    </tr>\n",
       "    <tr>\n",
       "      <th>2005-06-30</th>\n",
       "      <td>147.317322</td>\n",
       "      <td>149.614609</td>\n",
       "      <td>145.665665</td>\n",
       "      <td>147.222229</td>\n",
       "      <td>147.222229</td>\n",
       "      <td>30158611.0</td>\n",
       "      <td>June</td>\n",
       "      <td>Thursday</td>\n",
       "      <td>2.0</td>\n",
       "    </tr>\n",
       "    <tr>\n",
       "      <th>2005-09-30</th>\n",
       "      <td>157.267273</td>\n",
       "      <td>158.908905</td>\n",
       "      <td>156.301300</td>\n",
       "      <td>158.388382</td>\n",
       "      <td>158.388382</td>\n",
       "      <td>18284297.0</td>\n",
       "      <td>September</td>\n",
       "      <td>Friday</td>\n",
       "      <td>3.0</td>\n",
       "    </tr>\n",
       "    <tr>\n",
       "      <th>...</th>\n",
       "      <td>...</td>\n",
       "      <td>...</td>\n",
       "      <td>...</td>\n",
       "      <td>...</td>\n",
       "      <td>...</td>\n",
       "      <td>...</td>\n",
       "      <td>...</td>\n",
       "      <td>...</td>\n",
       "      <td>...</td>\n",
       "    </tr>\n",
       "    <tr>\n",
       "      <th>2020-12-31</th>\n",
       "      <td>1737.270020</td>\n",
       "      <td>1757.500000</td>\n",
       "      <td>1736.089966</td>\n",
       "      <td>1752.640015</td>\n",
       "      <td>1752.640015</td>\n",
       "      <td>1053500.0</td>\n",
       "      <td>December</td>\n",
       "      <td>Thursday</td>\n",
       "      <td>4.0</td>\n",
       "    </tr>\n",
       "    <tr>\n",
       "      <th>2021-03-31</th>\n",
       "      <td>2054.399902</td>\n",
       "      <td>2086.260010</td>\n",
       "      <td>2047.000000</td>\n",
       "      <td>2062.520020</td>\n",
       "      <td>2062.520020</td>\n",
       "      <td>2128500.0</td>\n",
       "      <td>March</td>\n",
       "      <td>Wednesday</td>\n",
       "      <td>1.0</td>\n",
       "    </tr>\n",
       "    <tr>\n",
       "      <th>2021-06-30</th>\n",
       "      <td>2439.889893</td>\n",
       "      <td>2445.139893</td>\n",
       "      <td>2427.090088</td>\n",
       "      <td>2441.790039</td>\n",
       "      <td>2441.790039</td>\n",
       "      <td>1223700.0</td>\n",
       "      <td>June</td>\n",
       "      <td>Wednesday</td>\n",
       "      <td>2.0</td>\n",
       "    </tr>\n",
       "    <tr>\n",
       "      <th>2021-09-30</th>\n",
       "      <td>2685.229980</td>\n",
       "      <td>2710.850098</td>\n",
       "      <td>2671.120117</td>\n",
       "      <td>2673.520020</td>\n",
       "      <td>2673.520020</td>\n",
       "      <td>1899800.0</td>\n",
       "      <td>September</td>\n",
       "      <td>Thursday</td>\n",
       "      <td>3.0</td>\n",
       "    </tr>\n",
       "    <tr>\n",
       "      <th>2021-12-31</th>\n",
       "      <td>2921.000000</td>\n",
       "      <td>2933.969971</td>\n",
       "      <td>2897.040039</td>\n",
       "      <td>2897.040039</td>\n",
       "      <td>2897.040039</td>\n",
       "      <td>906800.0</td>\n",
       "      <td>December</td>\n",
       "      <td>Friday</td>\n",
       "      <td>4.0</td>\n",
       "    </tr>\n",
       "  </tbody>\n",
       "</table>\n",
       "<p>70 rows × 9 columns</p>\n",
       "</div>"
      ],
      "text/plain": [
       "                   Open         High          Low        Close    Adj Close  \\\n",
       "Date                                                                          \n",
       "2004-09-30    65.015015    66.216217    64.564568    64.864868    64.864868   \n",
       "2004-12-31    99.714714   100.040039    96.376373    96.491493    96.491493   \n",
       "2005-03-31    89.064064    90.785789    88.908913    90.345345    90.345345   \n",
       "2005-06-30   147.317322   149.614609   145.665665   147.222229   147.222229   \n",
       "2005-09-30   157.267273   158.908905   156.301300   158.388382   158.388382   \n",
       "...                 ...          ...          ...          ...          ...   \n",
       "2020-12-31  1737.270020  1757.500000  1736.089966  1752.640015  1752.640015   \n",
       "2021-03-31  2054.399902  2086.260010  2047.000000  2062.520020  2062.520020   \n",
       "2021-06-30  2439.889893  2445.139893  2427.090088  2441.790039  2441.790039   \n",
       "2021-09-30  2685.229980  2710.850098  2671.120117  2673.520020  2673.520020   \n",
       "2021-12-31  2921.000000  2933.969971  2897.040039  2897.040039  2897.040039   \n",
       "\n",
       "                Volume Month_name   Day_name  Quater  \n",
       "Date                                                  \n",
       "2004-09-30  13758028.0  September   Thursday     3.0  \n",
       "2004-12-31  15321663.0   December     Friday     4.0  \n",
       "2005-03-31  13523663.0      March   Thursday     1.0  \n",
       "2005-06-30  30158611.0       June   Thursday     2.0  \n",
       "2005-09-30  18284297.0  September     Friday     3.0  \n",
       "...                ...        ...        ...     ...  \n",
       "2020-12-31   1053500.0   December   Thursday     4.0  \n",
       "2021-03-31   2128500.0      March  Wednesday     1.0  \n",
       "2021-06-30   1223700.0       June  Wednesday     2.0  \n",
       "2021-09-30   1899800.0  September   Thursday     3.0  \n",
       "2021-12-31    906800.0   December     Friday     4.0  \n",
       "\n",
       "[70 rows x 9 columns]"
      ]
     },
     "execution_count": 83,
     "metadata": {},
     "output_type": "execute_result"
    }
   ],
   "source": [
    "google.asfreq('Q')"
   ]
  },
  {
   "cell_type": "markdown",
   "metadata": {},
   "source": [
    "### plot quaterly data blank represent no data available"
   ]
  },
  {
   "cell_type": "code",
   "execution_count": 85,
   "metadata": {},
   "outputs": [
    {
     "data": {
      "text/plain": [
       "<Axes: xlabel='Date'>"
      ]
     },
     "execution_count": 85,
     "metadata": {},
     "output_type": "execute_result"
    },
    {
     "data": {
      "image/png": "[encoded data removed]",
      "text/plain": [
       "<Figure size 640x480 with 1 Axes>"
      ]
     },
     "metadata": {},
     "output_type": "display_data"
    }
   ],
   "source": [
    "# google.asfreq('Q').isna().sum()\n",
    "google.asfreq('Q').plot()"
   ]
  },
  {
   "cell_type": "code",
   "execution_count": 87,
   "metadata": {},
   "outputs": [
    {
     "data": {
      "text/plain": [
       "<Axes: xlabel='Quater'>"
      ]
     },
     "execution_count": 87,
     "metadata": {},
     "output_type": "execute_result"
    },
    {
     "data": {
      "image/png": "[encoded data removed]",
      "text/plain": [
       "<Figure size 640x480 with 1 Axes>"
      ]
     },
     "metadata": {},
     "output_type": "display_data"
    }
   ],
   "source": [
    "google.groupby('Quater')['Close'].mean().plot(kind='bar')"
   ]
  },
  {
   "cell_type": "markdown",
   "metadata": {},
   "source": [
    "## Resampling\n",
    "\n",
    "Resampling involves changing the frequency of your time series observations.\n",
    "\n",
    "Two types of resampling are:\n",
    "\n",
    "**Upsampling**: Where you increase the frequency of the samples, such as from minutes to seconds.<br>\n",
    "**Downsampling**: Where you decrease the frequency of the samples, such as from days to months."
   ]
  },
  {
   "cell_type": "code",
   "execution_count": 96,
   "metadata": {},
   "outputs": [
    {
     "data": {
      "text/plain": [
       "(4431, 9)"
      ]
     },
     "execution_count": 96,
     "metadata": {},
     "output_type": "execute_result"
    }
   ],
   "source": [
    "google.shape"
   ]
  },
  {
   "cell_type": "code",
   "execution_count": 98,
   "metadata": {},
   "outputs": [
    {
     "data": {
      "text/plain": [
       "<pandas.core.resample.DatetimeIndexResampler object at 0x160d790d0>"
      ]
     },
     "execution_count": 98,
     "metadata": {},
     "output_type": "execute_result"
    }
   ],
   "source": [
    "google['Close'].resample('W')"
   ]
  },
  {
   "cell_type": "markdown",
   "metadata": {},
   "source": [
    "## downsampling:  from higher number of rows to lower number of rows"
   ]
  },
  {
   "cell_type": "code",
   "execution_count": 97,
   "metadata": {},
   "outputs": [
    {
     "data": {
      "text/plain": [
       "Date\n",
       "2004-08-22      52.214714\n",
       "2004-08-29      53.486487\n",
       "2004-09-05      50.665666\n",
       "2004-09-12      51.491491\n",
       "2004-09-19      56.301301\n",
       "                 ...     \n",
       "2022-02-27    2622.760010\n",
       "2022-03-06    2677.983936\n",
       "2022-03-13    2596.812012\n",
       "2022-03-20    2633.576025\n",
       "2022-03-27    2779.085022\n",
       "Freq: W-SUN, Name: Close, Length: 919, dtype: float64"
      ]
     },
     "execution_count": 97,
     "metadata": {},
     "output_type": "execute_result"
    }
   ],
   "source": [
    "google['Close'].resample('W').mean()"
   ]
  },
  {
   "cell_type": "code",
   "execution_count": 101,
   "metadata": {},
   "outputs": [
    {
     "data": {
      "text/plain": [
       "(919,)"
      ]
     },
     "execution_count": 101,
     "metadata": {},
     "output_type": "execute_result"
    }
   ],
   "source": [
    "google['Close'].resample('W').mean().shape"
   ]
  },
  {
   "cell_type": "code",
   "execution_count": 92,
   "metadata": {},
   "outputs": [
    {
     "data": {
      "text/plain": [
       "<Axes: xlabel='Date'>"
      ]
     },
     "execution_count": 92,
     "metadata": {},
     "output_type": "execute_result"
    },
    {
     "data": {
      "image/png": "[encoded data removed]",
      "text/plain": [
       "<Figure size 640x480 with 1 Axes>"
      ]
     },
     "metadata": {},
     "output_type": "display_data"
    }
   ],
   "source": [
    "google['Close'].resample('W').mean().plot() # downsampling"
   ]
  },
  {
   "cell_type": "code",
   "execution_count": 103,
   "metadata": {},
   "outputs": [
    {
     "data": {
      "text/plain": [
       "(212,)"
      ]
     },
     "execution_count": 103,
     "metadata": {},
     "output_type": "execute_result"
    }
   ],
   "source": [
    "google['Close'].resample('M').mean().shape"
   ]
  },
  {
   "cell_type": "code",
   "execution_count": 91,
   "metadata": {},
   "outputs": [
    {
     "data": {
      "text/plain": [
       "<Axes: xlabel='Date'>"
      ]
     },
     "execution_count": 91,
     "metadata": {},
     "output_type": "execute_result"
    },
    {
     "data": {
      "image/png": "[encoded data removed]",
      "text/plain": [
       "<Figure size 640x480 with 1 Axes>"
      ]
     },
     "metadata": {},
     "output_type": "display_data"
    }
   ],
   "source": [
    "google['Close'].resample('M').mean().plot() #downsampling"
   ]
  },
  {
   "cell_type": "code",
   "execution_count": 90,
   "metadata": {},
   "outputs": [
    {
     "data": {
      "text/plain": [
       "<Axes: xlabel='Date'>"
      ]
     },
     "execution_count": 90,
     "metadata": {},
     "output_type": "execute_result"
    },
    {
     "data": {
      "image/png": "[encoded data removed]",
      "text/plain": [
       "<Figure size 640x480 with 1 Axes>"
      ]
     },
     "metadata": {},
     "output_type": "display_data"
    }
   ],
   "source": [
    "google['Close'].resample('Y').mean().plot() # downsampling"
   ]
  },
  {
   "cell_type": "markdown",
   "metadata": {},
   "source": [
    "## Upsampling: from lower number of rows to higher number of rows"
   ]
  },
  {
   "cell_type": "code",
   "execution_count": 100,
   "metadata": {},
   "outputs": [
    {
     "data": {
      "text/plain": [
       "(4431, 9)"
      ]
     },
     "execution_count": 100,
     "metadata": {},
     "output_type": "execute_result"
    }
   ],
   "source": [
    "google.shape"
   ]
  },
  {
   "cell_type": "markdown",
   "metadata": {},
   "source": [
    "### When we upsample as the created rows doesn't have any values so those will be replaces by nan"
   ]
  },
  {
   "cell_type": "code",
   "execution_count": 99,
   "metadata": {},
   "outputs": [
    {
     "data": {
      "text/plain": [
       "Date\n",
       "2004-08-19 00:00:00      50.220219\n",
       "2004-08-19 12:00:00            NaN\n",
       "2004-08-20 00:00:00      54.209209\n",
       "2004-08-20 12:00:00            NaN\n",
       "2004-08-21 00:00:00            NaN\n",
       "                          ...     \n",
       "2022-03-22 00:00:00    2797.360107\n",
       "2022-03-22 12:00:00            NaN\n",
       "2022-03-23 00:00:00    2765.510010\n",
       "2022-03-23 12:00:00            NaN\n",
       "2022-03-24 00:00:00    2831.439941\n",
       "Freq: 12H, Name: Close, Length: 12853, dtype: float64"
      ]
     },
     "execution_count": 99,
     "metadata": {},
     "output_type": "execute_result"
    }
   ],
   "source": [
    "google['Close'].resample('12H').mean()"
   ]
  },
  {
   "cell_type": "code",
   "execution_count": 107,
   "metadata": {},
   "outputs": [
    {
     "data": {
      "text/plain": [
       "(12853,)"
      ]
     },
     "execution_count": 107,
     "metadata": {},
     "output_type": "execute_result"
    }
   ],
   "source": [
    "google['Close'].resample('12H').mean().shape"
   ]
  },
  {
   "cell_type": "markdown",
   "metadata": {},
   "source": [
    "### Reason we don't see any plot because of missing values"
   ]
  },
  {
   "cell_type": "code",
   "execution_count": 104,
   "metadata": {},
   "outputs": [
    {
     "data": {
      "text/plain": [
       "<Axes: xlabel='Date'>"
      ]
     },
     "execution_count": 104,
     "metadata": {},
     "output_type": "execute_result"
    },
    {
     "data": {
      "image/png": "[encoded data removed]",
      "text/plain": [
       "<Figure size 640x480 with 1 Axes>"
      ]
     },
     "metadata": {},
     "output_type": "display_data"
    }
   ],
   "source": [
    "google['Close'].resample('12H').mean().plot()"
   ]
  },
  {
   "cell_type": "markdown",
   "metadata": {},
   "source": [
    "### To fill the missing values we can use interpolate() function"
   ]
  },
  {
   "cell_type": "code",
   "execution_count": 108,
   "metadata": {},
   "outputs": [
    {
     "data": {
      "text/plain": [
       "Date\n",
       "2004-08-19 00:00:00      50.220219\n",
       "2004-08-19 12:00:00      52.214714\n",
       "2004-08-20 00:00:00      54.209209\n",
       "2004-08-20 12:00:00      54.300133\n",
       "2004-08-21 00:00:00      54.391057\n",
       "                          ...     \n",
       "2022-03-22 00:00:00    2797.360107\n",
       "2022-03-22 12:00:00    2781.435059\n",
       "2022-03-23 00:00:00    2765.510010\n",
       "2022-03-23 12:00:00    2798.474976\n",
       "2022-03-24 00:00:00    2831.439941\n",
       "Freq: 12H, Name: Close, Length: 12853, dtype: float64"
      ]
     },
     "execution_count": 108,
     "metadata": {},
     "output_type": "execute_result"
    }
   ],
   "source": [
    "google['Close'].resample('12H').interpolate()"
   ]
  },
  {
   "cell_type": "markdown",
   "metadata": {},
   "source": [
    "### passing different parameter in interpolate() function for different analysis\n",
    "\n",
    "Learn more about interpolate() here: https://pandas.pydata.org/docs/reference/api/pandas.Series.interpolate.html"
   ]
  },
  {
   "cell_type": "code",
   "execution_count": 106,
   "metadata": {},
   "outputs": [
    {
     "data": {
      "text/plain": [
       "<Axes: xlabel='Date'>"
      ]
     },
     "execution_count": 106,
     "metadata": {},
     "output_type": "execute_result"
    },
    {
     "data": {
      "image/png": "[encoded data removed]",
      "text/plain": [
       "<Figure size 640x480 with 1 Axes>"
      ]
     },
     "metadata": {},
     "output_type": "display_data"
    }
   ],
   "source": [
    "google['Close'].resample('12H').interpolate(method='spline',order=2).plot()"
   ]
  },
  {
   "cell_type": "markdown",
   "metadata": {},
   "source": [
    "## Rolling Window(Smoothing)\n",
    "Time series data in original format can be quite volatile, especially on smaller aggregation levels. The concept of rolling, or moving averages is a useful technique for smoothing time series data. "
   ]
  },
  {
   "cell_type": "code",
   "execution_count": 114,
   "metadata": {},
   "outputs": [
    {
     "data": {
      "text/plain": [
       "Rolling [window=3,center=False,axis=0,method=single]"
      ]
     },
     "execution_count": 114,
     "metadata": {},
     "output_type": "execute_result"
    }
   ],
   "source": [
    "google['Close'].rolling(3) # taking average of every 3 values"
   ]
  },
  {
   "cell_type": "code",
   "execution_count": 110,
   "metadata": {},
   "outputs": [
    {
     "data": {
      "text/plain": [
       "Date\n",
       "2004-08-19            NaN\n",
       "2004-08-20            NaN\n",
       "2004-08-23      53.061394\n",
       "2004-08-24      53.817150\n",
       "2004-08-25      53.431765\n",
       "                 ...     \n",
       "2022-03-18    2688.300049\n",
       "2022-03-21    2707.106689\n",
       "2022-03-22    2747.300049\n",
       "2022-03-23    2761.633382\n",
       "2022-03-24    2798.103353\n",
       "Name: Close, Length: 4431, dtype: float64"
      ]
     },
     "execution_count": 110,
     "metadata": {},
     "output_type": "execute_result"
    }
   ],
   "source": [
    "google['Close'].rolling(3).mean()"
   ]
  },
  {
   "cell_type": "code",
   "execution_count": 115,
   "metadata": {},
   "outputs": [
    {
     "name": "stdout",
     "output_type": "stream",
     "text": [
      "Date\n",
      "2004-08-19      50.220219\n",
      "2004-08-20      54.209209\n",
      "2004-08-23      54.754753\n",
      "2004-08-24      52.487488\n",
      "2004-08-25      53.053055\n",
      "                 ...     \n",
      "2022-03-18    2722.510010\n",
      "2022-03-21    2722.030029\n",
      "2022-03-22    2797.360107\n",
      "2022-03-23    2765.510010\n",
      "2022-03-24    2831.439941\n",
      "Name: Close, Length: 4431, dtype: float64\n",
      "Date\n",
      "2004-08-19            NaN\n",
      "2004-08-20            NaN\n",
      "2004-08-23      53.061394\n",
      "2004-08-24      53.817150\n",
      "2004-08-25      53.431765\n",
      "                 ...     \n",
      "2022-03-18    2688.300049\n",
      "2022-03-21    2707.106689\n",
      "2022-03-22    2747.300049\n",
      "2022-03-23    2761.633382\n",
      "2022-03-24    2798.103353\n",
      "Name: Close, Length: 4431, dtype: float64\n"
     ]
    }
   ],
   "source": [
    "print(google['Close'])\n",
    "print(google['Close'].rolling(3).mean())"
   ]
  },
  {
   "cell_type": "code",
   "execution_count": 116,
   "metadata": {},
   "outputs": [
    {
     "data": {
      "text/plain": [
       "<Axes: xlabel='Date'>"
      ]
     },
     "execution_count": 116,
     "metadata": {},
     "output_type": "execute_result"
    },
    {
     "data": {
      "image/png": "[encoded data removed]",
      "text/plain": [
       "<Figure size 640x480 with 1 Axes>"
      ]
     },
     "metadata": {},
     "output_type": "display_data"
    }
   ],
   "source": [
    "google['Close'].rolling(30).mean().plot() # smooth plot compare to the bottom one"
   ]
  },
  {
   "cell_type": "code",
   "execution_count": 113,
   "metadata": {},
   "outputs": [
    {
     "data": {
      "text/plain": [
       "<Axes: xlabel='Date'>"
      ]
     },
     "execution_count": 113,
     "metadata": {},
     "output_type": "execute_result"
    },
    {
     "data": {
      "image/png": "[encoded data removed]",
      "text/plain": [
       "<Figure size 640x480 with 1 Axes>"
      ]
     },
     "metadata": {},
     "output_type": "display_data"
    }
   ],
   "source": [
    "google['Close'].plot()"
   ]
  },
  {
   "cell_type": "markdown",
   "metadata": {},
   "source": [
    "### exponentially moving average"
   ]
  },
  {
   "cell_type": "code",
   "execution_count": 118,
   "metadata": {},
   "outputs": [
    {
     "data": {
      "text/plain": [
       "<Axes: xlabel='Date'>"
      ]
     },
     "execution_count": 118,
     "metadata": {},
     "output_type": "execute_result"
    },
    {
     "data": {
      "image/png": "[encoded data removed]",
      "text/plain": [
       "<Figure size 640x480 with 1 Axes>"
      ]
     },
     "metadata": {},
     "output_type": "display_data"
    }
   ],
   "source": [
    "google['Close'].ewm(30).mean().plot()"
   ]
  },
  {
   "cell_type": "markdown",
   "metadata": {},
   "source": [
    "## All the polts together, see how smoothing is taking effect"
   ]
  },
  {
   "cell_type": "code",
   "execution_count": 119,
   "metadata": {},
   "outputs": [
    {
     "data": {
      "text/plain": [
       "<Axes: xlabel='Date'>"
      ]
     },
     "execution_count": 119,
     "metadata": {},
     "output_type": "execute_result"
    },
    {
     "data": {
      "image/png": "[encoded data removed]",
      "text/plain": [
       "<Figure size 640x480 with 1 Axes>"
      ]
     },
     "metadata": {},
     "output_type": "display_data"
    }
   ],
   "source": [
    "google['Close'].plot()\n",
    "google['Close'].rolling(30).mean().plot()\n",
    "google['Close'].ewm(30).mean().plot()"
   ]
  },
  {
   "cell_type": "markdown",
   "metadata": {},
   "source": [
    "## Shifting\n",
    "\n",
    "The shift() function is Pandas is used to, well, shift the entire series up or down by the desired number of periods."
   ]
  },
  {
   "cell_type": "code",
   "execution_count": 120,
   "metadata": {},
   "outputs": [
    {
     "data": {
      "text/plain": [
       "Date\n",
       "2004-08-19      50.220219\n",
       "2004-08-20      54.209209\n",
       "2004-08-23      54.754753\n",
       "2004-08-24      52.487488\n",
       "2004-08-25      53.053055\n",
       "                 ...     \n",
       "2022-03-18    2722.510010\n",
       "2022-03-21    2722.030029\n",
       "2022-03-22    2797.360107\n",
       "2022-03-23    2765.510010\n",
       "2022-03-24    2831.439941\n",
       "Name: Close, Length: 4431, dtype: float64"
      ]
     },
     "execution_count": 120,
     "metadata": {},
     "output_type": "execute_result"
    }
   ],
   "source": [
    "google['Close']"
   ]
  },
  {
   "cell_type": "code",
   "execution_count": 121,
   "metadata": {},
   "outputs": [
    {
     "data": {
      "text/plain": [
       "Date\n",
       "2004-08-19            NaN\n",
       "2004-08-20      50.220219\n",
       "2004-08-23      54.209209\n",
       "2004-08-24      54.754753\n",
       "2004-08-25      52.487488\n",
       "                 ...     \n",
       "2022-03-18    2676.780029\n",
       "2022-03-21    2722.510010\n",
       "2022-03-22    2722.030029\n",
       "2022-03-23    2797.360107\n",
       "2022-03-24    2765.510010\n",
       "Name: Close, Length: 4431, dtype: float64"
      ]
     },
     "execution_count": 121,
     "metadata": {},
     "output_type": "execute_result"
    }
   ],
   "source": [
    "google['Close'].shift(1)"
   ]
  },
  {
   "cell_type": "code",
   "execution_count": 122,
   "metadata": {},
   "outputs": [
    {
     "data": {
      "text/plain": [
       "Date\n",
       "2004-08-19      54.209209\n",
       "2004-08-20      54.754753\n",
       "2004-08-23      52.487488\n",
       "2004-08-24      53.053055\n",
       "2004-08-25      54.009010\n",
       "                 ...     \n",
       "2022-03-18    2722.030029\n",
       "2022-03-21    2797.360107\n",
       "2022-03-22    2765.510010\n",
       "2022-03-23    2831.439941\n",
       "2022-03-24            NaN\n",
       "Name: Close, Length: 4431, dtype: float64"
      ]
     },
     "execution_count": 122,
     "metadata": {},
     "output_type": "execute_result"
    }
   ],
   "source": [
    "google['Close'].shift(-1)"
   ]
  },
  {
   "cell_type": "code",
   "execution_count": 123,
   "metadata": {},
   "outputs": [
    {
     "data": {
      "text/html": [
       "<div>\n",
       "<style scoped>\n",
       "    .dataframe tbody tr th:only-of-type {\n",
       "        vertical-align: middle;\n",
       "    }\n",
       "\n",
       "    .dataframe tbody tr th {\n",
       "        vertical-align: top;\n",
       "    }\n",
       "\n",
       "    .dataframe thead th {\n",
       "        text-align: right;\n",
       "    }\n",
       "</style>\n",
       "<table border=\"1\" class=\"dataframe\">\n",
       "  <thead>\n",
       "    <tr style=\"text-align: right;\">\n",
       "      <th></th>\n",
       "      <th>1</th>\n",
       "      <th>466</th>\n",
       "      <th>2017-01-07 18:24:07</th>\n",
       "      <th>Unnamed: 3</th>\n",
       "    </tr>\n",
       "  </thead>\n",
       "  <tbody>\n",
       "    <tr>\n",
       "      <th>0</th>\n",
       "      <td>2</td>\n",
       "      <td>466</td>\n",
       "      <td>2017-01-07 18:24:55</td>\n",
       "      <td>NaN</td>\n",
       "    </tr>\n",
       "    <tr>\n",
       "      <th>1</th>\n",
       "      <td>3</td>\n",
       "      <td>458</td>\n",
       "      <td>2017-01-07 18:25:18</td>\n",
       "      <td>NaN</td>\n",
       "    </tr>\n",
       "    <tr>\n",
       "      <th>2</th>\n",
       "      <td>4</td>\n",
       "      <td>458</td>\n",
       "      <td>2017-01-07 18:26:21</td>\n",
       "      <td>NaN</td>\n",
       "    </tr>\n",
       "    <tr>\n",
       "      <th>3</th>\n",
       "      <td>5</td>\n",
       "      <td>592</td>\n",
       "      <td>2017-01-07 19:09:59</td>\n",
       "      <td>NaN</td>\n",
       "    </tr>\n",
       "    <tr>\n",
       "      <th>4</th>\n",
       "      <td>6</td>\n",
       "      <td>393</td>\n",
       "      <td>2017-01-08 00:41:19</td>\n",
       "      <td>NaN</td>\n",
       "    </tr>\n",
       "    <tr>\n",
       "      <th>...</th>\n",
       "      <td>...</td>\n",
       "      <td>...</td>\n",
       "      <td>...</td>\n",
       "      <td>...</td>\n",
       "    </tr>\n",
       "    <tr>\n",
       "      <th>2997</th>\n",
       "      <td>2999</td>\n",
       "      <td>1307</td>\n",
       "      <td>2018-01-04 10:48:28</td>\n",
       "      <td>183.82.121.201</td>\n",
       "    </tr>\n",
       "    <tr>\n",
       "      <th>2998</th>\n",
       "      <td>3000</td>\n",
       "      <td>1230</td>\n",
       "      <td>2018-01-04 11:22:00</td>\n",
       "      <td>47.247.147.114</td>\n",
       "    </tr>\n",
       "    <tr>\n",
       "      <th>2999</th>\n",
       "      <td>3001</td>\n",
       "      <td>1307</td>\n",
       "      <td>2018-01-04 13:13:44</td>\n",
       "      <td>183.82.121.201</td>\n",
       "    </tr>\n",
       "    <tr>\n",
       "      <th>3000</th>\n",
       "      <td>3002</td>\n",
       "      <td>1307</td>\n",
       "      <td>2018-01-04 13:13:45</td>\n",
       "      <td>183.82.121.201</td>\n",
       "    </tr>\n",
       "    <tr>\n",
       "      <th>3001</th>\n",
       "      <td>3003</td>\n",
       "      <td>1224</td>\n",
       "      <td>2018-01-04 14:10:04</td>\n",
       "      <td>182.75.77.58</td>\n",
       "    </tr>\n",
       "  </tbody>\n",
       "</table>\n",
       "<p>3002 rows × 4 columns</p>\n",
       "</div>"
      ],
      "text/plain": [
       "         1   466  2017-01-07 18:24:07      Unnamed: 3\n",
       "0        2   466  2017-01-07 18:24:55             NaN\n",
       "1        3   458  2017-01-07 18:25:18             NaN\n",
       "2        4   458  2017-01-07 18:26:21             NaN\n",
       "3        5   592  2017-01-07 19:09:59             NaN\n",
       "4        6   393  2017-01-08 00:41:19             NaN\n",
       "...    ...   ...                  ...             ...\n",
       "2997  2999  1307  2018-01-04 10:48:28  183.82.121.201\n",
       "2998  3000  1230  2018-01-04 11:22:00  47.247.147.114\n",
       "2999  3001  1307  2018-01-04 13:13:44  183.82.121.201\n",
       "3000  3002  1307  2018-01-04 13:13:45  183.82.121.201\n",
       "3001  3003  1224  2018-01-04 14:10:04    182.75.77.58\n",
       "\n",
       "[3002 rows x 4 columns]"
      ]
     },
     "execution_count": 123,
     "metadata": {},
     "output_type": "execute_result"
    }
   ],
   "source": [
    "login"
   ]
  },
  {
   "cell_type": "markdown",
   "metadata": {},
   "source": [
    "## As there's no column name in the dataset, pandas assigned the first row as column, to avoid this we'll use header with a value of None, when reading the data and pandas will assign columns of its own"
   ]
  },
  {
   "cell_type": "code",
   "execution_count": 124,
   "metadata": {},
   "outputs": [],
   "source": [
    "login = pd.read_csv('login.csv',header=None)"
   ]
  },
  {
   "cell_type": "code",
   "execution_count": 125,
   "metadata": {},
   "outputs": [
    {
     "data": {
      "text/html": [
       "<div>\n",
       "<style scoped>\n",
       "    .dataframe tbody tr th:only-of-type {\n",
       "        vertical-align: middle;\n",
       "    }\n",
       "\n",
       "    .dataframe tbody tr th {\n",
       "        vertical-align: top;\n",
       "    }\n",
       "\n",
       "    .dataframe thead th {\n",
       "        text-align: right;\n",
       "    }\n",
       "</style>\n",
       "<table border=\"1\" class=\"dataframe\">\n",
       "  <thead>\n",
       "    <tr style=\"text-align: right;\">\n",
       "      <th></th>\n",
       "      <th>0</th>\n",
       "      <th>1</th>\n",
       "      <th>2</th>\n",
       "      <th>3</th>\n",
       "    </tr>\n",
       "  </thead>\n",
       "  <tbody>\n",
       "    <tr>\n",
       "      <th>0</th>\n",
       "      <td>1</td>\n",
       "      <td>466</td>\n",
       "      <td>2017-01-07 18:24:07</td>\n",
       "      <td>Unnamed: 3</td>\n",
       "    </tr>\n",
       "    <tr>\n",
       "      <th>1</th>\n",
       "      <td>2</td>\n",
       "      <td>466</td>\n",
       "      <td>2017-01-07 18:24:55</td>\n",
       "      <td>NaN</td>\n",
       "    </tr>\n",
       "    <tr>\n",
       "      <th>2</th>\n",
       "      <td>3</td>\n",
       "      <td>458</td>\n",
       "      <td>2017-01-07 18:25:18</td>\n",
       "      <td>NaN</td>\n",
       "    </tr>\n",
       "    <tr>\n",
       "      <th>3</th>\n",
       "      <td>4</td>\n",
       "      <td>458</td>\n",
       "      <td>2017-01-07 18:26:21</td>\n",
       "      <td>NaN</td>\n",
       "    </tr>\n",
       "    <tr>\n",
       "      <th>4</th>\n",
       "      <td>5</td>\n",
       "      <td>592</td>\n",
       "      <td>2017-01-07 19:09:59</td>\n",
       "      <td>NaN</td>\n",
       "    </tr>\n",
       "    <tr>\n",
       "      <th>...</th>\n",
       "      <td>...</td>\n",
       "      <td>...</td>\n",
       "      <td>...</td>\n",
       "      <td>...</td>\n",
       "    </tr>\n",
       "    <tr>\n",
       "      <th>2998</th>\n",
       "      <td>2999</td>\n",
       "      <td>1307</td>\n",
       "      <td>2018-01-04 10:48:28</td>\n",
       "      <td>183.82.121.201</td>\n",
       "    </tr>\n",
       "    <tr>\n",
       "      <th>2999</th>\n",
       "      <td>3000</td>\n",
       "      <td>1230</td>\n",
       "      <td>2018-01-04 11:22:00</td>\n",
       "      <td>47.247.147.114</td>\n",
       "    </tr>\n",
       "    <tr>\n",
       "      <th>3000</th>\n",
       "      <td>3001</td>\n",
       "      <td>1307</td>\n",
       "      <td>2018-01-04 13:13:44</td>\n",
       "      <td>183.82.121.201</td>\n",
       "    </tr>\n",
       "    <tr>\n",
       "      <th>3001</th>\n",
       "      <td>3002</td>\n",
       "      <td>1307</td>\n",
       "      <td>2018-01-04 13:13:45</td>\n",
       "      <td>183.82.121.201</td>\n",
       "    </tr>\n",
       "    <tr>\n",
       "      <th>3002</th>\n",
       "      <td>3003</td>\n",
       "      <td>1224</td>\n",
       "      <td>2018-01-04 14:10:04</td>\n",
       "      <td>182.75.77.58</td>\n",
       "    </tr>\n",
       "  </tbody>\n",
       "</table>\n",
       "<p>3003 rows × 4 columns</p>\n",
       "</div>"
      ],
      "text/plain": [
       "         0     1                    2               3\n",
       "0        1   466  2017-01-07 18:24:07      Unnamed: 3\n",
       "1        2   466  2017-01-07 18:24:55             NaN\n",
       "2        3   458  2017-01-07 18:25:18             NaN\n",
       "3        4   458  2017-01-07 18:26:21             NaN\n",
       "4        5   592  2017-01-07 19:09:59             NaN\n",
       "...    ...   ...                  ...             ...\n",
       "2998  2999  1307  2018-01-04 10:48:28  183.82.121.201\n",
       "2999  3000  1230  2018-01-04 11:22:00  47.247.147.114\n",
       "3000  3001  1307  2018-01-04 13:13:44  183.82.121.201\n",
       "3001  3002  1307  2018-01-04 13:13:45  183.82.121.201\n",
       "3002  3003  1224  2018-01-04 14:10:04    182.75.77.58\n",
       "\n",
       "[3003 rows x 4 columns]"
      ]
     },
     "execution_count": 125,
     "metadata": {},
     "output_type": "execute_result"
    }
   ],
   "source": [
    "login"
   ]
  },
  {
   "cell_type": "code",
   "execution_count": 131,
   "metadata": {},
   "outputs": [],
   "source": [
    "login.rename({0:'Sl no',1:'user_id',2:'login_time',3:'ip_address'},axis=1,inplace=True)"
   ]
  },
  {
   "cell_type": "code",
   "execution_count": 133,
   "metadata": {},
   "outputs": [],
   "source": [
    "login = login[['user_id','login_time']]"
   ]
  },
  {
   "cell_type": "code",
   "execution_count": 134,
   "metadata": {},
   "outputs": [
    {
     "data": {
      "text/html": [
       "<div>\n",
       "<style scoped>\n",
       "    .dataframe tbody tr th:only-of-type {\n",
       "        vertical-align: middle;\n",
       "    }\n",
       "\n",
       "    .dataframe tbody tr th {\n",
       "        vertical-align: top;\n",
       "    }\n",
       "\n",
       "    .dataframe thead th {\n",
       "        text-align: right;\n",
       "    }\n",
       "</style>\n",
       "<table border=\"1\" class=\"dataframe\">\n",
       "  <thead>\n",
       "    <tr style=\"text-align: right;\">\n",
       "      <th></th>\n",
       "      <th>user_id</th>\n",
       "      <th>login_time</th>\n",
       "    </tr>\n",
       "  </thead>\n",
       "  <tbody>\n",
       "    <tr>\n",
       "      <th>0</th>\n",
       "      <td>466</td>\n",
       "      <td>2017-01-07 18:24:07</td>\n",
       "    </tr>\n",
       "    <tr>\n",
       "      <th>1</th>\n",
       "      <td>466</td>\n",
       "      <td>2017-01-07 18:24:55</td>\n",
       "    </tr>\n",
       "    <tr>\n",
       "      <th>2</th>\n",
       "      <td>458</td>\n",
       "      <td>2017-01-07 18:25:18</td>\n",
       "    </tr>\n",
       "    <tr>\n",
       "      <th>3</th>\n",
       "      <td>458</td>\n",
       "      <td>2017-01-07 18:26:21</td>\n",
       "    </tr>\n",
       "    <tr>\n",
       "      <th>4</th>\n",
       "      <td>592</td>\n",
       "      <td>2017-01-07 19:09:59</td>\n",
       "    </tr>\n",
       "    <tr>\n",
       "      <th>...</th>\n",
       "      <td>...</td>\n",
       "      <td>...</td>\n",
       "    </tr>\n",
       "    <tr>\n",
       "      <th>2998</th>\n",
       "      <td>1307</td>\n",
       "      <td>2018-01-04 10:48:28</td>\n",
       "    </tr>\n",
       "    <tr>\n",
       "      <th>2999</th>\n",
       "      <td>1230</td>\n",
       "      <td>2018-01-04 11:22:00</td>\n",
       "    </tr>\n",
       "    <tr>\n",
       "      <th>3000</th>\n",
       "      <td>1307</td>\n",
       "      <td>2018-01-04 13:13:44</td>\n",
       "    </tr>\n",
       "    <tr>\n",
       "      <th>3001</th>\n",
       "      <td>1307</td>\n",
       "      <td>2018-01-04 13:13:45</td>\n",
       "    </tr>\n",
       "    <tr>\n",
       "      <th>3002</th>\n",
       "      <td>1224</td>\n",
       "      <td>2018-01-04 14:10:04</td>\n",
       "    </tr>\n",
       "  </tbody>\n",
       "</table>\n",
       "<p>3003 rows × 2 columns</p>\n",
       "</div>"
      ],
      "text/plain": [
       "      user_id           login_time\n",
       "0         466  2017-01-07 18:24:07\n",
       "1         466  2017-01-07 18:24:55\n",
       "2         458  2017-01-07 18:25:18\n",
       "3         458  2017-01-07 18:26:21\n",
       "4         592  2017-01-07 19:09:59\n",
       "...       ...                  ...\n",
       "2998     1307  2018-01-04 10:48:28\n",
       "2999     1230  2018-01-04 11:22:00\n",
       "3000     1307  2018-01-04 13:13:44\n",
       "3001     1307  2018-01-04 13:13:45\n",
       "3002     1224  2018-01-04 14:10:04\n",
       "\n",
       "[3003 rows x 2 columns]"
      ]
     },
     "execution_count": 134,
     "metadata": {},
     "output_type": "execute_result"
    }
   ],
   "source": [
    "login"
   ]
  },
  {
   "cell_type": "markdown",
   "metadata": {},
   "source": [
    "### Let's try to find out the user that loged in to the website most, what's its avery returning time, means in how many days the user return to the website"
   ]
  },
  {
   "cell_type": "code",
   "execution_count": 135,
   "metadata": {},
   "outputs": [
    {
     "data": {
      "text/plain": [
       "user_id\n",
       "413     222\n",
       "458     208\n",
       "492     162\n",
       "882     140\n",
       "592     122\n",
       "       ... \n",
       "1043      1\n",
       "1045      1\n",
       "1047      1\n",
       "1048      1\n",
       "880       1\n",
       "Name: count, Length: 433, dtype: int64"
      ]
     },
     "execution_count": 135,
     "metadata": {},
     "output_type": "execute_result"
    }
   ],
   "source": [
    "login['user_id'].value_counts()"
   ]
  },
  {
   "cell_type": "code",
   "execution_count": 137,
   "metadata": {},
   "outputs": [
    {
     "data": {
      "text/html": [
       "<div>\n",
       "<style scoped>\n",
       "    .dataframe tbody tr th:only-of-type {\n",
       "        vertical-align: middle;\n",
       "    }\n",
       "\n",
       "    .dataframe tbody tr th {\n",
       "        vertical-align: top;\n",
       "    }\n",
       "\n",
       "    .dataframe thead th {\n",
       "        text-align: right;\n",
       "    }\n",
       "</style>\n",
       "<table border=\"1\" class=\"dataframe\">\n",
       "  <thead>\n",
       "    <tr style=\"text-align: right;\">\n",
       "      <th></th>\n",
       "      <th>user_id</th>\n",
       "      <th>login_time</th>\n",
       "    </tr>\n",
       "  </thead>\n",
       "  <tbody>\n",
       "    <tr>\n",
       "      <th>11</th>\n",
       "      <td>413</td>\n",
       "      <td>2017-01-09 12:29:25</td>\n",
       "    </tr>\n",
       "    <tr>\n",
       "      <th>12</th>\n",
       "      <td>413</td>\n",
       "      <td>2017-01-09 12:40:39</td>\n",
       "    </tr>\n",
       "    <tr>\n",
       "      <th>14</th>\n",
       "      <td>413</td>\n",
       "      <td>2017-01-09 14:08:04</td>\n",
       "    </tr>\n",
       "    <tr>\n",
       "      <th>33</th>\n",
       "      <td>413</td>\n",
       "      <td>2017-01-10 14:36:23</td>\n",
       "    </tr>\n",
       "    <tr>\n",
       "      <th>35</th>\n",
       "      <td>413</td>\n",
       "      <td>2017-01-10 15:22:45</td>\n",
       "    </tr>\n",
       "    <tr>\n",
       "      <th>...</th>\n",
       "      <td>...</td>\n",
       "      <td>...</td>\n",
       "    </tr>\n",
       "    <tr>\n",
       "      <th>2958</th>\n",
       "      <td>413</td>\n",
       "      <td>2017-12-29 18:20:32</td>\n",
       "    </tr>\n",
       "    <tr>\n",
       "      <th>2963</th>\n",
       "      <td>413</td>\n",
       "      <td>2017-12-30 13:41:21</td>\n",
       "    </tr>\n",
       "    <tr>\n",
       "      <th>2974</th>\n",
       "      <td>413</td>\n",
       "      <td>2018-01-01 15:16:25</td>\n",
       "    </tr>\n",
       "    <tr>\n",
       "      <th>2982</th>\n",
       "      <td>413</td>\n",
       "      <td>2018-01-02 18:15:45</td>\n",
       "    </tr>\n",
       "    <tr>\n",
       "      <th>2997</th>\n",
       "      <td>413</td>\n",
       "      <td>2018-01-04 10:43:43</td>\n",
       "    </tr>\n",
       "  </tbody>\n",
       "</table>\n",
       "<p>222 rows × 2 columns</p>\n",
       "</div>"
      ],
      "text/plain": [
       "      user_id           login_time\n",
       "11        413  2017-01-09 12:29:25\n",
       "12        413  2017-01-09 12:40:39\n",
       "14        413  2017-01-09 14:08:04\n",
       "33        413  2017-01-10 14:36:23\n",
       "35        413  2017-01-10 15:22:45\n",
       "...       ...                  ...\n",
       "2958      413  2017-12-29 18:20:32\n",
       "2963      413  2017-12-30 13:41:21\n",
       "2974      413  2018-01-01 15:16:25\n",
       "2982      413  2018-01-02 18:15:45\n",
       "2997      413  2018-01-04 10:43:43\n",
       "\n",
       "[222 rows x 2 columns]"
      ]
     },
     "execution_count": 137,
     "metadata": {},
     "output_type": "execute_result"
    }
   ],
   "source": [
    "login[login['user_id'] == 413]"
   ]
  },
  {
   "cell_type": "code",
   "execution_count": 138,
   "metadata": {},
   "outputs": [],
   "source": [
    "max_log = login[login['user_id'] == 413]"
   ]
  },
  {
   "cell_type": "code",
   "execution_count": 141,
   "metadata": {},
   "outputs": [
    {
     "name": "stdout",
     "output_type": "stream",
     "text": [
      "<class 'pandas.core.frame.DataFrame'>\n",
      "Index: 222 entries, 11 to 2997\n",
      "Data columns (total 2 columns):\n",
      " #   Column      Non-Null Count  Dtype \n",
      "---  ------      --------------  ----- \n",
      " 0   user_id     222 non-null    int64 \n",
      " 1   login_time  222 non-null    object\n",
      "dtypes: int64(1), object(1)\n",
      "memory usage: 5.2+ KB\n"
     ]
    }
   ],
   "source": [
    "max_log.info()"
   ]
  },
  {
   "cell_type": "code",
   "execution_count": 142,
   "metadata": {},
   "outputs": [
    {
     "data": {
      "text/plain": [
       "11     2017-01-09 12:29:25\n",
       "12     2017-01-09 12:40:39\n",
       "14     2017-01-09 14:08:04\n",
       "33     2017-01-10 14:36:23\n",
       "35     2017-01-10 15:22:45\n",
       "               ...        \n",
       "2958   2017-12-29 18:20:32\n",
       "2963   2017-12-30 13:41:21\n",
       "2974   2018-01-01 15:16:25\n",
       "2982   2018-01-02 18:15:45\n",
       "2997   2018-01-04 10:43:43\n",
       "Name: login_time, Length: 222, dtype: datetime64[ns]"
      ]
     },
     "execution_count": 142,
     "metadata": {},
     "output_type": "execute_result"
    }
   ],
   "source": [
    "pd.to_datetime(max_log['login_time'])"
   ]
  },
  {
   "cell_type": "code",
   "execution_count": 144,
   "metadata": {},
   "outputs": [
    {
     "name": "stderr",
     "output_type": "stream",
     "text": [
      "/var/folders/h1/njy9595n2lj4xjmnz1st5v4h0000gn/T/ipykernel_1354/2818116573.py:2: SettingWithCopyWarning: \n",
      "A value is trying to be set on a copy of a slice from a DataFrame\n",
      "\n",
      "See the caveats in the documentation: https://pandas.pydata.org/pandas-docs/stable/user_guide/indexing.html#returning-a-view-versus-a-copy\n",
      "  max_log.loc['login_time'] = pd.to_datetime(max_log['login_time'])\n"
     ]
    }
   ],
   "source": [
    "#max_log['login_time'] = pd.to_datetime(max_log['login_time'])\n",
    "max_log.loc['login_time'] = pd.to_datetime(max_log['login_time'])"
   ]
  },
  {
   "cell_type": "code",
   "execution_count": 145,
   "metadata": {},
   "outputs": [
    {
     "name": "stdout",
     "output_type": "stream",
     "text": [
      "<class 'pandas.core.frame.DataFrame'>\n",
      "Index: 223 entries, 11 to login_time\n",
      "Data columns (total 2 columns):\n",
      " #   Column      Non-Null Count  Dtype         \n",
      "---  ------      --------------  -----         \n",
      " 0   user_id     222 non-null    object        \n",
      " 1   login_time  222 non-null    datetime64[ns]\n",
      "dtypes: datetime64[ns](1), object(1)\n",
      "memory usage: 5.2+ KB\n"
     ]
    }
   ],
   "source": [
    "max_log.info()"
   ]
  },
  {
   "cell_type": "code",
   "execution_count": 147,
   "metadata": {},
   "outputs": [
    {
     "data": {
      "text/plain": [
       "11                           NaT\n",
       "12           2017-01-09 12:29:25\n",
       "14           2017-01-09 12:40:39\n",
       "33           2017-01-09 14:08:04\n",
       "35           2017-01-10 14:36:23\n",
       "                     ...        \n",
       "2963         2017-12-29 18:20:32\n",
       "2974         2017-12-30 13:41:21\n",
       "2982         2018-01-01 15:16:25\n",
       "2997         2018-01-02 18:15:45\n",
       "login_time   2018-01-04 10:43:43\n",
       "Name: login_time, Length: 223, dtype: datetime64[ns]"
      ]
     },
     "execution_count": 147,
     "metadata": {},
     "output_type": "execute_result"
    }
   ],
   "source": [
    "max_log['login_time'].shift(1)"
   ]
  },
  {
   "cell_type": "code",
   "execution_count": 148,
   "metadata": {},
   "outputs": [
    {
     "name": "stderr",
     "output_type": "stream",
     "text": [
      "/var/folders/h1/njy9595n2lj4xjmnz1st5v4h0000gn/T/ipykernel_1354/2558347175.py:1: SettingWithCopyWarning: \n",
      "A value is trying to be set on a copy of a slice from a DataFrame.\n",
      "Try using .loc[row_indexer,col_indexer] = value instead\n",
      "\n",
      "See the caveats in the documentation: https://pandas.pydata.org/pandas-docs/stable/user_guide/indexing.html#returning-a-view-versus-a-copy\n",
      "  max_log['shifted'] = max_log['login_time'].shift(1)\n"
     ]
    }
   ],
   "source": [
    "max_log['shifted'] = max_log['login_time'].shift(1)"
   ]
  },
  {
   "cell_type": "code",
   "execution_count": 149,
   "metadata": {},
   "outputs": [
    {
     "data": {
      "text/html": [
       "<div>\n",
       "<style scoped>\n",
       "    .dataframe tbody tr th:only-of-type {\n",
       "        vertical-align: middle;\n",
       "    }\n",
       "\n",
       "    .dataframe tbody tr th {\n",
       "        vertical-align: top;\n",
       "    }\n",
       "\n",
       "    .dataframe thead th {\n",
       "        text-align: right;\n",
       "    }\n",
       "</style>\n",
       "<table border=\"1\" class=\"dataframe\">\n",
       "  <thead>\n",
       "    <tr style=\"text-align: right;\">\n",
       "      <th></th>\n",
       "      <th>user_id</th>\n",
       "      <th>login_time</th>\n",
       "      <th>shifted</th>\n",
       "    </tr>\n",
       "  </thead>\n",
       "  <tbody>\n",
       "    <tr>\n",
       "      <th>11</th>\n",
       "      <td>413</td>\n",
       "      <td>2017-01-09 12:29:25</td>\n",
       "      <td>NaT</td>\n",
       "    </tr>\n",
       "    <tr>\n",
       "      <th>12</th>\n",
       "      <td>413</td>\n",
       "      <td>2017-01-09 12:40:39</td>\n",
       "      <td>2017-01-09 12:29:25</td>\n",
       "    </tr>\n",
       "    <tr>\n",
       "      <th>14</th>\n",
       "      <td>413</td>\n",
       "      <td>2017-01-09 14:08:04</td>\n",
       "      <td>2017-01-09 12:40:39</td>\n",
       "    </tr>\n",
       "    <tr>\n",
       "      <th>33</th>\n",
       "      <td>413</td>\n",
       "      <td>2017-01-10 14:36:23</td>\n",
       "      <td>2017-01-09 14:08:04</td>\n",
       "    </tr>\n",
       "    <tr>\n",
       "      <th>35</th>\n",
       "      <td>413</td>\n",
       "      <td>2017-01-10 15:22:45</td>\n",
       "      <td>2017-01-10 14:36:23</td>\n",
       "    </tr>\n",
       "    <tr>\n",
       "      <th>...</th>\n",
       "      <td>...</td>\n",
       "      <td>...</td>\n",
       "      <td>...</td>\n",
       "    </tr>\n",
       "    <tr>\n",
       "      <th>2963</th>\n",
       "      <td>413</td>\n",
       "      <td>2017-12-30 13:41:21</td>\n",
       "      <td>2017-12-29 18:20:32</td>\n",
       "    </tr>\n",
       "    <tr>\n",
       "      <th>2974</th>\n",
       "      <td>413</td>\n",
       "      <td>2018-01-01 15:16:25</td>\n",
       "      <td>2017-12-30 13:41:21</td>\n",
       "    </tr>\n",
       "    <tr>\n",
       "      <th>2982</th>\n",
       "      <td>413</td>\n",
       "      <td>2018-01-02 18:15:45</td>\n",
       "      <td>2018-01-01 15:16:25</td>\n",
       "    </tr>\n",
       "    <tr>\n",
       "      <th>2997</th>\n",
       "      <td>413</td>\n",
       "      <td>2018-01-04 10:43:43</td>\n",
       "      <td>2018-01-02 18:15:45</td>\n",
       "    </tr>\n",
       "    <tr>\n",
       "      <th>login_time</th>\n",
       "      <td>NaT</td>\n",
       "      <td>NaT</td>\n",
       "      <td>2018-01-04 10:43:43</td>\n",
       "    </tr>\n",
       "  </tbody>\n",
       "</table>\n",
       "<p>223 rows × 3 columns</p>\n",
       "</div>"
      ],
      "text/plain": [
       "           user_id          login_time             shifted\n",
       "11             413 2017-01-09 12:29:25                 NaT\n",
       "12             413 2017-01-09 12:40:39 2017-01-09 12:29:25\n",
       "14             413 2017-01-09 14:08:04 2017-01-09 12:40:39\n",
       "33             413 2017-01-10 14:36:23 2017-01-09 14:08:04\n",
       "35             413 2017-01-10 15:22:45 2017-01-10 14:36:23\n",
       "...            ...                 ...                 ...\n",
       "2963           413 2017-12-30 13:41:21 2017-12-29 18:20:32\n",
       "2974           413 2018-01-01 15:16:25 2017-12-30 13:41:21\n",
       "2982           413 2018-01-02 18:15:45 2018-01-01 15:16:25\n",
       "2997           413 2018-01-04 10:43:43 2018-01-02 18:15:45\n",
       "login_time     NaT                 NaT 2018-01-04 10:43:43\n",
       "\n",
       "[223 rows x 3 columns]"
      ]
     },
     "execution_count": 149,
     "metadata": {},
     "output_type": "execute_result"
    }
   ],
   "source": [
    "max_log"
   ]
  },
  {
   "cell_type": "code",
   "execution_count": 150,
   "metadata": {},
   "outputs": [
    {
     "data": {
      "text/plain": [
       "11                       NaT\n",
       "12           0 days 00:11:14\n",
       "14           0 days 01:27:25\n",
       "33           1 days 00:28:19\n",
       "35           0 days 00:46:22\n",
       "                   ...      \n",
       "2963         0 days 19:20:49\n",
       "2974         2 days 01:35:04\n",
       "2982         1 days 02:59:20\n",
       "2997         1 days 16:27:58\n",
       "login_time               NaT\n",
       "Length: 223, dtype: timedelta64[ns]"
      ]
     },
     "execution_count": 150,
     "metadata": {},
     "output_type": "execute_result"
    }
   ],
   "source": [
    "max_log['login_time'] - max_log['shifted']"
   ]
  },
  {
   "cell_type": "code",
   "execution_count": 151,
   "metadata": {},
   "outputs": [
    {
     "data": {
      "text/plain": [
       "Timedelta('1 days 15:05:13.384615384')"
      ]
     },
     "execution_count": 151,
     "metadata": {},
     "output_type": "execute_result"
    }
   ],
   "source": [
    "(max_log['login_time'] - max_log['shifted']).mean()"
   ]
  },
  {
   "cell_type": "code",
   "execution_count": 153,
   "metadata": {},
   "outputs": [
    {
     "data": {
      "text/plain": [
       "0       2017-01-07 18:24:07\n",
       "1       2017-01-07 18:24:55\n",
       "2       2017-01-07 18:25:18\n",
       "3       2017-01-07 18:26:21\n",
       "4       2017-01-07 19:09:59\n",
       "               ...         \n",
       "2998    2018-01-04 10:48:28\n",
       "2999    2018-01-04 11:22:00\n",
       "3000    2018-01-04 13:13:44\n",
       "3001    2018-01-04 13:13:45\n",
       "3002    2018-01-04 14:10:04\n",
       "Name: login_time, Length: 3003, dtype: object"
      ]
     },
     "execution_count": 153,
     "metadata": {},
     "output_type": "execute_result"
    }
   ],
   "source": [
    "login.login_time"
   ]
  },
  {
   "cell_type": "code",
   "execution_count": null,
   "metadata": {},
   "outputs": [],
   "source": []
  }
 ],
 "metadata": {
  "kernelspec": {
   "display_name": "Python 3",
   "language": "python",
   "name": "python3"
  },
  "language_info": {
   "codemirror_mode": {
    "name": "ipython",
    "version": 3
   },
   "file_extension": ".py",
   "mimetype": "text/x-python",
   "name": "python",
   "nbconvert_exporter": "python",
   "pygments_lexer": "ipython3",
   "version": "3.11.5"
  }
 },
 "nbformat": 4,
 "nbformat_minor": 2
}
